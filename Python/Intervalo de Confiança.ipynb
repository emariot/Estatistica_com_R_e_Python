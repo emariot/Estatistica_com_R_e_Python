{
 "cells": [
  {
   "cell_type": "markdown",
   "metadata": {},
   "source": [
    "# Intervalo de Confiança\n",
    "## Intervalo de Confiança é  uma estimativa de um intervalo que contém um parâmetro populacional.\n",
    "\n",
    "* Exemplo: a média de uma amostra pode ou não coincidir com a média popupacional. Portanto, deve-se considerar um intervalo de médias amostrais onde a média populcional possa estar contida. Quanto maior este intervalo de médias, maior a probabilidade deconter a média populacional.\n",
    "* O intervalo de confiança é importante para indicar a mrgem de incereza, quanto mais extreito, mior a probabilidade da porcentagem da população de estudo representar o número real da população de origem, proporcionando maior certeza ao resultado do objeto de estudo. \n"
   ]
  },
  {
   "cell_type": "markdown",
   "metadata": {},
   "source": [
    "### Etapas para se calcular o Intervalo de Confiança\n",
    "* Reunir os dados da amostra;\n",
    "* Calcular a média da amostra;\n",
    "* Determinar se o desvio padrão é conhecido, se sim utiliza-se o ponto <strong>z*</strong>, caso contrário, utiliza-se estatística <strong>t</strong> para o nível de confainça correspondente;\n",
    "* Encontra-se os limites inferior e superior do intervado de confiança usando a fórmula\n",
    "* Quanto maior a margem de erro as chances da amostra estar no intervalo é maior\n",
    "* Quanto maior a amostra, menor a margem de erro.\n"
   ]
  },
  {
   "cell_type": "code",
   "execution_count": 1,
   "metadata": {},
   "outputs": [
    {
     "name": "stdout",
     "output_type": "stream",
     "text": [
      "A margem de erro é +/- 215.60. \n",
      "O salário médio está entre R$ 5,584.40 e R$ 6,015.60. \n",
      "Com nível de confiança de 95%.\n"
     ]
    }
   ],
   "source": [
    "import math\n",
    "# EXEMPLO NUMÉRICO\n",
    "# Estimar o salário médio em uma amóstra de 100 pessoas, tendo a médi de salários de 5.800,00, desvio padrão de 1.100,00\n",
    "# com 95%¨de nível de confiança.\n",
    "n = 100\n",
    "dp = 1100.00\n",
    "media = 5800.00\n",
    "z = 1.96\n",
    "mc = z*(dp/math.sqrt(n))\n",
    "print('A margem de erro é +/- {:,.2f}. \\nO salário médio está entre R$ {:,.2f} e R$ {:,.2f}. \\nCom nível de confiança de 95%.'.format(mc, media-mc, media+mc))"
   ]
  },
  {
   "cell_type": "code",
   "execution_count": 2,
   "metadata": {},
   "outputs": [
    {
     "name": "stdout",
     "output_type": "stream",
     "text": [
      "Aumentando a amostra 10 vezes a margem de erro cai 3 vezes, de +/- 215.60 para +/- 68.18. \n",
      "O salário médio está entre R$ 5,731.82 e R$ 5,868.18. \n",
      "Com nível de confiança de 95%.\n"
     ]
    }
   ],
   "source": [
    "# Aumentando a amostra em 10 vezes, para n2 = 1000.\n",
    "n2 = 1000\n",
    "z = 1.96\n",
    "mc2 = z*(dp/math.sqrt(n2))\n",
    "print('Aumentando a amostra 10 vezes a margem de erro cai 3 vezes, de +/- {:,.2f} para +/- {:,.2f}. \\nO salário médio está entre R$ {:,.2f} e R$ {:,.2f}. \\nCom nível de confiança de 95%.'.format(mc, mc2, media-mc2, media+mc2))"
   ]
  },
  {
   "cell_type": "code",
   "execution_count": 3,
   "metadata": {},
   "outputs": [
    {
     "name": "stdout",
     "output_type": "stream",
     "text": [
      "Entre 62 e 68% dos entrevistados pretendem votar em X, com nível de confiança de 95%\n"
     ]
    }
   ],
   "source": [
    "# Intervalo de confiança para proporção\n",
    "# Estimar a proporção de eleitores que pretendem votar no candidato X\n",
    "# Intervalo de Confiança de 95%\n",
    "eleitores = 1000\n",
    "# 650 eleitores afirmaram que irão votar no candidato X\n",
    "px = 650/1000\n",
    "# 330 afirmaram que pretendem votar no candidato y\n",
    "py = 330/1000\n",
    "# 20 não sabem \n",
    "pn = 20/1000\n",
    "z = 1.96\n",
    "mp = round(z* math.sqrt(px*(1-px)/1000),2)\n",
    "print('Entre {:.0f} e {:.0f}% dos entrevistados pretendem votar em X, com nível de confiança de 95%'.format((px - mp)*100, (px + mp)*100))"
   ]
  },
  {
   "cell_type": "markdown",
   "metadata": {},
   "source": [
    "## Tabela de Valores Z*"
   ]
  },
  {
   "cell_type": "markdown",
   "metadata": {},
   "source": [
    "<table border=\"2\" align=left  width=50%>\n",
    "<tr>\n",
    "<th>Nível de Confiança</th>\n",
    "<th>Valor de Z*</th>\n",
    "</tr>\n",
    "<tr>\n",
    "<td >80%</td>\n",
    "<td>1.28</td>\n",
    "</tr>\n",
    "<tr>\n",
    "<td>90%</td>\n",
    "<td>1.645</td>\n",
    "</tr>\n",
    "<tr>\n",
    "<td>95%</td>\n",
    "<td>1.96</td>\n",
    "</tr>\n",
    "<tr>\n",
    "<td>98%</td>\n",
    "<td>2.33</td>\n",
    "</tr>\n",
    "<tr>\n",
    "<td>99%</td>\n",
    "<td>2.58</td>\n",
    "</tr>\n",
    "</table>"
   ]
  },
  {
   "cell_type": "raw",
   "metadata": {},
   "source": [
    "## Intervalo de Confiança com dados Iris Dataset"
   ]
  },
  {
   "cell_type": "code",
   "execution_count": 251,
   "metadata": {},
   "outputs": [],
   "source": [
    "import pandas as pd\n",
    "import seaborn as sns\n",
    "import matplotlib.pyplot as plt\n",
    "import scipy.stats as stats"
   ]
  },
  {
   "cell_type": "code",
   "execution_count": 180,
   "metadata": {},
   "outputs": [],
   "source": [
    "iris = sns.load_dataset('iris')"
   ]
  },
  {
   "cell_type": "code",
   "execution_count": 187,
   "metadata": {},
   "outputs": [
    {
     "data": {
      "text/html": [
       "<div>\n",
       "<style scoped>\n",
       "    .dataframe tbody tr th:only-of-type {\n",
       "        vertical-align: middle;\n",
       "    }\n",
       "\n",
       "    .dataframe tbody tr th {\n",
       "        vertical-align: top;\n",
       "    }\n",
       "\n",
       "    .dataframe thead th {\n",
       "        text-align: right;\n",
       "    }\n",
       "</style>\n",
       "<table border=\"1\" class=\"dataframe\">\n",
       "  <thead>\n",
       "    <tr style=\"text-align: right;\">\n",
       "      <th></th>\n",
       "      <th>count</th>\n",
       "      <th>mean</th>\n",
       "      <th>std</th>\n",
       "      <th>min</th>\n",
       "      <th>25%</th>\n",
       "      <th>50%</th>\n",
       "      <th>75%</th>\n",
       "      <th>max</th>\n",
       "    </tr>\n",
       "  </thead>\n",
       "  <tbody>\n",
       "    <tr>\n",
       "      <th>sepal_length</th>\n",
       "      <td>150.0</td>\n",
       "      <td>5.843333</td>\n",
       "      <td>0.828066</td>\n",
       "      <td>4.3</td>\n",
       "      <td>5.1</td>\n",
       "      <td>5.80</td>\n",
       "      <td>6.4</td>\n",
       "      <td>7.9</td>\n",
       "    </tr>\n",
       "    <tr>\n",
       "      <th>sepal_width</th>\n",
       "      <td>150.0</td>\n",
       "      <td>3.057333</td>\n",
       "      <td>0.435866</td>\n",
       "      <td>2.0</td>\n",
       "      <td>2.8</td>\n",
       "      <td>3.00</td>\n",
       "      <td>3.3</td>\n",
       "      <td>4.4</td>\n",
       "    </tr>\n",
       "    <tr>\n",
       "      <th>petal_length</th>\n",
       "      <td>150.0</td>\n",
       "      <td>3.758000</td>\n",
       "      <td>1.765298</td>\n",
       "      <td>1.0</td>\n",
       "      <td>1.6</td>\n",
       "      <td>4.35</td>\n",
       "      <td>5.1</td>\n",
       "      <td>6.9</td>\n",
       "    </tr>\n",
       "    <tr>\n",
       "      <th>petal_width</th>\n",
       "      <td>150.0</td>\n",
       "      <td>1.199333</td>\n",
       "      <td>0.762238</td>\n",
       "      <td>0.1</td>\n",
       "      <td>0.3</td>\n",
       "      <td>1.30</td>\n",
       "      <td>1.8</td>\n",
       "      <td>2.5</td>\n",
       "    </tr>\n",
       "  </tbody>\n",
       "</table>\n",
       "</div>"
      ],
      "text/plain": [
       "              count      mean       std  min  25%   50%  75%  max\n",
       "sepal_length  150.0  5.843333  0.828066  4.3  5.1  5.80  6.4  7.9\n",
       "sepal_width   150.0  3.057333  0.435866  2.0  2.8  3.00  3.3  4.4\n",
       "petal_length  150.0  3.758000  1.765298  1.0  1.6  4.35  5.1  6.9\n",
       "petal_width   150.0  1.199333  0.762238  0.1  0.3  1.30  1.8  2.5"
      ]
     },
     "execution_count": 187,
     "metadata": {},
     "output_type": "execute_result"
    }
   ],
   "source": [
    "iris.describe().transpose()"
   ]
  },
  {
   "cell_type": "code",
   "execution_count": 195,
   "metadata": {},
   "outputs": [
    {
     "data": {
      "text/plain": [
       "array(['setosa', 'versicolor', 'virginica'], dtype=object)"
      ]
     },
     "execution_count": 195,
     "metadata": {},
     "output_type": "execute_result"
    }
   ],
   "source": [
    "iris.species.unique()"
   ]
  },
  {
   "cell_type": "code",
   "execution_count": 208,
   "metadata": {},
   "outputs": [
    {
     "data": {
      "text/html": [
       "<div>\n",
       "<style scoped>\n",
       "    .dataframe tbody tr th:only-of-type {\n",
       "        vertical-align: middle;\n",
       "    }\n",
       "\n",
       "    .dataframe tbody tr th {\n",
       "        vertical-align: top;\n",
       "    }\n",
       "\n",
       "    .dataframe thead th {\n",
       "        text-align: right;\n",
       "    }\n",
       "</style>\n",
       "<table border=\"1\" class=\"dataframe\">\n",
       "  <thead>\n",
       "    <tr style=\"text-align: right;\">\n",
       "      <th></th>\n",
       "      <th>sepal_length</th>\n",
       "      <th>sepal_width</th>\n",
       "      <th>petal_length</th>\n",
       "      <th>petal_width</th>\n",
       "      <th>species</th>\n",
       "    </tr>\n",
       "  </thead>\n",
       "  <tbody>\n",
       "    <tr>\n",
       "      <th>0</th>\n",
       "      <td>5.1</td>\n",
       "      <td>3.5</td>\n",
       "      <td>1.4</td>\n",
       "      <td>0.2</td>\n",
       "      <td>setosa</td>\n",
       "    </tr>\n",
       "    <tr>\n",
       "      <th>1</th>\n",
       "      <td>4.9</td>\n",
       "      <td>3.0</td>\n",
       "      <td>1.4</td>\n",
       "      <td>0.2</td>\n",
       "      <td>setosa</td>\n",
       "    </tr>\n",
       "    <tr>\n",
       "      <th>2</th>\n",
       "      <td>4.7</td>\n",
       "      <td>3.2</td>\n",
       "      <td>1.3</td>\n",
       "      <td>0.2</td>\n",
       "      <td>setosa</td>\n",
       "    </tr>\n",
       "    <tr>\n",
       "      <th>3</th>\n",
       "      <td>4.6</td>\n",
       "      <td>3.1</td>\n",
       "      <td>1.5</td>\n",
       "      <td>0.2</td>\n",
       "      <td>setosa</td>\n",
       "    </tr>\n",
       "    <tr>\n",
       "      <th>4</th>\n",
       "      <td>5.0</td>\n",
       "      <td>3.6</td>\n",
       "      <td>1.4</td>\n",
       "      <td>0.2</td>\n",
       "      <td>setosa</td>\n",
       "    </tr>\n",
       "  </tbody>\n",
       "</table>\n",
       "</div>"
      ],
      "text/plain": [
       "   sepal_length  sepal_width  petal_length  petal_width species\n",
       "0           5.1          3.5           1.4          0.2  setosa\n",
       "1           4.9          3.0           1.4          0.2  setosa\n",
       "2           4.7          3.2           1.3          0.2  setosa\n",
       "3           4.6          3.1           1.5          0.2  setosa\n",
       "4           5.0          3.6           1.4          0.2  setosa"
      ]
     },
     "execution_count": 208,
     "metadata": {},
     "output_type": "execute_result"
    }
   ],
   "source": [
    "setosa.head()"
   ]
  },
  {
   "cell_type": "code",
   "execution_count": 205,
   "metadata": {},
   "outputs": [],
   "source": [
    "setosa = iris.loc[iris['species'] == 'setosa']\n",
    "versicolor = iris.loc[iris['species'] == 'versicolor']\n",
    "virginica = iris.loc[iris['species'] == 'virginica']"
   ]
  },
  {
   "cell_type": "markdown",
   "metadata": {},
   "source": [
    "## Plotando o comprimento das pétalas das espécies\n",
    "### Por meio da plotagem das espécies, podemos verificar que as pétalas da classe virgínica tem uma maior dispersão do comprimento de suas pétalas. A classe das Setosas possui maior quantidade de valores discrepantes, ao mesmo tempo que possui valores mais concentrados com uma menor amplitude dos dados. As três espécies possui uma mediana próxima da média "
   ]
  },
  {
   "cell_type": "code",
   "execution_count": 221,
   "metadata": {},
   "outputs": [
    {
     "data": {
      "image/png": "[encoded data removed]",
      "text/plain": [
       "<Figure size 720x432 with 3 Axes>"
      ]
     },
     "metadata": {
      "needs_background": "light"
     },
     "output_type": "display_data"
    }
   ],
   "source": [
    "fig, axes = plt.subplots(1,3, figsize=(10, 6))\n",
    "axes[0].boxplot(setosa.petal_length)\n",
    "axes[0].set_title('Setosa')\n",
    "axes[0].grid(True)\n",
    "\n",
    "axes[1].boxplot(versicolor.petal_length)\n",
    "axes[1].set_title('Versicolor')\n",
    "axes[1].grid(True)\n",
    "\n",
    "axes[2].boxplot(virginica.petal_length)\n",
    "axes[2].set_title('Virgínica')\n",
    "axes[2].grid(True)\n"
   ]
  },
  {
   "cell_type": "markdown",
   "metadata": {},
   "source": [
    "## Aqui podemos verificar que  classe virgínica possui petalas com comprimento substancialmente maiores que s demais espécies"
   ]
  },
  {
   "cell_type": "code",
   "execution_count": 230,
   "metadata": {},
   "outputs": [
    {
     "data": {
      "image/png": "[encoded data removed]",
      "text/plain": [
       "<Figure size 720x432 with 1 Axes>"
      ]
     },
     "metadata": {
      "needs_background": "light"
     },
     "output_type": "display_data"
    }
   ],
   "source": [
    "fig = plt.figure(figsize=(10, 6))\n",
    "ax = fig.add_subplot()\n",
    "ax.boxplot([setosa.petal_length, versicolor.petal_length,virginica.petal_length], labels = ['setosa', 'versicolor', 'virginica'])\n",
    "ax.grid(True)"
   ]
  },
  {
   "cell_type": "markdown",
   "metadata": {},
   "source": [
    "## Intervalo de Confiança do Comprimento ds pétalas das Três Espécies"
   ]
  },
  {
   "cell_type": "code",
   "execution_count": 271,
   "metadata": {},
   "outputs": [
    {
     "data": {
      "image/png": "[encoded data removed]",
      "text/plain": [
       "<Figure size 720x432 with 3 Axes>"
      ]
     },
     "metadata": {
      "needs_background": "light"
     },
     "output_type": "display_data"
    }
   ],
   "source": [
    "media_setosa = np.mean(setosa.petal_length)\n",
    "dp_setosa = np.std(setosa.petal_length, ddof=1)\n",
    "n_setosa = setosa.shape[0]\n",
    "int_setosa = stats.norm.interval(0.95, loc=media_setosa, scale=dp_setosa/np.sqrt(n_setosa))\n",
    "\n",
    "media_versicolor = np.mean(versicolor.petal_length)\n",
    "dp_versicolor = np.std(versicolor.petal_length, ddof=1)\n",
    "n_versicolor = versicolor.shape[0]\n",
    "int_versicolor = stats.norm.interval(0.95, loc=media_versicolor, scale=dp_versicolor/np.sqrt(n_versicolor))\n",
    "\n",
    "media_virginica = np.mean(virginica.petal_length)\n",
    "dp_virginica = np.std(virginica.petal_length, ddof=1)\n",
    "n_virginica = virginica.shape[0]\n",
    "int_virginica = stats.norm.interval(0.95, loc=media_virginica, scale=dp_virginica/np.sqrt(n_virginica))\n",
    "\n",
    "\n",
    "fig, axes = plt.subplots(1,3, figsize=(10, 6))\n",
    "erro1 = [media_setosa - int_setosa[0]]\n",
    "axes[0].errorbar([0], [media_setosa], yerr=erro1, fmt='o')\n",
    "axes[0].set_title('Setosa')\n",
    "axes[0].grid(True)\n",
    "\n",
    "erro2 = [media_versicolor - int_versicolor[0]]\n",
    "axes[1].errorbar([0], [media_versicolor], yerr=erro2, fmt='o')\n",
    "axes[1].set_title('Versicolor')\n",
    "axes[1].grid(True)\n",
    "\n",
    "erro3 = [media_virginica - int_virginica[0]]\n",
    "axes[2].errorbar([0], [media_virginica], yerr=erro3, fmt='o')\n",
    "axes[2].set_title('Virgínica')\n",
    "axes[2].grid(True)"
   ]
  },
  {
   "cell_type": "code",
   "execution_count": 270,
   "metadata": {},
   "outputs": [
    {
     "data": {
      "image/png": "[encoded data removed]",
      "text/plain": [
       "<Figure size 432x288 with 1 Axes>"
      ]
     },
     "metadata": {
      "needs_background": "light"
     },
     "output_type": "display_data"
    }
   ],
   "source": [
    "media_setosa = np.mean(setosa.petal_length)\n",
    "dp_setosa = np.std(setosa.petal_length, ddof=1)\n",
    "n_setosa = setosa.shape[0]\n",
    "int_setosa = stats.norm.interval(0.95, loc=media_setosa, scale=dp_setosa/np.sqrt(n_setosa))\n",
    "\n",
    "media_versicolor = np.mean(versicolor.petal_length)\n",
    "dp_versicolor = np.std(versicolor.petal_length, ddof=1)\n",
    "n_versicolor = versicolor.shape[0]\n",
    "int_versicolor = stats.norm.interval(0.95, loc=media_versicolor, scale=dp_versicolor/np.sqrt(n_versicolor))\n",
    "\n",
    "media_virginica = np.mean(virginica.petal_length)\n",
    "dp_virginica = np.std(virginica.petal_length, ddof=1)\n",
    "n_virginica = virginica.shape[0]\n",
    "int_virginica = stats.norm.interval(0.95, loc=media_virginica, scale=dp_virginica/np.sqrt(n_virginica))\n",
    "\n",
    "fig = plt.figure()\n",
    "ax = fig.add_subplot(111)\n",
    "erro = [media_setosa - int_setosa[0], media_versicolor - int_versicolor[0], media_virginica - int_virginica[0]]\n",
    "ax.errorbar([0, 1, 2], [media_setosa, media_versicolor,  media_virginica], yerr=erro, fmt='o')\n",
    "labels = ['setosa', 'versicolor', 'virginica']\n",
    "x_pos = np.arange(len(labels))\n",
    "\n",
    "ax.set_xticks(x_pos)\n",
    "ax.set_xticklabels(labels)\n",
    "ax.set_title('Intervalo de Confiança para o Comprimento das Pétalas')\n",
    "ax.set_ylabel('Comprimento das Pétalas')\n",
    "ax.set_xlabel('Espécies')\n",
    "ax.grid(True)"
   ]
  },
  {
   "cell_type": "markdown",
   "metadata": {},
   "source": [
    "## Intervalos de Confiança"
   ]
  },
  {
   "cell_type": "code",
   "execution_count": 254,
   "metadata": {},
   "outputs": [
    {
     "data": {
      "text/plain": [
       "(1.413863680625253, 1.5101363193747475)"
      ]
     },
     "execution_count": 254,
     "metadata": {},
     "output_type": "execute_result"
    }
   ],
   "source": [
    "int_setosa"
   ]
  },
  {
   "cell_type": "code",
   "execution_count": 256,
   "metadata": {},
   "outputs": [
    {
     "data": {
      "text/plain": [
       "(4.129749715907849, 4.390250284092151)"
      ]
     },
     "execution_count": 256,
     "metadata": {},
     "output_type": "execute_result"
    }
   ],
   "source": [
    "int_versicolor"
   ]
  },
  {
   "cell_type": "code",
   "execution_count": 258,
   "metadata": {},
   "outputs": [
    {
     "data": {
      "text/plain": [
       "(5.399025406128196, 5.704974593871803)"
      ]
     },
     "execution_count": 258,
     "metadata": {},
     "output_type": "execute_result"
    }
   ],
   "source": [
    "int_virginica\n"
   ]
  },
  {
   "cell_type": "code",
   "execution_count": null,
   "metadata": {},
   "outputs": [],
   "source": []
  }
 ],
 "metadata": {
  "kernelspec": {
   "display_name": "Python 3",
   "language": "python",
   "name": "python3"
  },
  "language_info": {
   "codemirror_mode": {
    "name": "ipython",
    "version": 3
   },
   "file_extension": ".py",
   "mimetype": "text/x-python",
   "name": "python",
   "nbconvert_exporter": "python",
   "pygments_lexer": "ipython3",
   "version": "3.8.3"
  }
 },
 "nbformat": 4,
 "nbformat_minor": 4
}
