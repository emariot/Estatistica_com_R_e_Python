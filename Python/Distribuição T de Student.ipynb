{
 "cells": [
  {
   "cell_type": "markdown",
   "metadata": {},
   "source": [
    "# Distribuição T de Student\n",
    "* Utilizada quando a amostra é pequena (menor que 30)\n",
    "* Não se conhece o desvio padrão da população\n",
    "* Maior variabilidade e caldas maiores\n",
    "* Se n >= 30 ela se assemelha a uma distribuição normal\n",
    "* Grau de liberdade = (n-1)"
   ]
  },
  {
   "cell_type": "markdown",
   "metadata": {},
   "source": [
    "## Exemplo 01\n",
    "### Uma pesquisa mostra que o salário em determindo setor industrial é de 75.00 por hora. Um amostra com 9 profissionais é selecionda e perguntado o salário. O desvio padrão da amostra é de 10. Qual a probabilidade do salário ser menor que 80.00 por hora?"
   ]
  },
  {
   "cell_type": "code",
   "execution_count": 1,
   "metadata": {},
   "outputs": [],
   "source": [
    "from scipy.stats import t"
   ]
  },
  {
   "cell_type": "code",
   "execution_count": 9,
   "metadata": {},
   "outputs": [
    {
     "name": "stdout",
     "output_type": "stream",
     "text": [
      "A probabilidade de ser menor que 80.00 é de: 0.914\n"
     ]
    }
   ],
   "source": [
    "# media = 75\n",
    "# amostra = 9\n",
    "# dp = 10\n",
    "# < 80\n",
    "# t = 1.5\n",
    "prob1 = round(t.cdf(1.5,8), 4) #cdf par valores menores\n",
    "print('A probabilidade de ser menor que 80.00 é de:', prob1)"
   ]
  },
  {
   "cell_type": "markdown",
   "metadata": {},
   "source": [
    "### Qual a probabilidade do salário ser maior que 80.00 a hora?"
   ]
  },
  {
   "cell_type": "code",
   "execution_count": 8,
   "metadata": {},
   "outputs": [
    {
     "name": "stdout",
     "output_type": "stream",
     "text": [
      "A probabilidade de ser maior que 80.00 é de: 0.086\n"
     ]
    }
   ],
   "source": [
    "# media = 75\n",
    "# amostra = 9\n",
    "# dp = 10\n",
    "# > 80\n",
    "# t = 1.5\n",
    "prob2 = round(t.sf(1.5,8), 4) #sf para considerar o lado direito da distribuição  \n",
    "print('A probabilidade de ser maior que 80.00 é de:', prob2)"
   ]
  },
  {
   "cell_type": "code",
   "execution_count": 7,
   "metadata": {},
   "outputs": [
    {
     "name": "stdout",
     "output_type": "stream",
     "text": [
      "Probbilidade total = 1.0\n"
     ]
    }
   ],
   "source": [
    "print('Probabilidade total =', prob1+prob2)"
   ]
  },
  {
   "cell_type": "code",
   "execution_count": null,
   "metadata": {},
   "outputs": [],
   "source": []
  }
 ],
 "metadata": {
  "kernelspec": {
   "display_name": "Python 3",
   "language": "python",
   "name": "python3"
  },
  "language_info": {
   "codemirror_mode": {
    "name": "ipython",
    "version": 3
   },
   "file_extension": ".py",
   "mimetype": "text/x-python",
   "name": "python",
   "nbconvert_exporter": "python",
   "pygments_lexer": "ipython3",
   "version": "3.8.3"
  }
 },
 "nbformat": 4,
 "nbformat_minor": 4
}
