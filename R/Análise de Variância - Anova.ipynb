{
 "cells": [
  {
   "cell_type": "markdown",
   "metadata": {},
   "source": [
    "# Anova\n",
    "## Procura variação em um conjunto de dados. Visa verificar se existe uma diferença significativa entre as médias e se os fatores exercem influência em alguma variável dependente."
   ]
  },
  {
   "cell_type": "code",
   "execution_count": 3,
   "metadata": {},
   "outputs": [
    {
     "data": {
      "text/html": [
       "<table>\n",
       "<thead><tr><th scope=col>Sexo</th><th scope=col>Remedio</th><th scope=col>Horas</th></tr></thead>\n",
       "<tbody>\n",
       "\t<tr><td>F </td><td>A </td><td> 5</td></tr>\n",
       "\t<tr><td>F </td><td>A </td><td>10</td></tr>\n",
       "\t<tr><td>F </td><td>A </td><td> 7</td></tr>\n",
       "\t<tr><td>F </td><td>A </td><td> 7</td></tr>\n",
       "\t<tr><td>M </td><td>A </td><td> 7</td></tr>\n",
       "\t<tr><td>M </td><td>A </td><td> 6</td></tr>\n",
       "</tbody>\n",
       "</table>\n"
      ],
      "text/latex": [
       "\\begin{tabular}{r|lll}\n",
       " Sexo & Remedio & Horas\\\\\n",
       "\\hline\n",
       "\t F  & A  &  5\\\\\n",
       "\t F  & A  & 10\\\\\n",
       "\t F  & A  &  7\\\\\n",
       "\t F  & A  &  7\\\\\n",
       "\t M  & A  &  7\\\\\n",
       "\t M  & A  &  6\\\\\n",
       "\\end{tabular}\n"
      ],
      "text/markdown": [
       "\n",
       "| Sexo | Remedio | Horas |\n",
       "|---|---|---|\n",
       "| F  | A  |  5 |\n",
       "| F  | A  | 10 |\n",
       "| F  | A  |  7 |\n",
       "| F  | A  |  7 |\n",
       "| M  | A  |  7 |\n",
       "| M  | A  |  6 |\n",
       "\n"
      ],
      "text/plain": [
       "  Sexo Remedio Horas\n",
       "1 F    A        5   \n",
       "2 F    A       10   \n",
       "3 F    A        7   \n",
       "4 F    A        7   \n",
       "5 M    A        7   \n",
       "6 M    A        6   "
      ]
     },
     "metadata": {},
     "output_type": "display_data"
    }
   ],
   "source": [
    "df = read.csv(\"dataset/anova.csv\", sep=\";\")\n",
    "head(df)"
   ]
  },
  {
   "cell_type": "code",
   "execution_count": 4,
   "metadata": {},
   "outputs": [
    {
     "data": {
      "image/png": "[encoded data removed]",
      "text/plain": [
       "plot without title"
      ]
     },
     "metadata": {},
     "output_type": "display_data"
    }
   ],
   "source": [
    "boxplot(df$Horas ~ df$Remedio)"
   ]
  },
  {
   "cell_type": "code",
   "execution_count": null,
   "metadata": {},
   "outputs": [],
   "source": []
  },
  {
   "cell_type": "code",
   "execution_count": 9,
   "metadata": {},
   "outputs": [
    {
     "data": {
      "text/plain": [
       "            Df Sum Sq Mean Sq F value Pr(>F)\n",
       "Remedio      2   4.08   2.042   0.538  0.592\n",
       "Residuals   21  79.75   3.798               "
      ]
     },
     "metadata": {},
     "output_type": "display_data"
    }
   ],
   "source": [
    "# Valor de P com análise de variância:\n",
    "# observar se o valor do p ´maior que 0.05\n",
    "# Hipótese nula de que não há difrença significativa\n",
    "# Resultado: não há videncias contra a hipótese nula\n",
    "an = aov(Horas ~ Remedio, data=df)\n",
    "summary(an)"
   ]
  },
  {
   "cell_type": "code",
   "execution_count": 10,
   "metadata": {},
   "outputs": [
    {
     "data": {
      "text/plain": [
       "             Df Sum Sq Mean Sq F value Pr(>F)\n",
       "Remedio       2   4.08   2.042   0.533  0.596\n",
       "Sexo          1   4.17   4.167   1.087  0.311\n",
       "Remedio:Sexo  2   6.58   3.292   0.859  0.440\n",
       "Residuals    18  69.00   3.833               "
      ]
     },
     "metadata": {},
     "output_type": "display_data"
    }
   ],
   "source": [
    "# Análise com dois fatores\n",
    "an2 = aov(Horas ~ Remedio*Sexo, data=df)\n",
    "summary(an2)"
   ]
  },
  {
   "cell_type": "code",
   "execution_count": 12,
   "metadata": {},
   "outputs": [
    {
     "data": {
      "text/plain": [
       "  Tukey multiple comparisons of means\n",
       "    95% family-wise confidence level\n",
       "\n",
       "Fit: aov(formula = Horas ~ Remedio, data = df)\n",
       "\n",
       "$Remedio\n",
       "      diff       lwr      upr     p adj\n",
       "B-A -0.625 -3.080978 1.830978 0.7991405\n",
       "C-A  0.375 -2.080978 2.830978 0.9218996\n",
       "C-B  1.000 -1.455978 3.455978 0.5689472\n"
      ]
     },
     "metadata": {},
     "output_type": "display_data"
    }
   ],
   "source": [
    "# Análise de todos os pares\n",
    "tukey = TukeyHSD(an)\n",
    "tukey"
   ]
  },
  {
   "cell_type": "code",
   "execution_count": 13,
   "metadata": {},
   "outputs": [
    {
     "data": {
      "image/png": "[encoded data removed]",
      "text/plain": [
       "Plot with title \"95% family-wise confidence level\n",
       "\""
      ]
     },
     "metadata": {},
     "output_type": "display_data"
    }
   ],
   "source": [
    "plot(tukey)"
   ]
  },
  {
   "cell_type": "code",
   "execution_count": null,
   "metadata": {},
   "outputs": [],
   "source": []
  }
 ],
 "metadata": {
  "kernelspec": {
   "display_name": "R",
   "language": "R",
   "name": "ir"
  },
  "language_info": {
   "codemirror_mode": "r",
   "file_extension": ".r",
   "mimetype": "text/x-r-source",
   "name": "R",
   "pygments_lexer": "r",
   "version": "3.6.1"
  }
 },
 "nbformat": 4,
 "nbformat_minor": 4
}
