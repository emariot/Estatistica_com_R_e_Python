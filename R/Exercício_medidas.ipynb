{
 "cells": [
  {
   "cell_type": "markdown",
   "id": "banned-ministry",
   "metadata": {},
   "source": [
    "# Exercício turmas\n",
    "---\n",
    "## De acordo com as notas dos alunos da turma A e B de uma escola, defina:\n",
    "\n",
    "* 1. Um resumo de tipos de dados e estatísticas do dataset\n",
    "* 2. A média da turma\n",
    "* 3. Qual a turma apresentou maior variabilidade\n",
    "* 4. O cálculo do coeficiênte de variação das 2 turmas\n",
    "* 5. A nota que apareceu mais vezes em cada turma"
   ]
  },
  {
   "cell_type": "code",
   "execution_count": 2,
   "id": "paperback-spider",
   "metadata": {},
   "outputs": [],
   "source": [
    "notas = read.csv(\"dataset/Notas.csv\", fileEncoding = \"windows-1252\")"
   ]
  },
  {
   "cell_type": "code",
   "execution_count": 4,
   "id": "arabic-blond",
   "metadata": {},
   "outputs": [
    {
     "name": "stdout",
     "output_type": "stream",
     "text": [
      "'data.frame':\t18 obs. of  2 variables:\n",
      " $ TurmaA: int  83 58 82 76 74 54 54 73 39 46 ...\n",
      " $ TurmaB: int  67 64 49 58 68 56 61 66 71 61 ...\n"
     ]
    }
   ],
   "source": [
    "str(notas)"
   ]
  },
  {
   "cell_type": "markdown",
   "id": "average-primary",
   "metadata": {},
   "source": [
    "### 1. Um resumo de tipos de dados e estatísticas do dataset"
   ]
  },
  {
   "cell_type": "code",
   "execution_count": 11,
   "id": "hairy-charter",
   "metadata": {},
   "outputs": [
    {
     "data": {
      "text/plain": [
       "   Min. 1st Qu.  Median    Mean 3rd Qu.    Max. \n",
       "  39.00   54.00   72.00   66.11   76.75   83.00 "
      ]
     },
     "metadata": {},
     "output_type": "display_data"
    },
    {
     "data": {
      "text/plain": [
       "   Min. 1st Qu.  Median    Mean 3rd Qu.    Max. \n",
       "  49.00   58.50   61.00   61.61   65.50   73.00 "
      ]
     },
     "metadata": {},
     "output_type": "display_data"
    }
   ],
   "source": [
    "summary(notas$TurmaA)\n",
    "summary(notas$TurmaB)"
   ]
  },
  {
   "cell_type": "markdown",
   "id": "conceptual-survival",
   "metadata": {},
   "source": [
    "### 2. Média das turmas"
   ]
  },
  {
   "cell_type": "code",
   "execution_count": 10,
   "id": "bronze-roulette",
   "metadata": {},
   "outputs": [
    {
     "data": {
      "text/html": [
       "66.1111111111111"
      ],
      "text/latex": [
       "66.1111111111111"
      ],
      "text/markdown": [
       "66.1111111111111"
      ],
      "text/plain": [
       "[1] 66.11111"
      ]
     },
     "metadata": {},
     "output_type": "display_data"
    },
    {
     "data": {
      "text/html": [
       "61.6111111111111"
      ],
      "text/latex": [
       "61.6111111111111"
      ],
      "text/markdown": [
       "61.6111111111111"
      ],
      "text/plain": [
       "[1] 61.61111"
      ]
     },
     "metadata": {},
     "output_type": "display_data"
    }
   ],
   "source": [
    "mean(notas$TurmaA)\n",
    "mean(notas$TurmaB)"
   ]
  },
  {
   "cell_type": "markdown",
   "id": "quarterly-strain",
   "metadata": {},
   "source": [
    "### 3. Variabilidade"
   ]
  },
  {
   "cell_type": "code",
   "execution_count": 14,
   "id": "editorial-retro",
   "metadata": {},
   "outputs": [
    {
     "data": {
      "text/html": [
       "14.4828047693438"
      ],
      "text/latex": [
       "14.4828047693438"
      ],
      "text/markdown": [
       "14.4828047693438"
      ],
      "text/plain": [
       "[1] 14.4828"
      ]
     },
     "metadata": {},
     "output_type": "display_data"
    },
    {
     "data": {
      "text/html": [
       "6.18479053702938"
      ],
      "text/latex": [
       "6.18479053702938"
      ],
      "text/markdown": [
       "6.18479053702938"
      ],
      "text/plain": [
       "[1] 6.184791"
      ]
     },
     "metadata": {},
     "output_type": "display_data"
    }
   ],
   "source": [
    "sd(notas$TurmaA)\n",
    "sd(notas$TurmaB)"
   ]
  },
  {
   "cell_type": "markdown",
   "id": "thousand-business",
   "metadata": {},
   "source": [
    "### 4. Coeficiênte de variação"
   ]
  },
  {
   "cell_type": "code",
   "execution_count": 15,
   "id": "advanced-harbor",
   "metadata": {},
   "outputs": [
    {
     "data": {
      "text/html": [
       "21.9067635166545"
      ],
      "text/latex": [
       "21.9067635166545"
      ],
      "text/markdown": [
       "21.9067635166545"
      ],
      "text/plain": [
       "[1] 21.90676"
      ]
     },
     "metadata": {},
     "output_type": "display_data"
    },
    {
     "data": {
      "text/html": [
       "10.0384336940062"
      ],
      "text/latex": [
       "10.0384336940062"
      ],
      "text/markdown": [
       "10.0384336940062"
      ],
      "text/plain": [
       "[1] 10.03843"
      ]
     },
     "metadata": {},
     "output_type": "display_data"
    }
   ],
   "source": [
    "media_A = mean(notas$TurmaA)\n",
    "media_B = mean(notas$TurmaB)\n",
    "\n",
    "sd_A = sd(notas$TurmaA)\n",
    "sd_B = sd(notas$TurmaB)\n",
    "\n",
    "cv_A = sd_A/media_A*100\n",
    "cv_B = sd_B/media_B*100\n",
    "\n",
    "cv_A\n",
    "cv_B\n"
   ]
  },
  {
   "cell_type": "markdown",
   "id": "understood-pension",
   "metadata": {},
   "source": [
    "### 5. Nota mais frequente (moda)"
   ]
  },
  {
   "cell_type": "code",
   "execution_count": 16,
   "id": "polyphonic-wings",
   "metadata": {},
   "outputs": [],
   "source": [
    "moda = function(v){\n",
    "  uniq = unique(v)\n",
    "  uniq[which.max(tabulate(match(v, uniq)))]\n",
    "}"
   ]
  },
  {
   "cell_type": "code",
   "execution_count": 17,
   "id": "fiscal-atlantic",
   "metadata": {},
   "outputs": [
    {
     "data": {
      "text/html": [
       "82"
      ],
      "text/latex": [
       "82"
      ],
      "text/markdown": [
       "82"
      ],
      "text/plain": [
       "[1] 82"
      ]
     },
     "metadata": {},
     "output_type": "display_data"
    },
    {
     "data": {
      "text/html": [
       "60"
      ],
      "text/latex": [
       "60"
      ],
      "text/markdown": [
       "60"
      ],
      "text/plain": [
       "[1] 60"
      ]
     },
     "metadata": {},
     "output_type": "display_data"
    }
   ],
   "source": [
    "moda(notas$TurmaA)\n",
    "moda(notas$TurmaB)"
   ]
  },
  {
   "cell_type": "code",
   "execution_count": null,
   "id": "rolled-duplicate",
   "metadata": {},
   "outputs": [],
   "source": []
  }
 ],
 "metadata": {
  "kernelspec": {
   "display_name": "R",
   "language": "R",
   "name": "ir"
  },
  "language_info": {
   "codemirror_mode": "r",
   "file_extension": ".r",
   "mimetype": "text/x-r-source",
   "name": "R",
   "pygments_lexer": "r",
   "version": "3.6.1"
  }
 },
 "nbformat": 4,
 "nbformat_minor": 5
}
