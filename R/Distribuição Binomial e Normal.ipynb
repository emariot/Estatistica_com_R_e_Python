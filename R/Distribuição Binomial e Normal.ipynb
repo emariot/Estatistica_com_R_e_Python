{
 "cells": [
  {
   "cell_type": "markdown",
   "metadata": {},
   "source": [
    "# Distribuição Binomial - R\n",
    "### A Distribuição Binomial é a distribuição de probabilidades discretas do número de sucessos em uma sequência onde:\n",
    "\n",
    "* Cada tentativa possui duas possibilidades: sucesso ou fracasso; \n",
    "* Cada tentativa é independente das demais;\n",
    "* A probabilidade de sucesso a cada tentativa permanece constante independente das demais;\n",
    "* A variável pretendida é o número de sucesso nas tentativas"
   ]
  },
  {
   "cell_type": "code",
   "execution_count": 8,
   "metadata": {},
   "outputs": [
    {
     "name": "stdout",
     "output_type": "stream",
     "text": [
      "A probabilidade de jogar uma moedas cinco vezes e cairem 3 caras é de:  0.3125"
     ]
    }
   ],
   "source": [
    "#Jogando 1 moedas cinco vezes qual a probabilidade de dar cara 3 vezes?\n",
    "pb1 = dbinom(3, 5, 0.5)\n",
    "cat('A probabilidade de jogar uma moedas cinco vezes e cairem 3 caras é de: ', pb1)"
   ]
  },
  {
   "cell_type": "code",
   "execution_count": 100,
   "metadata": {},
   "outputs": [
    {
     "name": "stdout",
     "output_type": "stream",
     "text": [
      "A probabilidade de pegarmos nenhum sinaleiro verde é de: 0.3164063 ,\n",
      "de pegarmos 1 sinal verde é de: 0.421875 ,\n",
      "de pegarmos 2 é de: 0.2109375 ,\n",
      "de pegarmos 3 é de: 0.046875 ,\n",
      "e de pegarmos osw 4 é de: 0.00390625 ."
     ]
    }
   ],
   "source": [
    "#Se passarmos por 4 sinaleiros de transito de 4 tempos cada, qual a probabilidade de pegarmos 0, 1, 2, 3 ou 4 destes sinais verdes?\n",
    "pb2 = dbinom(0, 4, 0.25)\n",
    "pb3 = dbinom(1, 4, 0.25)\n",
    "pb4 = dbinom(2, 4, 0.25)\n",
    "pb5 = dbinom(3, 4, 0.25)\n",
    "pb6 = dbinom(4, 4, 0.25)\n",
    "cat('A probabilidade de pegarmos nenhum sinaleiro verde é de:', pb2,',\\nde pegarmos 1 sinal verde é de:',\n",
    "   pb3, ',\\nde pegarmos 2 é de:', pb4, ',\\nde pegarmos 3 é de:', pb5,\n",
    "   ',\\ne de pegarmos osw 4 é de:', pb6,'.')"
   ]
  },
  {
   "cell_type": "code",
   "execution_count": 94,
   "metadata": {},
   "outputs": [
    {
     "data": {
      "image/png": "[encoded data removed]",
      "text/plain": [
       "Plot with title \"Probabilidade de Sinais Abertos em 4 Cruzamentos\""
      ]
     },
     "metadata": {},
     "output_type": "display_data"
    }
   ],
   "source": [
    "prob = c(pb2, pb3, pb4, pb5, pb6)\n",
    "leg = c('0 Sinais', '1 Sinal', '2 Sinais', '3 Sinais', '4 Sinais' )\n",
    "barplot(prob, names.arg=leg, main = 'Probabilidade de Sinais Abertos em 4 Cruzamentos',\n",
    "       xlab='Sinais', ylab='Probabilidade', density=40, col=c(1,2,3,4,7))"
   ]
  },
  {
   "cell_type": "code",
   "execution_count": 99,
   "metadata": {},
   "outputs": [
    {
     "name": "stdout",
     "output_type": "stream",
     "text": [
      "Neste caso estamos acumulando todas as probabilidades: 1 ."
     ]
    }
   ],
   "source": [
    "#Calculo da Probabilidade Cumulativa:\n",
    "pc = pbinom(4, 4, 0.25)\n",
    "cat('Neste caso estamos acumulando todas as probabilidades:', pc,'.')"
   ]
  },
  {
   "cell_type": "code",
   "execution_count": 102,
   "metadata": {},
   "outputs": [
    {
     "name": "stdout",
     "output_type": "stream",
     "text": [
      "A probabilidade de acertar 7 questões em 12 é de: 0.01147127"
     ]
    }
   ],
   "source": [
    "#Em uma prova de 12 questões, com 4 opções cada, qual a probabilidade de acertar 7 questões aleatóriamente?\n",
    "pb7 = dbinom(7, 12, 0.25)\n",
    "cat('A probabilidade de acertar 7 questões em 12 é de:', pb7)"
   ]
  },
  {
   "cell_type": "markdown",
   "metadata": {},
   "source": [
    "## Distribuição Normal ou Gaussiana\n",
    "###  A Distribuição Normal representa a soma de efeitos independentes que, ocorrendo multiplas vezes, distribui-se normalmente (sujeitos a determinados pressupostos).\n",
    "* É representada por uma curva simétrica ao redor da média (em formato de sino);\n",
    "* Nela, a média, a mediana e a moda dos dados possuem o mesmo valor;\n",
    "* Em uma Distribuição Normal Padrão, a Média é zero e o Desvio Padrão igual a 1;\n",
    "* A distribuição das probabilidades empíricas de uma distribuição normal é: 68% - 95% - 99.7%;\n",
    "* Ao contrário da Distribuição Binomial (que é discreta), a Distribuição Normal (que é contínua) é infinita, definida por todos os números reais;\n",
    "* As probabilidades são calculadas pela área entre dois pontos (intervalos) a baixo da curva Gauss utilizando cálculo integral da função densidade de probabilidade;\n",
    "* O cálculo das probabilidades são cumulativas;\n",
    "* O valor Z mostra o número de desvios padrões que o valor determinado esta com relação à média.\n"
   ]
  },
  {
   "cell_type": "code",
   "execution_count": 18,
   "metadata": {},
   "outputs": [
    {
     "name": "stdout",
     "output_type": "stream",
     "text": [
      "A probabilidade de selecionarmos um  objeto com menos de 6 quilos é igual a: 16 %"
     ]
    }
   ],
   "source": [
    "# Em uma distribuição normal com média de 8 quilos e desvio padrão de 2 quilos,\n",
    "# qual a probabilidade de selecionarmos um objeto com peso menor que 6 quilos.\n",
    "pn = round(pnorm(6, 8, 2) *100)\n",
    "cat('A probabilidade de selecionarmos um  objeto com menos de 6 quilos é igual a:', pn,\"%\")\n"
   ]
  },
  {
   "cell_type": "code",
   "execution_count": 19,
   "metadata": {},
   "outputs": [
    {
     "name": "stdout",
     "output_type": "stream",
     "text": [
      "A probabilidade de selecionarmos um objeto com mais de 6 quilos é igual a: 84 %"
     ]
    }
   ],
   "source": [
    "# Em uma distribuição normal com média de 8 quilos e desvio padrão de 2 quilos,\n",
    "# qual a probabilidade de selecionarmos um objeto com peso MAIOR que 6 quilos.\n",
    "pn1 = round(pnorm(6, 8, 2, lower.tail=F) *100) ##Qundo maior utilizamos o parâmetro lower.tail\n",
    "#pn1 = 100 - pn\n",
    "cat('A probabilidade de selecionarmos um objeto com mais de 6 quilos é igual a:', pn1,\"%\")\n"
   ]
  },
  {
   "cell_type": "code",
   "execution_count": 21,
   "metadata": {},
   "outputs": [
    {
     "name": "stdout",
     "output_type": "stream",
     "text": [
      "A probabilidade do objeto ter menos que 6 quilos ou mais que 10 quilos é: 0.3173"
     ]
    }
   ],
   "source": [
    "# Em uma distribuição normal com média de 8 quilos e desvio padrão de 2 quilos,\n",
    "# qual a probabilidade de selecionarmos um objeto com peso Menor que 6 quilos ou MAIOR que 10 quilos.\n",
    "pn2 = round(pnorm(6, 8, 2) + pnorm(10, 8, 2, lower.tail=F),4)\n",
    "\n",
    "cat('A probabilidade do objeto ter menos que 6 quilos ou mais que 10 quilos é:', pn2)\n"
   ]
  },
  {
   "cell_type": "code",
   "execution_count": 31,
   "metadata": {},
   "outputs": [
    {
     "name": "stdout",
     "output_type": "stream",
     "text": [
      "A probabilidade do objeto ter menos que 6 quilos e mais que 10 quilos é: 0.3413"
     ]
    }
   ],
   "source": [
    "# Em uma distribuição normal com média de 8 quilos e desvio padrão de 2 quilos,\n",
    "# qual a probabilidade de selecionarmos um objeto com peso Menor que 10 quilos e MAIOR que 8 quilos.\n",
    "\n",
    "pn3 = round(pnorm(10, 8, 2) - pnorm(8, 8, 2),4)\n",
    "\n",
    "cat('A probabilidade do objeto ter menos que 6 quilos e mais que 10 quilos é:', pn3)\n"
   ]
  },
  {
   "cell_type": "code",
   "execution_count": 29,
   "metadata": {
    "scrolled": true
   },
   "outputs": [
    {
     "data": {
      "image/png": "[encoded data removed]",
      "text/plain": [
       "Plot with title \"Normal Q-Q Plot\""
      ]
     },
     "metadata": {},
     "output_type": "display_data"
    }
   ],
   "source": [
    "# Testes de Normalidade\n",
    "# Gerando dados normalmente distribuídos\n",
    "\n",
    "x = rnorm(100)\n",
    "qqnorm(x)\n",
    "qqline(x)"
   ]
  },
  {
   "cell_type": "code",
   "execution_count": 30,
   "metadata": {},
   "outputs": [
    {
     "data": {
      "text/plain": [
       "\n",
       "\tShapiro-Wilk normality test\n",
       "\n",
       "data:  x\n",
       "W = 0.96781, p-value = 0.01507\n"
      ]
     },
     "metadata": {},
     "output_type": "display_data"
    }
   ],
   "source": [
    "#Teste com Shapiro-Wilk\n",
    "shapiro.test(x)"
   ]
  },
  {
   "cell_type": "code",
   "execution_count": null,
   "metadata": {},
   "outputs": [],
   "source": []
  }
 ],
 "metadata": {
  "kernelspec": {
   "display_name": "R",
   "language": "R",
   "name": "ir"
  },
  "language_info": {
   "codemirror_mode": "r",
   "file_extension": ".r",
   "mimetype": "text/x-r-source",
   "name": "R",
   "pygments_lexer": "r",
   "version": "3.6.1"
  }
 },
 "nbformat": 4,
 "nbformat_minor": 4
}
