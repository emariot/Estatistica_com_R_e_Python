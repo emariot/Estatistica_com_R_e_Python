{
 "cells": [
  {
   "cell_type": "markdown",
   "metadata": {},
   "source": [
    "# A regressão logística é semelhante à linear porém seu resultado é lógico \n",
    "* False/True\n",
    "* Resultado apresentado por meio de porcentagem\n",
    "* Pode ser simples ou múltipla"
   ]
  },
  {
   "cell_type": "code",
   "execution_count": 3,
   "metadata": {},
   "outputs": [
    {
     "data": {
      "text/html": [
       "<table>\n",
       "<thead><tr><th scope=col>CANDIDATO</th><th scope=col>SITUACAO</th><th scope=col>DESPESAS</th></tr></thead>\n",
       "<tbody>\n",
       "\t<tr><td>George Turner </td><td>0             </td><td>  10          </td></tr>\n",
       "\t<tr><td>Victor Johnson</td><td>0             </td><td> 100          </td></tr>\n",
       "\t<tr><td>Jerry Perry   </td><td>1             </td><td>1600          </td></tr>\n",
       "\t<tr><td>Shirley Cook  </td><td>1             </td><td>1500          </td></tr>\n",
       "\t<tr><td>Carolyn Bailey</td><td>1             </td><td>3300          </td></tr>\n",
       "\t<tr><td>Susan Sanders </td><td>0             </td><td> 200          </td></tr>\n",
       "</tbody>\n",
       "</table>\n"
      ],
      "text/latex": [
       "\\begin{tabular}{r|lll}\n",
       " CANDIDATO & SITUACAO & DESPESAS\\\\\n",
       "\\hline\n",
       "\t George Turner  & 0              &   10          \\\\\n",
       "\t Victor Johnson & 0              &  100          \\\\\n",
       "\t Jerry Perry    & 1              & 1600          \\\\\n",
       "\t Shirley Cook   & 1              & 1500          \\\\\n",
       "\t Carolyn Bailey & 1              & 3300          \\\\\n",
       "\t Susan Sanders  & 0              &  200          \\\\\n",
       "\\end{tabular}\n"
      ],
      "text/markdown": [
       "\n",
       "| CANDIDATO | SITUACAO | DESPESAS |\n",
       "|---|---|---|\n",
       "| George Turner  | 0              |   10           |\n",
       "| Victor Johnson | 0              |  100           |\n",
       "| Jerry Perry    | 1              | 1600           |\n",
       "| Shirley Cook   | 1              | 1500           |\n",
       "| Carolyn Bailey | 1              | 3300           |\n",
       "| Susan Sanders  | 0              |  200           |\n",
       "\n"
      ],
      "text/plain": [
       "  CANDIDATO      SITUACAO DESPESAS\n",
       "1 George Turner  0          10    \n",
       "2 Victor Johnson 0         100    \n",
       "3 Jerry Perry    1        1600    \n",
       "4 Shirley Cook   1        1500    \n",
       "5 Carolyn Bailey 1        3300    \n",
       "6 Susan Sanders  0         200    "
      ]
     },
     "metadata": {},
     "output_type": "display_data"
    }
   ],
   "source": [
    "df = read.csv(\"dataset/eleicao.csv\", sep=';', header=T)\n",
    "head(df)"
   ]
  },
  {
   "cell_type": "code",
   "execution_count": 16,
   "metadata": {},
   "outputs": [
    {
     "data": {
      "image/png": "[encoded data removed]",
      "text/plain": [
       "plot without title"
      ]
     },
     "metadata": {},
     "output_type": "display_data"
    }
   ],
   "source": [
    "plot(df[[3]],df[[2]])"
   ]
  },
  {
   "cell_type": "code",
   "execution_count": 14,
   "metadata": {},
   "outputs": [
    {
     "data": {
      "text/plain": [
       "             CANDIDATO     SITUACAO         DESPESAS   \n",
       "  Gary Peterson   : 1   Min.   :0.0000   Min.   :  10  \n",
       "  Pamela Bryant   : 1   1st Qu.:0.0000   1st Qu.: 300  \n",
       " Andrea Washington: 1   Median :1.0000   Median : 800  \n",
       " Annie Brooks     : 1   Mean   :0.5106   Mean   :1086  \n",
       " Anthony Harris   : 1   3rd Qu.:1.0000   3rd Qu.:1700  \n",
       " Barbara White    : 1   Max.   :1.0000   Max.   :3300  \n",
       " (Other)          :41                                  "
      ]
     },
     "metadata": {},
     "output_type": "display_data"
    }
   ],
   "source": [
    "summary(df)"
   ]
  },
  {
   "cell_type": "code",
   "execution_count": 15,
   "metadata": {},
   "outputs": [
    {
     "data": {
      "text/html": [
       "0.812187165576407"
      ],
      "text/latex": [
       "0.812187165576407"
      ],
      "text/markdown": [
       "0.812187165576407"
      ],
      "text/plain": [
       "[1] 0.8121872"
      ]
     },
     "metadata": {},
     "output_type": "display_data"
    }
   ],
   "source": [
    "# Correlação\n",
    "cor(df[[2]], df[[3]])"
   ]
  },
  {
   "cell_type": "code",
   "execution_count": 19,
   "metadata": {},
   "outputs": [
    {
     "data": {
      "text/plain": [
       "\n",
       "Call:\n",
       "glm(formula = SITUACAO ~ DESPESAS, family = \"binomial\", data = df)\n",
       "\n",
       "Deviance Residuals: \n",
       "     Min        1Q    Median        3Q       Max  \n",
       "-1.79020  -0.29574   0.00379   0.20326   2.10968  \n",
       "\n",
       "Coefficients:\n",
       "             Estimate Std. Error z value Pr(>|z|)    \n",
       "(Intercept) -4.602880   1.315934  -3.498 0.000469 ***\n",
       "DESPESAS     0.004984   0.001404   3.550 0.000385 ***\n",
       "---\n",
       "Signif. codes:  0 '***' 0.001 '**' 0.01 '*' 0.05 '.' 0.1 ' ' 1\n",
       "\n",
       "(Dispersion parameter for binomial family taken to be 1)\n",
       "\n",
       "    Null deviance: 65.135  on 46  degrees of freedom\n",
       "Residual deviance: 18.540  on 45  degrees of freedom\n",
       "AIC: 22.54\n",
       "\n",
       "Number of Fisher Scoring iterations: 7\n"
      ]
     },
     "metadata": {},
     "output_type": "display_data"
    }
   ],
   "source": [
    "# Criação do modelo de Regressão Logística\n",
    "## glm é uma função geral e a family que especifica a regressão logística (binomial)\n",
    "mod = glm(SITUACAO~DESPESAS, data=df,family=\"binomial\")\n",
    "summary(mod)"
   ]
  },
  {
   "cell_type": "code",
   "execution_count": 21,
   "metadata": {},
   "outputs": [
    {
     "data": {
      "image/png": "[encoded data removed]",
      "text/plain": [
       "plot without title"
      ]
     },
     "metadata": {},
     "output_type": "display_data"
    }
   ],
   "source": [
    "# Comparação entre os dados reais e o modelo ajustado\n",
    "plot(df[[3]],df[[2]],col='red', pch=20)\n",
    "points(df[[3]], mod$fitted, pch=4)"
   ]
  },
  {
   "cell_type": "code",
   "execution_count": 24,
   "metadata": {},
   "outputs": [
    {
     "data": {
      "text/html": [
       "<dl class=dl-horizontal>\n",
       "\t<dt>1</dt>\n",
       "\t\t<dd>FALSE</dd>\n",
       "\t<dt>2</dt>\n",
       "\t\t<dd>FALSE</dd>\n",
       "\t<dt>3</dt>\n",
       "\t\t<dd>TRUE</dd>\n",
       "\t<dt>4</dt>\n",
       "\t\t<dd>TRUE</dd>\n",
       "\t<dt>5</dt>\n",
       "\t\t<dd>TRUE</dd>\n",
       "\t<dt>6</dt>\n",
       "\t\t<dd>FALSE</dd>\n",
       "\t<dt>7</dt>\n",
       "\t\t<dd>TRUE</dd>\n",
       "\t<dt>8</dt>\n",
       "\t\t<dd>TRUE</dd>\n",
       "\t<dt>9</dt>\n",
       "\t\t<dd>FALSE</dd>\n",
       "\t<dt>10</dt>\n",
       "\t\t<dd>TRUE</dd>\n",
       "\t<dt>11</dt>\n",
       "\t\t<dd>FALSE</dd>\n",
       "\t<dt>12</dt>\n",
       "\t\t<dd>FALSE</dd>\n",
       "\t<dt>13</dt>\n",
       "\t\t<dd>TRUE</dd>\n",
       "\t<dt>14</dt>\n",
       "\t\t<dd>FALSE</dd>\n",
       "\t<dt>15</dt>\n",
       "\t\t<dd>FALSE</dd>\n",
       "\t<dt>16</dt>\n",
       "\t\t<dd>FALSE</dd>\n",
       "\t<dt>17</dt>\n",
       "\t\t<dd>TRUE</dd>\n",
       "\t<dt>18</dt>\n",
       "\t\t<dd>TRUE</dd>\n",
       "\t<dt>19</dt>\n",
       "\t\t<dd>FALSE</dd>\n",
       "\t<dt>20</dt>\n",
       "\t\t<dd>FALSE</dd>\n",
       "\t<dt>21</dt>\n",
       "\t\t<dd>TRUE</dd>\n",
       "\t<dt>22</dt>\n",
       "\t\t<dd>FALSE</dd>\n",
       "\t<dt>23</dt>\n",
       "\t\t<dd>FALSE</dd>\n",
       "\t<dt>24</dt>\n",
       "\t\t<dd>FALSE</dd>\n",
       "\t<dt>25</dt>\n",
       "\t\t<dd>TRUE</dd>\n",
       "\t<dt>26</dt>\n",
       "\t\t<dd>TRUE</dd>\n",
       "\t<dt>27</dt>\n",
       "\t\t<dd>FALSE</dd>\n",
       "\t<dt>28</dt>\n",
       "\t\t<dd>TRUE</dd>\n",
       "\t<dt>29</dt>\n",
       "\t\t<dd>TRUE</dd>\n",
       "\t<dt>30</dt>\n",
       "\t\t<dd>TRUE</dd>\n",
       "\t<dt>31</dt>\n",
       "\t\t<dd>FALSE</dd>\n",
       "\t<dt>32</dt>\n",
       "\t\t<dd>FALSE</dd>\n",
       "\t<dt>33</dt>\n",
       "\t\t<dd>TRUE</dd>\n",
       "\t<dt>34</dt>\n",
       "\t\t<dd>TRUE</dd>\n",
       "\t<dt>35</dt>\n",
       "\t\t<dd>TRUE</dd>\n",
       "\t<dt>36</dt>\n",
       "\t\t<dd>FALSE</dd>\n",
       "\t<dt>37</dt>\n",
       "\t\t<dd>TRUE</dd>\n",
       "\t<dt>38</dt>\n",
       "\t\t<dd>TRUE</dd>\n",
       "\t<dt>39</dt>\n",
       "\t\t<dd>TRUE</dd>\n",
       "\t<dt>40</dt>\n",
       "\t\t<dd>TRUE</dd>\n",
       "\t<dt>41</dt>\n",
       "\t\t<dd>FALSE</dd>\n",
       "\t<dt>42</dt>\n",
       "\t\t<dd>FALSE</dd>\n",
       "\t<dt>43</dt>\n",
       "\t\t<dd>FALSE</dd>\n",
       "\t<dt>44</dt>\n",
       "\t\t<dd>FALSE</dd>\n",
       "\t<dt>45</dt>\n",
       "\t\t<dd>TRUE</dd>\n",
       "\t<dt>46</dt>\n",
       "\t\t<dd>FALSE</dd>\n",
       "\t<dt>47</dt>\n",
       "\t\t<dd>FALSE</dd>\n",
       "</dl>\n"
      ],
      "text/latex": [
       "\\begin{description*}\n",
       "\\item[1] FALSE\n",
       "\\item[2] FALSE\n",
       "\\item[3] TRUE\n",
       "\\item[4] TRUE\n",
       "\\item[5] TRUE\n",
       "\\item[6] FALSE\n",
       "\\item[7] TRUE\n",
       "\\item[8] TRUE\n",
       "\\item[9] FALSE\n",
       "\\item[10] TRUE\n",
       "\\item[11] FALSE\n",
       "\\item[12] FALSE\n",
       "\\item[13] TRUE\n",
       "\\item[14] FALSE\n",
       "\\item[15] FALSE\n",
       "\\item[16] FALSE\n",
       "\\item[17] TRUE\n",
       "\\item[18] TRUE\n",
       "\\item[19] FALSE\n",
       "\\item[20] FALSE\n",
       "\\item[21] TRUE\n",
       "\\item[22] FALSE\n",
       "\\item[23] FALSE\n",
       "\\item[24] FALSE\n",
       "\\item[25] TRUE\n",
       "\\item[26] TRUE\n",
       "\\item[27] FALSE\n",
       "\\item[28] TRUE\n",
       "\\item[29] TRUE\n",
       "\\item[30] TRUE\n",
       "\\item[31] FALSE\n",
       "\\item[32] FALSE\n",
       "\\item[33] TRUE\n",
       "\\item[34] TRUE\n",
       "\\item[35] TRUE\n",
       "\\item[36] FALSE\n",
       "\\item[37] TRUE\n",
       "\\item[38] TRUE\n",
       "\\item[39] TRUE\n",
       "\\item[40] TRUE\n",
       "\\item[41] FALSE\n",
       "\\item[42] FALSE\n",
       "\\item[43] FALSE\n",
       "\\item[44] FALSE\n",
       "\\item[45] TRUE\n",
       "\\item[46] FALSE\n",
       "\\item[47] FALSE\n",
       "\\end{description*}\n"
      ],
      "text/markdown": [
       "1\n",
       ":   FALSE2\n",
       ":   FALSE3\n",
       ":   TRUE4\n",
       ":   TRUE5\n",
       ":   TRUE6\n",
       ":   FALSE7\n",
       ":   TRUE8\n",
       ":   TRUE9\n",
       ":   FALSE10\n",
       ":   TRUE11\n",
       ":   FALSE12\n",
       ":   FALSE13\n",
       ":   TRUE14\n",
       ":   FALSE15\n",
       ":   FALSE16\n",
       ":   FALSE17\n",
       ":   TRUE18\n",
       ":   TRUE19\n",
       ":   FALSE20\n",
       ":   FALSE21\n",
       ":   TRUE22\n",
       ":   FALSE23\n",
       ":   FALSE24\n",
       ":   FALSE25\n",
       ":   TRUE26\n",
       ":   TRUE27\n",
       ":   FALSE28\n",
       ":   TRUE29\n",
       ":   TRUE30\n",
       ":   TRUE31\n",
       ":   FALSE32\n",
       ":   FALSE33\n",
       ":   TRUE34\n",
       ":   TRUE35\n",
       ":   TRUE36\n",
       ":   FALSE37\n",
       ":   TRUE38\n",
       ":   TRUE39\n",
       ":   TRUE40\n",
       ":   TRUE41\n",
       ":   FALSE42\n",
       ":   FALSE43\n",
       ":   FALSE44\n",
       ":   FALSE45\n",
       ":   TRUE46\n",
       ":   FALSE47\n",
       ":   FALSE\n",
       "\n"
      ],
      "text/plain": [
       "    1     2     3     4     5     6     7     8     9    10    11    12    13 \n",
       "FALSE FALSE  TRUE  TRUE  TRUE FALSE  TRUE  TRUE FALSE  TRUE FALSE FALSE  TRUE \n",
       "   14    15    16    17    18    19    20    21    22    23    24    25    26 \n",
       "FALSE FALSE FALSE  TRUE  TRUE FALSE FALSE  TRUE FALSE FALSE FALSE  TRUE  TRUE \n",
       "   27    28    29    30    31    32    33    34    35    36    37    38    39 \n",
       "FALSE  TRUE  TRUE  TRUE FALSE FALSE  TRUE  TRUE  TRUE FALSE  TRUE  TRUE  TRUE \n",
       "   40    41    42    43    44    45    46    47 \n",
       " TRUE FALSE FALSE FALSE FALSE  TRUE FALSE FALSE "
      ]
     },
     "metadata": {},
     "output_type": "display_data"
    }
   ],
   "source": [
    "# Previsão do modelo\n",
    "prev = predict(mod, newdata=df, type=\"response\")\n",
    "prev = prev >= 0.5+ para retornar verdadeiro ou falso\n",
    "prev"
   ]
  },
  {
   "cell_type": "code",
   "execution_count": 26,
   "metadata": {},
   "outputs": [
    {
     "data": {
      "text/plain": [
       "       \n",
       "prev     0  1\n",
       "  FALSE 21  3\n",
       "  TRUE   2 21"
      ]
     },
     "metadata": {},
     "output_type": "display_data"
    },
    {
     "data": {
      "text/html": [
       "0.893617021276596"
      ],
      "text/latex": [
       "0.893617021276596"
      ],
      "text/markdown": [
       "0.893617021276596"
      ],
      "text/plain": [
       "[1] 0.893617"
      ]
     },
     "metadata": {},
     "output_type": "display_data"
    }
   ],
   "source": [
    "# Avaliação da performance/matriz de confusão\n",
    "conf = table(prev, df[[2]])\n",
    "conf\n",
    "tx_acerto = (conf[1] + conf[4]) / sum(conf)\n",
    "tx_acerto"
   ]
  },
  {
   "cell_type": "code",
   "execution_count": 33,
   "metadata": {},
   "outputs": [
    {
     "data": {
      "text/html": [
       "<table>\n",
       "<thead><tr><th scope=col>CANDIDATO</th><th scope=col>DESPESAS</th></tr></thead>\n",
       "<tbody>\n",
       "\t<tr><td>A   </td><td>   0</td></tr>\n",
       "\t<tr><td>B   </td><td>  10</td></tr>\n",
       "\t<tr><td>C   </td><td> 200</td></tr>\n",
       "\t<tr><td>D   </td><td> 500</td></tr>\n",
       "\t<tr><td>E   </td><td> 900</td></tr>\n",
       "\t<tr><td>F   </td><td>1500</td></tr>\n",
       "\t<tr><td>G   </td><td>3000</td></tr>\n",
       "</tbody>\n",
       "</table>\n"
      ],
      "text/latex": [
       "\\begin{tabular}{r|ll}\n",
       " CANDIDATO & DESPESAS\\\\\n",
       "\\hline\n",
       "\t A    &    0\\\\\n",
       "\t B    &   10\\\\\n",
       "\t C    &  200\\\\\n",
       "\t D    &  500\\\\\n",
       "\t E    &  900\\\\\n",
       "\t F    & 1500\\\\\n",
       "\t G    & 3000\\\\\n",
       "\\end{tabular}\n"
      ],
      "text/markdown": [
       "\n",
       "| CANDIDATO | DESPESAS |\n",
       "|---|---|\n",
       "| A    |    0 |\n",
       "| B    |   10 |\n",
       "| C    |  200 |\n",
       "| D    |  500 |\n",
       "| E    |  900 |\n",
       "| F    | 1500 |\n",
       "| G    | 3000 |\n",
       "\n"
      ],
      "text/plain": [
       "  CANDIDATO DESPESAS\n",
       "1 A            0    \n",
       "2 B           10    \n",
       "3 C          200    \n",
       "4 D          500    \n",
       "5 E          900    \n",
       "6 F         1500    \n",
       "7 G         3000    "
      ]
     },
     "metadata": {},
     "output_type": "display_data"
    }
   ],
   "source": [
    "# Carregamento de novos candidatos\n",
    "df_2 = read.csv(\"dataset/NovosCandidatos.csv\", sep=';',header=T)\n",
    "df_2"
   ]
  },
  {
   "cell_type": "code",
   "execution_count": 32,
   "metadata": {},
   "outputs": [
    {
     "data": {
      "text/html": [
       "<dl class=dl-horizontal>\n",
       "\t<dt>1</dt>\n",
       "\t\t<dd>0.00992346602509473</dd>\n",
       "\t<dt>2</dt>\n",
       "\t\t<dd>0.0104252614024675</dd>\n",
       "\t<dt>3</dt>\n",
       "\t\t<dd>0.0264382547697668</dd>\n",
       "\t<dt>4</dt>\n",
       "\t\t<dd>0.10802714867848</dd>\n",
       "\t<dt>5</dt>\n",
       "\t\t<dd>0.470635920860994</dd>\n",
       "\t<dt>6</dt>\n",
       "\t\t<dd>0.946475247380095</dd>\n",
       "\t<dt>7</dt>\n",
       "\t\t<dd>0.999967946790996</dd>\n",
       "</dl>\n"
      ],
      "text/latex": [
       "\\begin{description*}\n",
       "\\item[1] 0.00992346602509473\n",
       "\\item[2] 0.0104252614024675\n",
       "\\item[3] 0.0264382547697668\n",
       "\\item[4] 0.10802714867848\n",
       "\\item[5] 0.470635920860994\n",
       "\\item[6] 0.946475247380095\n",
       "\\item[7] 0.999967946790996\n",
       "\\end{description*}\n"
      ],
      "text/markdown": [
       "1\n",
       ":   0.009923466025094732\n",
       ":   0.01042526140246753\n",
       ":   0.02643825476976684\n",
       ":   0.108027148678485\n",
       ":   0.4706359208609946\n",
       ":   0.9464752473800957\n",
       ":   0.999967946790996\n",
       "\n"
      ],
      "text/plain": [
       "          1           2           3           4           5           6 \n",
       "0.009923466 0.010425261 0.026438255 0.108027149 0.470635921 0.946475247 \n",
       "          7 \n",
       "0.999967947 "
      ]
     },
     "metadata": {},
     "output_type": "display_data"
    },
    {
     "data": {
      "text/html": [
       "<dl class=dl-horizontal>\n",
       "\t<dt>1</dt>\n",
       "\t\t<dd>FALSE</dd>\n",
       "\t<dt>2</dt>\n",
       "\t\t<dd>FALSE</dd>\n",
       "\t<dt>3</dt>\n",
       "\t\t<dd>FALSE</dd>\n",
       "\t<dt>4</dt>\n",
       "\t\t<dd>FALSE</dd>\n",
       "\t<dt>5</dt>\n",
       "\t\t<dd>FALSE</dd>\n",
       "\t<dt>6</dt>\n",
       "\t\t<dd>TRUE</dd>\n",
       "\t<dt>7</dt>\n",
       "\t\t<dd>TRUE</dd>\n",
       "</dl>\n"
      ],
      "text/latex": [
       "\\begin{description*}\n",
       "\\item[1] FALSE\n",
       "\\item[2] FALSE\n",
       "\\item[3] FALSE\n",
       "\\item[4] FALSE\n",
       "\\item[5] FALSE\n",
       "\\item[6] TRUE\n",
       "\\item[7] TRUE\n",
       "\\end{description*}\n"
      ],
      "text/markdown": [
       "1\n",
       ":   FALSE2\n",
       ":   FALSE3\n",
       ":   FALSE4\n",
       ":   FALSE5\n",
       ":   FALSE6\n",
       ":   TRUE7\n",
       ":   TRUE\n",
       "\n"
      ],
      "text/plain": [
       "    1     2     3     4     5     6     7 \n",
       "FALSE FALSE FALSE FALSE FALSE  TRUE  TRUE "
      ]
     },
     "metadata": {},
     "output_type": "display_data"
    }
   ],
   "source": [
    "# Previsão: APENAS OS DOIS ÚLTIMOSCANDIDATOS SERÃO ELEITOS\n",
    "prev$RESULT = predict(mod, newdata=df_2, type=\"response\")\n",
    "prev$RESULT\n",
    "prev$RESULT >= 0.5"
   ]
  },
  {
   "cell_type": "code",
   "execution_count": 29,
   "metadata": {},
   "outputs": [
    {
     "ename": "ERROR",
     "evalue": "Error in prev$RESULT: $ operator is invalid for atomic vectors\n",
     "output_type": "error",
     "traceback": [
      "Error in prev$RESULT: $ operator is invalid for atomic vectors\nTraceback:\n"
     ]
    }
   ],
   "source": [
    "prev$RESULT"
   ]
  },
  {
   "cell_type": "code",
   "execution_count": null,
   "metadata": {},
   "outputs": [],
   "source": []
  }
 ],
 "metadata": {
  "kernelspec": {
   "display_name": "R",
   "language": "R",
   "name": "ir"
  },
  "language_info": {
   "codemirror_mode": "r",
   "file_extension": ".r",
   "mimetype": "text/x-r-source",
   "name": "R",
   "pygments_lexer": "r",
   "version": "3.6.1"
  }
 },
 "nbformat": 4,
 "nbformat_minor": 4
}
