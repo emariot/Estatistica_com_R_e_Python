{
 "cells": [
  {
   "cell_type": "markdown",
   "metadata": {},
   "source": [
    "# A regressão logística é semelhante à linear porém seu resultado é lógico \n",
    "* False/True\n",
    "* Resultado apresentado por meio de porcentagem\n",
    "* Pode ser simples ou múltipla"
   ]
  },
  {
   "cell_type": "code",
   "execution_count": 26,
   "metadata": {},
   "outputs": [
    {
     "data": {
      "text/html": [
       "<table class=\"dataframe\">\n",
       "<caption>A data.frame: 6 × 3</caption>\n",
       "<thead>\n",
       "\t<tr><th></th><th scope=col>CANDIDATO</th><th scope=col>SITUACAO</th><th scope=col>DESPESAS</th></tr>\n",
       "\t<tr><th></th><th scope=col>&lt;fct&gt;</th><th scope=col>&lt;int&gt;</th><th scope=col>&lt;int&gt;</th></tr>\n",
       "</thead>\n",
       "<tbody>\n",
       "\t<tr><th scope=row>1</th><td>George Turner </td><td>0</td><td>  10</td></tr>\n",
       "\t<tr><th scope=row>2</th><td>Victor Johnson</td><td>0</td><td> 100</td></tr>\n",
       "\t<tr><th scope=row>3</th><td>Jerry Perry   </td><td>1</td><td>1600</td></tr>\n",
       "\t<tr><th scope=row>4</th><td>Shirley Cook  </td><td>1</td><td>1500</td></tr>\n",
       "\t<tr><th scope=row>5</th><td>Carolyn Bailey</td><td>1</td><td>3300</td></tr>\n",
       "\t<tr><th scope=row>6</th><td>Susan Sanders </td><td>0</td><td> 200</td></tr>\n",
       "</tbody>\n",
       "</table>\n"
      ],
      "text/latex": [
       "A data.frame: 6 × 3\n",
       "\\begin{tabular}{r|lll}\n",
       "  & CANDIDATO & SITUACAO & DESPESAS\\\\\n",
       "  & <fct> & <int> & <int>\\\\\n",
       "\\hline\n",
       "\t1 & George Turner  & 0 &   10\\\\\n",
       "\t2 & Victor Johnson & 0 &  100\\\\\n",
       "\t3 & Jerry Perry    & 1 & 1600\\\\\n",
       "\t4 & Shirley Cook   & 1 & 1500\\\\\n",
       "\t5 & Carolyn Bailey & 1 & 3300\\\\\n",
       "\t6 & Susan Sanders  & 0 &  200\\\\\n",
       "\\end{tabular}\n"
      ],
      "text/markdown": [
       "\n",
       "A data.frame: 6 × 3\n",
       "\n",
       "| <!--/--> | CANDIDATO &lt;fct&gt; | SITUACAO &lt;int&gt; | DESPESAS &lt;int&gt; |\n",
       "|---|---|---|---|\n",
       "| 1 | George Turner  | 0 |   10 |\n",
       "| 2 | Victor Johnson | 0 |  100 |\n",
       "| 3 | Jerry Perry    | 1 | 1600 |\n",
       "| 4 | Shirley Cook   | 1 | 1500 |\n",
       "| 5 | Carolyn Bailey | 1 | 3300 |\n",
       "| 6 | Susan Sanders  | 0 |  200 |\n",
       "\n"
      ],
      "text/plain": [
       "  CANDIDATO      SITUACAO DESPESAS\n",
       "1 George Turner  0          10    \n",
       "2 Victor Johnson 0         100    \n",
       "3 Jerry Perry    1        1600    \n",
       "4 Shirley Cook   1        1500    \n",
       "5 Carolyn Bailey 1        3300    \n",
       "6 Susan Sanders  0         200    "
      ]
     },
     "metadata": {},
     "output_type": "display_data"
    }
   ],
   "source": [
    "df = read.csv(\"dataset/eleicao.csv\", sep=';', header=T)\n",
    "head(df)"
   ]
  },
  {
   "cell_type": "code",
   "execution_count": 2,
   "metadata": {},
   "outputs": [
    {
     "data": {
      "text/plain": [
       "\n",
       " 0  1 \n",
       "23 24 "
      ]
     },
     "metadata": {},
     "output_type": "display_data"
    }
   ],
   "source": [
    "table(df[2])"
   ]
  },
  {
   "cell_type": "code",
   "execution_count": 10,
   "metadata": {
    "scrolled": false
   },
   "outputs": [
    {
     "data": {
      "image/png": "[encoded data removed]",
      "text/plain": [
       "plot without title"
      ]
     },
     "metadata": {
      "image/png": {
       "height": 420,
       "width": 720
      }
     },
     "output_type": "display_data"
    }
   ],
   "source": [
    "options(repr.plot.width = 12, repr.plot.height = 7)\n",
    "plot(df$DESPESA,df$SITUACAO)"
   ]
  },
  {
   "cell_type": "code",
   "execution_count": 14,
   "metadata": {},
   "outputs": [
    {
     "data": {
      "text/plain": [
       "             CANDIDATO     SITUACAO         DESPESAS   \n",
       "  Gary Peterson   : 1   Min.   :0.0000   Min.   :  10  \n",
       "  Pamela Bryant   : 1   1st Qu.:0.0000   1st Qu.: 300  \n",
       " Andrea Washington: 1   Median :1.0000   Median : 800  \n",
       " Annie Brooks     : 1   Mean   :0.5106   Mean   :1086  \n",
       " Anthony Harris   : 1   3rd Qu.:1.0000   3rd Qu.:1700  \n",
       " Barbara White    : 1   Max.   :1.0000   Max.   :3300  \n",
       " (Other)          :41                                  "
      ]
     },
     "metadata": {},
     "output_type": "display_data"
    }
   ],
   "source": [
    "summary(df)"
   ]
  },
  {
   "cell_type": "code",
   "execution_count": 15,
   "metadata": {},
   "outputs": [
    {
     "data": {
      "text/html": [
       "0.812187165576407"
      ],
      "text/latex": [
       "0.812187165576407"
      ],
      "text/markdown": [
       "0.812187165576407"
      ],
      "text/plain": [
       "[1] 0.8121872"
      ]
     },
     "metadata": {},
     "output_type": "display_data"
    }
   ],
   "source": [
    "# Correlação\n",
    "cor(df[[2]], df[[3]])"
   ]
  },
  {
   "cell_type": "code",
   "execution_count": 19,
   "metadata": {},
   "outputs": [
    {
     "data": {
      "text/plain": [
       "\n",
       "Call:\n",
       "glm(formula = SITUACAO ~ DESPESAS, family = \"binomial\", data = df)\n",
       "\n",
       "Deviance Residuals: \n",
       "     Min        1Q    Median        3Q       Max  \n",
       "-1.79020  -0.29574   0.00379   0.20326   2.10968  \n",
       "\n",
       "Coefficients:\n",
       "             Estimate Std. Error z value Pr(>|z|)    \n",
       "(Intercept) -4.602880   1.315934  -3.498 0.000469 ***\n",
       "DESPESAS     0.004984   0.001404   3.550 0.000385 ***\n",
       "---\n",
       "Signif. codes:  0 '***' 0.001 '**' 0.01 '*' 0.05 '.' 0.1 ' ' 1\n",
       "\n",
       "(Dispersion parameter for binomial family taken to be 1)\n",
       "\n",
       "    Null deviance: 65.135  on 46  degrees of freedom\n",
       "Residual deviance: 18.540  on 45  degrees of freedom\n",
       "AIC: 22.54\n",
       "\n",
       "Number of Fisher Scoring iterations: 7\n"
      ]
     },
     "metadata": {},
     "output_type": "display_data"
    }
   ],
   "source": [
    "# Criação do modelo de Regressão Logística\n",
    "## glm é uma função geral e a family que especifica a regressão logística (binomial)\n",
    "mod = glm(SITUACAO~DESPESAS, data=df,family=\"binomial\")\n",
    "summary(mod)"
   ]
  },
  {
   "cell_type": "code",
   "execution_count": 21,
   "metadata": {},
   "outputs": [
    {
     "data": {
      "image/png": "[encoded data removed]",
      "text/plain": [
       "plot without title"
      ]
     },
     "metadata": {},
     "output_type": "display_data"
    }
   ],
   "source": [
    "# Comparação entre os dados reais e o modelo ajustado\n",
    "plot(df[[3]],df[[2]],col='red', pch=20)\n",
    "points(df[[3]], mod$fitted, pch=4)"
   ]
  },
  {
   "cell_type": "code",
   "execution_count": 24,
   "metadata": {},
   "outputs": [
    {
     "data": {
      "text/html": [
       "<dl class=dl-horizontal>\n",
       "\t<dt>1</dt>\n",
       "\t\t<dd>FALSE</dd>\n",
       "\t<dt>2</dt>\n",
       "\t\t<dd>FALSE</dd>\n",
       "\t<dt>3</dt>\n",
       "\t\t<dd>TRUE</dd>\n",
       "\t<dt>4</dt>\n",
       "\t\t<dd>TRUE</dd>\n",
       "\t<dt>5</dt>\n",
       "\t\t<dd>TRUE</dd>\n",
       "\t<dt>6</dt>\n",
       "\t\t<dd>FALSE</dd>\n",
       "\t<dt>7</dt>\n",
       "\t\t<dd>TRUE</dd>\n",
       "\t<dt>8</dt>\n",
       "\t\t<dd>TRUE</dd>\n",
       "\t<dt>9</dt>\n",
       "\t\t<dd>FALSE</dd>\n",
       "\t<dt>10</dt>\n",
       "\t\t<dd>TRUE</dd>\n",
       "\t<dt>11</dt>\n",
       "\t\t<dd>FALSE</dd>\n",
       "\t<dt>12</dt>\n",
       "\t\t<dd>FALSE</dd>\n",
       "\t<dt>13</dt>\n",
       "\t\t<dd>TRUE</dd>\n",
       "\t<dt>14</dt>\n",
       "\t\t<dd>FALSE</dd>\n",
       "\t<dt>15</dt>\n",
       "\t\t<dd>FALSE</dd>\n",
       "\t<dt>16</dt>\n",
       "\t\t<dd>FALSE</dd>\n",
       "\t<dt>17</dt>\n",
       "\t\t<dd>TRUE</dd>\n",
       "\t<dt>18</dt>\n",
       "\t\t<dd>TRUE</dd>\n",
       "\t<dt>19</dt>\n",
       "\t\t<dd>FALSE</dd>\n",
       "\t<dt>20</dt>\n",
       "\t\t<dd>FALSE</dd>\n",
       "\t<dt>21</dt>\n",
       "\t\t<dd>TRUE</dd>\n",
       "\t<dt>22</dt>\n",
       "\t\t<dd>FALSE</dd>\n",
       "\t<dt>23</dt>\n",
       "\t\t<dd>FALSE</dd>\n",
       "\t<dt>24</dt>\n",
       "\t\t<dd>FALSE</dd>\n",
       "\t<dt>25</dt>\n",
       "\t\t<dd>TRUE</dd>\n",
       "\t<dt>26</dt>\n",
       "\t\t<dd>TRUE</dd>\n",
       "\t<dt>27</dt>\n",
       "\t\t<dd>FALSE</dd>\n",
       "\t<dt>28</dt>\n",
       "\t\t<dd>TRUE</dd>\n",
       "\t<dt>29</dt>\n",
       "\t\t<dd>TRUE</dd>\n",
       "\t<dt>30</dt>\n",
       "\t\t<dd>TRUE</dd>\n",
       "\t<dt>31</dt>\n",
       "\t\t<dd>FALSE</dd>\n",
       "\t<dt>32</dt>\n",
       "\t\t<dd>FALSE</dd>\n",
       "\t<dt>33</dt>\n",
       "\t\t<dd>TRUE</dd>\n",
       "\t<dt>34</dt>\n",
       "\t\t<dd>TRUE</dd>\n",
       "\t<dt>35</dt>\n",
       "\t\t<dd>TRUE</dd>\n",
       "\t<dt>36</dt>\n",
       "\t\t<dd>FALSE</dd>\n",
       "\t<dt>37</dt>\n",
       "\t\t<dd>TRUE</dd>\n",
       "\t<dt>38</dt>\n",
       "\t\t<dd>TRUE</dd>\n",
       "\t<dt>39</dt>\n",
       "\t\t<dd>TRUE</dd>\n",
       "\t<dt>40</dt>\n",
       "\t\t<dd>TRUE</dd>\n",
       "\t<dt>41</dt>\n",
       "\t\t<dd>FALSE</dd>\n",
       "\t<dt>42</dt>\n",
       "\t\t<dd>FALSE</dd>\n",
       "\t<dt>43</dt>\n",
       "\t\t<dd>FALSE</dd>\n",
       "\t<dt>44</dt>\n",
       "\t\t<dd>FALSE</dd>\n",
       "\t<dt>45</dt>\n",
       "\t\t<dd>TRUE</dd>\n",
       "\t<dt>46</dt>\n",
       "\t\t<dd>FALSE</dd>\n",
       "\t<dt>47</dt>\n",
       "\t\t<dd>FALSE</dd>\n",
       "</dl>\n"
      ],
      "text/latex": [
       "\\begin{description*}\n",
       "\\item[1] FALSE\n",
       "\\item[2] FALSE\n",
       "\\item[3] TRUE\n",
       "\\item[4] TRUE\n",
       "\\item[5] TRUE\n",
       "\\item[6] FALSE\n",
       "\\item[7] TRUE\n",
       "\\item[8] TRUE\n",
       "\\item[9] FALSE\n",
       "\\item[10] TRUE\n",
       "\\item[11] FALSE\n",
       "\\item[12] FALSE\n",
       "\\item[13] TRUE\n",
       "\\item[14] FALSE\n",
       "\\item[15] FALSE\n",
       "\\item[16] FALSE\n",
       "\\item[17] TRUE\n",
       "\\item[18] TRUE\n",
       "\\item[19] FALSE\n",
       "\\item[20] FALSE\n",
       "\\item[21] TRUE\n",
       "\\item[22] FALSE\n",
       "\\item[23] FALSE\n",
       "\\item[24] FALSE\n",
       "\\item[25] TRUE\n",
       "\\item[26] TRUE\n",
       "\\item[27] FALSE\n",
       "\\item[28] TRUE\n",
       "\\item[29] TRUE\n",
       "\\item[30] TRUE\n",
       "\\item[31] FALSE\n",
       "\\item[32] FALSE\n",
       "\\item[33] TRUE\n",
       "\\item[34] TRUE\n",
       "\\item[35] TRUE\n",
       "\\item[36] FALSE\n",
       "\\item[37] TRUE\n",
       "\\item[38] TRUE\n",
       "\\item[39] TRUE\n",
       "\\item[40] TRUE\n",
       "\\item[41] FALSE\n",
       "\\item[42] FALSE\n",
       "\\item[43] FALSE\n",
       "\\item[44] FALSE\n",
       "\\item[45] TRUE\n",
       "\\item[46] FALSE\n",
       "\\item[47] FALSE\n",
       "\\end{description*}\n"
      ],
      "text/markdown": [
       "1\n",
       ":   FALSE2\n",
       ":   FALSE3\n",
       ":   TRUE4\n",
       ":   TRUE5\n",
       ":   TRUE6\n",
       ":   FALSE7\n",
       ":   TRUE8\n",
       ":   TRUE9\n",
       ":   FALSE10\n",
       ":   TRUE11\n",
       ":   FALSE12\n",
       ":   FALSE13\n",
       ":   TRUE14\n",
       ":   FALSE15\n",
       ":   FALSE16\n",
       ":   FALSE17\n",
       ":   TRUE18\n",
       ":   TRUE19\n",
       ":   FALSE20\n",
       ":   FALSE21\n",
       ":   TRUE22\n",
       ":   FALSE23\n",
       ":   FALSE24\n",
       ":   FALSE25\n",
       ":   TRUE26\n",
       ":   TRUE27\n",
       ":   FALSE28\n",
       ":   TRUE29\n",
       ":   TRUE30\n",
       ":   TRUE31\n",
       ":   FALSE32\n",
       ":   FALSE33\n",
       ":   TRUE34\n",
       ":   TRUE35\n",
       ":   TRUE36\n",
       ":   FALSE37\n",
       ":   TRUE38\n",
       ":   TRUE39\n",
       ":   TRUE40\n",
       ":   TRUE41\n",
       ":   FALSE42\n",
       ":   FALSE43\n",
       ":   FALSE44\n",
       ":   FALSE45\n",
       ":   TRUE46\n",
       ":   FALSE47\n",
       ":   FALSE\n",
       "\n"
      ],
      "text/plain": [
       "    1     2     3     4     5     6     7     8     9    10    11    12    13 \n",
       "FALSE FALSE  TRUE  TRUE  TRUE FALSE  TRUE  TRUE FALSE  TRUE FALSE FALSE  TRUE \n",
       "   14    15    16    17    18    19    20    21    22    23    24    25    26 \n",
       "FALSE FALSE FALSE  TRUE  TRUE FALSE FALSE  TRUE FALSE FALSE FALSE  TRUE  TRUE \n",
       "   27    28    29    30    31    32    33    34    35    36    37    38    39 \n",
       "FALSE  TRUE  TRUE  TRUE FALSE FALSE  TRUE  TRUE  TRUE FALSE  TRUE  TRUE  TRUE \n",
       "   40    41    42    43    44    45    46    47 \n",
       " TRUE FALSE FALSE FALSE FALSE  TRUE FALSE FALSE "
      ]
     },
     "metadata": {},
     "output_type": "display_data"
    }
   ],
   "source": [
    "# Previsão do modelo\n",
    "prev = predict(mod, newdata=df, type=\"response\")\n",
    "prev = prev >= 0.5+ para retornar verdadeiro ou falso\n",
    "prev"
   ]
  },
  {
   "cell_type": "code",
   "execution_count": 26,
   "metadata": {},
   "outputs": [
    {
     "data": {
      "text/plain": [
       "       \n",
       "prev     0  1\n",
       "  FALSE 21  3\n",
       "  TRUE   2 21"
      ]
     },
     "metadata": {},
     "output_type": "display_data"
    },
    {
     "data": {
      "text/html": [
       "0.893617021276596"
      ],
      "text/latex": [
       "0.893617021276596"
      ],
      "text/markdown": [
       "0.893617021276596"
      ],
      "text/plain": [
       "[1] 0.893617"
      ]
     },
     "metadata": {},
     "output_type": "display_data"
    }
   ],
   "source": [
    "# Avaliação da performance/matriz de confusão\n",
    "conf = table(prev, df[[2]])\n",
    "conf\n",
    "tx_acerto = (conf[1] + conf[4]) / sum(conf)\n",
    "tx_acerto"
   ]
  },
  {
   "cell_type": "code",
   "execution_count": 33,
   "metadata": {},
   "outputs": [
    {
     "data": {
      "text/html": [
       "<table>\n",
       "<thead><tr><th scope=col>CANDIDATO</th><th scope=col>DESPESAS</th></tr></thead>\n",
       "<tbody>\n",
       "\t<tr><td>A   </td><td>   0</td></tr>\n",
       "\t<tr><td>B   </td><td>  10</td></tr>\n",
       "\t<tr><td>C   </td><td> 200</td></tr>\n",
       "\t<tr><td>D   </td><td> 500</td></tr>\n",
       "\t<tr><td>E   </td><td> 900</td></tr>\n",
       "\t<tr><td>F   </td><td>1500</td></tr>\n",
       "\t<tr><td>G   </td><td>3000</td></tr>\n",
       "</tbody>\n",
       "</table>\n"
      ],
      "text/latex": [
       "\\begin{tabular}{r|ll}\n",
       " CANDIDATO & DESPESAS\\\\\n",
       "\\hline\n",
       "\t A    &    0\\\\\n",
       "\t B    &   10\\\\\n",
       "\t C    &  200\\\\\n",
       "\t D    &  500\\\\\n",
       "\t E    &  900\\\\\n",
       "\t F    & 1500\\\\\n",
       "\t G    & 3000\\\\\n",
       "\\end{tabular}\n"
      ],
      "text/markdown": [
       "\n",
       "| CANDIDATO | DESPESAS |\n",
       "|---|---|\n",
       "| A    |    0 |\n",
       "| B    |   10 |\n",
       "| C    |  200 |\n",
       "| D    |  500 |\n",
       "| E    |  900 |\n",
       "| F    | 1500 |\n",
       "| G    | 3000 |\n",
       "\n"
      ],
      "text/plain": [
       "  CANDIDATO DESPESAS\n",
       "1 A            0    \n",
       "2 B           10    \n",
       "3 C          200    \n",
       "4 D          500    \n",
       "5 E          900    \n",
       "6 F         1500    \n",
       "7 G         3000    "
      ]
     },
     "metadata": {},
     "output_type": "display_data"
    }
   ],
   "source": [
    "# Carregamento de novos candidatos\n",
    "df_2 = read.csv(\"dataset/NovosCandidatos.csv\", sep=';',header=T)\n",
    "df_2"
   ]
  },
  {
   "cell_type": "code",
   "execution_count": 32,
   "metadata": {},
   "outputs": [
    {
     "data": {
      "text/html": [
       "<dl class=dl-horizontal>\n",
       "\t<dt>1</dt>\n",
       "\t\t<dd>0.00992346602509473</dd>\n",
       "\t<dt>2</dt>\n",
       "\t\t<dd>0.0104252614024675</dd>\n",
       "\t<dt>3</dt>\n",
       "\t\t<dd>0.0264382547697668</dd>\n",
       "\t<dt>4</dt>\n",
       "\t\t<dd>0.10802714867848</dd>\n",
       "\t<dt>5</dt>\n",
       "\t\t<dd>0.470635920860994</dd>\n",
       "\t<dt>6</dt>\n",
       "\t\t<dd>0.946475247380095</dd>\n",
       "\t<dt>7</dt>\n",
       "\t\t<dd>0.999967946790996</dd>\n",
       "</dl>\n"
      ],
      "text/latex": [
       "\\begin{description*}\n",
       "\\item[1] 0.00992346602509473\n",
       "\\item[2] 0.0104252614024675\n",
       "\\item[3] 0.0264382547697668\n",
       "\\item[4] 0.10802714867848\n",
       "\\item[5] 0.470635920860994\n",
       "\\item[6] 0.946475247380095\n",
       "\\item[7] 0.999967946790996\n",
       "\\end{description*}\n"
      ],
      "text/markdown": [
       "1\n",
       ":   0.009923466025094732\n",
       ":   0.01042526140246753\n",
       ":   0.02643825476976684\n",
       ":   0.108027148678485\n",
       ":   0.4706359208609946\n",
       ":   0.9464752473800957\n",
       ":   0.999967946790996\n",
       "\n"
      ],
      "text/plain": [
       "          1           2           3           4           5           6 \n",
       "0.009923466 0.010425261 0.026438255 0.108027149 0.470635921 0.946475247 \n",
       "          7 \n",
       "0.999967947 "
      ]
     },
     "metadata": {},
     "output_type": "display_data"
    },
    {
     "data": {
      "text/html": [
       "<dl class=dl-horizontal>\n",
       "\t<dt>1</dt>\n",
       "\t\t<dd>FALSE</dd>\n",
       "\t<dt>2</dt>\n",
       "\t\t<dd>FALSE</dd>\n",
       "\t<dt>3</dt>\n",
       "\t\t<dd>FALSE</dd>\n",
       "\t<dt>4</dt>\n",
       "\t\t<dd>FALSE</dd>\n",
       "\t<dt>5</dt>\n",
       "\t\t<dd>FALSE</dd>\n",
       "\t<dt>6</dt>\n",
       "\t\t<dd>TRUE</dd>\n",
       "\t<dt>7</dt>\n",
       "\t\t<dd>TRUE</dd>\n",
       "</dl>\n"
      ],
      "text/latex": [
       "\\begin{description*}\n",
       "\\item[1] FALSE\n",
       "\\item[2] FALSE\n",
       "\\item[3] FALSE\n",
       "\\item[4] FALSE\n",
       "\\item[5] FALSE\n",
       "\\item[6] TRUE\n",
       "\\item[7] TRUE\n",
       "\\end{description*}\n"
      ],
      "text/markdown": [
       "1\n",
       ":   FALSE2\n",
       ":   FALSE3\n",
       ":   FALSE4\n",
       ":   FALSE5\n",
       ":   FALSE6\n",
       ":   TRUE7\n",
       ":   TRUE\n",
       "\n"
      ],
      "text/plain": [
       "    1     2     3     4     5     6     7 \n",
       "FALSE FALSE FALSE FALSE FALSE  TRUE  TRUE "
      ]
     },
     "metadata": {},
     "output_type": "display_data"
    }
   ],
   "source": [
    "# Previsão: APENAS OS DOIS ÚLTIMOSCANDIDATOS SERÃO ELEITOS\n",
    "prev$RESULT = predict(mod, newdata=df_2, type=\"response\")\n",
    "prev$RESULT\n",
    "prev$RESULT >= 0.5"
   ]
  },
  {
   "cell_type": "markdown",
   "metadata": {},
   "source": [
    "# Interpretação"
   ]
  },
  {
   "cell_type": "code",
   "execution_count": 27,
   "metadata": {},
   "outputs": [],
   "source": [
    "df$SITUACAO = as.factor(df$SITUACAO)"
   ]
  },
  {
   "cell_type": "code",
   "execution_count": 28,
   "metadata": {},
   "outputs": [
    {
     "data": {
      "text/html": [
       "<table class=\"dataframe\">\n",
       "<caption>A data.frame: 6 × 3</caption>\n",
       "<thead>\n",
       "\t<tr><th></th><th scope=col>CANDIDATO</th><th scope=col>SITUACAO</th><th scope=col>DESPESAS</th></tr>\n",
       "\t<tr><th></th><th scope=col>&lt;fct&gt;</th><th scope=col>&lt;fct&gt;</th><th scope=col>&lt;int&gt;</th></tr>\n",
       "</thead>\n",
       "<tbody>\n",
       "\t<tr><th scope=row>1</th><td>George Turner </td><td>0</td><td>  10</td></tr>\n",
       "\t<tr><th scope=row>2</th><td>Victor Johnson</td><td>0</td><td> 100</td></tr>\n",
       "\t<tr><th scope=row>3</th><td>Jerry Perry   </td><td>1</td><td>1600</td></tr>\n",
       "\t<tr><th scope=row>4</th><td>Shirley Cook  </td><td>1</td><td>1500</td></tr>\n",
       "\t<tr><th scope=row>5</th><td>Carolyn Bailey</td><td>1</td><td>3300</td></tr>\n",
       "\t<tr><th scope=row>6</th><td>Susan Sanders </td><td>0</td><td> 200</td></tr>\n",
       "</tbody>\n",
       "</table>\n"
      ],
      "text/latex": [
       "A data.frame: 6 × 3\n",
       "\\begin{tabular}{r|lll}\n",
       "  & CANDIDATO & SITUACAO & DESPESAS\\\\\n",
       "  & <fct> & <fct> & <int>\\\\\n",
       "\\hline\n",
       "\t1 & George Turner  & 0 &   10\\\\\n",
       "\t2 & Victor Johnson & 0 &  100\\\\\n",
       "\t3 & Jerry Perry    & 1 & 1600\\\\\n",
       "\t4 & Shirley Cook   & 1 & 1500\\\\\n",
       "\t5 & Carolyn Bailey & 1 & 3300\\\\\n",
       "\t6 & Susan Sanders  & 0 &  200\\\\\n",
       "\\end{tabular}\n"
      ],
      "text/markdown": [
       "\n",
       "A data.frame: 6 × 3\n",
       "\n",
       "| <!--/--> | CANDIDATO &lt;fct&gt; | SITUACAO &lt;fct&gt; | DESPESAS &lt;int&gt; |\n",
       "|---|---|---|---|\n",
       "| 1 | George Turner  | 0 |   10 |\n",
       "| 2 | Victor Johnson | 0 |  100 |\n",
       "| 3 | Jerry Perry    | 1 | 1600 |\n",
       "| 4 | Shirley Cook   | 1 | 1500 |\n",
       "| 5 | Carolyn Bailey | 1 | 3300 |\n",
       "| 6 | Susan Sanders  | 0 |  200 |\n",
       "\n"
      ],
      "text/plain": [
       "  CANDIDATO      SITUACAO DESPESAS\n",
       "1 George Turner  0          10    \n",
       "2 Victor Johnson 0         100    \n",
       "3 Jerry Perry    1        1600    \n",
       "4 Shirley Cook   1        1500    \n",
       "5 Carolyn Bailey 1        3300    \n",
       "6 Susan Sanders  0         200    "
      ]
     },
     "metadata": {},
     "output_type": "display_data"
    }
   ],
   "source": [
    "head(df)"
   ]
  },
  {
   "cell_type": "code",
   "execution_count": 29,
   "metadata": {},
   "outputs": [
    {
     "data": {
      "text/plain": [
       "\n",
       " 0  1 \n",
       "23 24 "
      ]
     },
     "metadata": {},
     "output_type": "display_data"
    }
   ],
   "source": [
    "table(df$SITUACAO)"
   ]
  },
  {
   "cell_type": "code",
   "execution_count": 33,
   "metadata": {},
   "outputs": [],
   "source": [
    "df$SITUACAO = relevel(df$SITUACAO,ref=1)"
   ]
  },
  {
   "cell_type": "code",
   "execution_count": 35,
   "metadata": {},
   "outputs": [
    {
     "data": {
      "text/plain": [
       "\n",
       "Call:\n",
       "glm(formula = SITUACAO ~ DESPESAS, family = binomial(link = \"logit\"), \n",
       "    data = df)\n",
       "\n",
       "Deviance Residuals: \n",
       "     Min        1Q    Median        3Q       Max  \n",
       "-1.79020  -0.29574   0.00379   0.20326   2.10968  \n",
       "\n",
       "Coefficients:\n",
       "             Estimate Std. Error z value Pr(>|z|)    \n",
       "(Intercept) -4.602880   1.315934  -3.498 0.000469 ***\n",
       "DESPESAS     0.004984   0.001404   3.550 0.000385 ***\n",
       "---\n",
       "Signif. codes:  0 '***' 0.001 '**' 0.01 '*' 0.05 '.' 0.1 ' ' 1\n",
       "\n",
       "(Dispersion parameter for binomial family taken to be 1)\n",
       "\n",
       "    Null deviance: 65.135  on 46  degrees of freedom\n",
       "Residual deviance: 18.540  on 45  degrees of freedom\n",
       "AIC: 22.54\n",
       "\n",
       "Number of Fisher Scoring iterations: 7\n"
      ]
     },
     "metadata": {},
     "output_type": "display_data"
    }
   ],
   "source": [
    "model = glm(SITUACAO~DESPESAS,\n",
    "           data=df,\n",
    "           family= binomial(link='logit'))\n",
    "summary(model)"
   ]
  },
  {
   "cell_type": "code",
   "execution_count": 36,
   "metadata": {},
   "outputs": [],
   "source": [
    "# Coeficiente positivo beta: Quanto maior a despesa, maior a probabilidade de ser eleito"
   ]
  },
  {
   "cell_type": "code",
   "execution_count": 37,
   "metadata": {},
   "outputs": [
    {
     "data": {
      "text/html": [
       "<style>\n",
       ".dl-inline {width: auto; margin:0; padding: 0}\n",
       ".dl-inline>dt, .dl-inline>dd {float: none; width: auto; display: inline-block}\n",
       ".dl-inline>dt::after {content: \":\\0020\"; padding-right: .5ex}\n",
       ".dl-inline>dt:not(:first-of-type) {padding-left: .5ex}\n",
       "</style><dl class=dl-inline><dt>(Intercept)</dt><dd>0.0100229282126853</dd><dt>DESPESAS</dt><dd>1.00499609278771</dd></dl>\n"
      ],
      "text/latex": [
       "\\begin{description*}\n",
       "\\item[(Intercept)] 0.0100229282126853\n",
       "\\item[DESPESAS] 1.00499609278771\n",
       "\\end{description*}\n"
      ],
      "text/markdown": [
       "(Intercept)\n",
       ":   0.0100229282126853DESPESAS\n",
       ":   1.00499609278771\n",
       "\n"
      ],
      "text/plain": [
       "(Intercept)    DESPESAS \n",
       " 0.01002293  1.00499609 "
      ]
     },
     "metadata": {},
     "output_type": "display_data"
    }
   ],
   "source": [
    "# Cada mil reais a mais na despesa do candidato aumenta uma vez as chances de ser eleito\n",
    "exp(model$coefficients)"
   ]
  },
  {
   "cell_type": "code",
   "execution_count": 55,
   "metadata": {},
   "outputs": [
    {
     "data": {
      "text/html": [
       "<style>\n",
       ".dl-inline {width: auto; margin:0; padding: 0}\n",
       ".dl-inline>dt, .dl-inline>dd {float: none; width: auto; display: inline-block}\n",
       ".dl-inline>dt::after {content: \":\\0020\"; padding-right: .5ex}\n",
       ".dl-inline>dt:not(:first-of-type) {padding-left: .5ex}\n",
       "</style><dl class=dl-inline><dt>1</dt><dd>0.0104252614024675</dd><dt>2</dt><dd>0.0162302575773875</dd><dt>3</dt><dd>0.966784724685086</dd><dt>4</dt><dd>0.946475247380095</dd><dt>5</dt><dd>0.999992812624742</dd><dt>6</dt><dd>0.0264382547697668</dd><dt>7</dt><dd>0.987478366056159</dd><dt>8</dt><dd>0.979554425593558</dd><dt>9</dt><dd>0.04278731736654</dd><dt>10</dt><dd>0.987478366056159</dd><dt>11</dt><dd>0.0162302575773875</dd><dt>12</dt><dd>0.10802714867848</dd><dt>13</dt><dd>0.999967946790996</dd><dt>14</dt><dd>0.0109521501517981</dd><dt>15</dt><dd>0.0264382547697668</dd><dt>16</dt><dd>0.247065942139853</dd><dt>17</dt><dd>0.966784724685086</dd><dt>18</dt><dd>0.992355250588206</dd><dt>19</dt><dd>0.0162302575773875</dd><dt>20</dt><dd>0.068534716218415</dd><dt>21</dt><dd>0.999857066064805</dd><dt>22</dt><dd>0.0264382547697668</dd><dt>23</dt><dd>0.04278731736654</dd><dt>24</dt><dd>0.10802714867848</dd><dt>25</dt><dd>0.999612828024645</dd><dt>26</dt><dd>0.914841393470984</dd><dt>27</dt><dd>0.247065942139853</dd><dt>28</dt><dd>0.979554425593558</dd><dt>29</dt><dd>0.914841393470984</dd><dt>30</dt><dd>0.966784724685086</dd><dt>31</dt><dd>0.068534716218415</dd><dt>32</dt><dd>0.0264382547697668</dd><dt>33</dt><dd>0.966784724685086</dd><dt>34</dt><dd>0.998275613754683</dd><dt>35</dt><dd>0.992355250588206</dd><dt>36</dt><dd>0.0264382547697668</dd><dt>37</dt><dd>0.798589910844177</dd><dt>38</dt><dd>0.979554425593558</dd><dt>39</dt><dd>0.946475247380095</dd><dt>40</dt><dd>0.997164769673296</dd><dt>41</dt><dd>0.068534716218415</dd><dt>42</dt><dd>0.350701525016676</dd><dt>43</dt><dd>0.068534716218415</dd><dt>44</dt><dd>0.10802714867848</dd><dt>45</dt><dd>0.594059706253549</dd><dt>46</dt><dd>0.04278731736654</dd><dt>47</dt><dd>0.350701525016676</dd></dl>\n"
      ],
      "text/latex": [
       "\\begin{description*}\n",
       "\\item[1] 0.0104252614024675\n",
       "\\item[2] 0.0162302575773875\n",
       "\\item[3] 0.966784724685086\n",
       "\\item[4] 0.946475247380095\n",
       "\\item[5] 0.999992812624742\n",
       "\\item[6] 0.0264382547697668\n",
       "\\item[7] 0.987478366056159\n",
       "\\item[8] 0.979554425593558\n",
       "\\item[9] 0.04278731736654\n",
       "\\item[10] 0.987478366056159\n",
       "\\item[11] 0.0162302575773875\n",
       "\\item[12] 0.10802714867848\n",
       "\\item[13] 0.999967946790996\n",
       "\\item[14] 0.0109521501517981\n",
       "\\item[15] 0.0264382547697668\n",
       "\\item[16] 0.247065942139853\n",
       "\\item[17] 0.966784724685086\n",
       "\\item[18] 0.992355250588206\n",
       "\\item[19] 0.0162302575773875\n",
       "\\item[20] 0.068534716218415\n",
       "\\item[21] 0.999857066064805\n",
       "\\item[22] 0.0264382547697668\n",
       "\\item[23] 0.04278731736654\n",
       "\\item[24] 0.10802714867848\n",
       "\\item[25] 0.999612828024645\n",
       "\\item[26] 0.914841393470984\n",
       "\\item[27] 0.247065942139853\n",
       "\\item[28] 0.979554425593558\n",
       "\\item[29] 0.914841393470984\n",
       "\\item[30] 0.966784724685086\n",
       "\\item[31] 0.068534716218415\n",
       "\\item[32] 0.0264382547697668\n",
       "\\item[33] 0.966784724685086\n",
       "\\item[34] 0.998275613754683\n",
       "\\item[35] 0.992355250588206\n",
       "\\item[36] 0.0264382547697668\n",
       "\\item[37] 0.798589910844177\n",
       "\\item[38] 0.979554425593558\n",
       "\\item[39] 0.946475247380095\n",
       "\\item[40] 0.997164769673296\n",
       "\\item[41] 0.068534716218415\n",
       "\\item[42] 0.350701525016676\n",
       "\\item[43] 0.068534716218415\n",
       "\\item[44] 0.10802714867848\n",
       "\\item[45] 0.594059706253549\n",
       "\\item[46] 0.04278731736654\n",
       "\\item[47] 0.350701525016676\n",
       "\\end{description*}\n"
      ],
      "text/markdown": [
       "1\n",
       ":   0.01042526140246752\n",
       ":   0.01623025757738753\n",
       ":   0.9667847246850864\n",
       ":   0.9464752473800955\n",
       ":   0.9999928126247426\n",
       ":   0.02643825476976687\n",
       ":   0.9874783660561598\n",
       ":   0.9795544255935589\n",
       ":   0.0427873173665410\n",
       ":   0.98747836605615911\n",
       ":   0.016230257577387512\n",
       ":   0.1080271486784813\n",
       ":   0.99996794679099614\n",
       ":   0.010952150151798115\n",
       ":   0.026438254769766816\n",
       ":   0.24706594213985317\n",
       ":   0.96678472468508618\n",
       ":   0.99235525058820619\n",
       ":   0.016230257577387520\n",
       ":   0.06853471621841521\n",
       ":   0.99985706606480522\n",
       ":   0.026438254769766823\n",
       ":   0.0427873173665424\n",
       ":   0.1080271486784825\n",
       ":   0.99961282802464526\n",
       ":   0.91484139347098427\n",
       ":   0.24706594213985328\n",
       ":   0.97955442559355829\n",
       ":   0.91484139347098430\n",
       ":   0.96678472468508631\n",
       ":   0.06853471621841532\n",
       ":   0.026438254769766833\n",
       ":   0.96678472468508634\n",
       ":   0.99827561375468335\n",
       ":   0.99235525058820636\n",
       ":   0.026438254769766837\n",
       ":   0.79858991084417738\n",
       ":   0.97955442559355839\n",
       ":   0.94647524738009540\n",
       ":   0.99716476967329641\n",
       ":   0.06853471621841542\n",
       ":   0.35070152501667643\n",
       ":   0.06853471621841544\n",
       ":   0.1080271486784845\n",
       ":   0.59405970625354946\n",
       ":   0.0427873173665447\n",
       ":   0.350701525016676\n",
       "\n"
      ],
      "text/plain": [
       "         1          2          3          4          5          6          7 \n",
       "0.01042526 0.01623026 0.96678472 0.94647525 0.99999281 0.02643825 0.98747837 \n",
       "         8          9         10         11         12         13         14 \n",
       "0.97955443 0.04278732 0.98747837 0.01623026 0.10802715 0.99996795 0.01095215 \n",
       "        15         16         17         18         19         20         21 \n",
       "0.02643825 0.24706594 0.96678472 0.99235525 0.01623026 0.06853472 0.99985707 \n",
       "        22         23         24         25         26         27         28 \n",
       "0.02643825 0.04278732 0.10802715 0.99961283 0.91484139 0.24706594 0.97955443 \n",
       "        29         30         31         32         33         34         35 \n",
       "0.91484139 0.96678472 0.06853472 0.02643825 0.96678472 0.99827561 0.99235525 \n",
       "        36         37         38         39         40         41         42 \n",
       "0.02643825 0.79858991 0.97955443 0.94647525 0.99716477 0.06853472 0.35070153 \n",
       "        43         44         45         46         47 \n",
       "0.06853472 0.10802715 0.59405971 0.04278732 0.35070153 "
      ]
     },
     "metadata": {},
     "output_type": "display_data"
    }
   ],
   "source": [
    "# Análise de Sensitividade e Especificidade\n",
    "# Previsão do modelo\n",
    "prev = predict(model, newdata=df, type=\"response\")\n",
    "\n",
    "prev"
   ]
  },
  {
   "cell_type": "code",
   "execution_count": 64,
   "metadata": {},
   "outputs": [
    {
     "data": {
      "image/png": "[encoded data removed]",
      "text/plain": [
       "plot without title"
      ]
     },
     "metadata": {
      "image/png": {
       "height": 420,
       "width": 720
      }
     },
     "output_type": "display_data"
    }
   ],
   "source": [
    "limiares = sort(prev)\n",
    "plot(limiares)\n"
   ]
  },
  {
   "cell_type": "code",
   "execution_count": 58,
   "metadata": {},
   "outputs": [
    {
     "data": {
      "text/html": [
       "<style>\n",
       ".dl-inline {width: auto; margin:0; padding: 0}\n",
       ".dl-inline>dt, .dl-inline>dd {float: none; width: auto; display: inline-block}\n",
       ".dl-inline>dt::after {content: \":\\0020\"; padding-right: .5ex}\n",
       ".dl-inline>dt:not(:first-of-type) {padding-left: .5ex}\n",
       "</style><dl class=dl-inline><dt>1</dt><dd>FALSE</dd><dt>2</dt><dd>FALSE</dd><dt>3</dt><dd>TRUE</dd><dt>4</dt><dd>TRUE</dd><dt>5</dt><dd>TRUE</dd><dt>6</dt><dd>FALSE</dd><dt>7</dt><dd>TRUE</dd><dt>8</dt><dd>TRUE</dd><dt>9</dt><dd>FALSE</dd><dt>10</dt><dd>TRUE</dd><dt>11</dt><dd>FALSE</dd><dt>12</dt><dd>FALSE</dd><dt>13</dt><dd>TRUE</dd><dt>14</dt><dd>FALSE</dd><dt>15</dt><dd>FALSE</dd><dt>16</dt><dd>FALSE</dd><dt>17</dt><dd>TRUE</dd><dt>18</dt><dd>TRUE</dd><dt>19</dt><dd>FALSE</dd><dt>20</dt><dd>FALSE</dd><dt>21</dt><dd>TRUE</dd><dt>22</dt><dd>FALSE</dd><dt>23</dt><dd>FALSE</dd><dt>24</dt><dd>FALSE</dd><dt>25</dt><dd>TRUE</dd><dt>26</dt><dd>TRUE</dd><dt>27</dt><dd>FALSE</dd><dt>28</dt><dd>TRUE</dd><dt>29</dt><dd>TRUE</dd><dt>30</dt><dd>TRUE</dd><dt>31</dt><dd>FALSE</dd><dt>32</dt><dd>FALSE</dd><dt>33</dt><dd>TRUE</dd><dt>34</dt><dd>TRUE</dd><dt>35</dt><dd>TRUE</dd><dt>36</dt><dd>FALSE</dd><dt>37</dt><dd>TRUE</dd><dt>38</dt><dd>TRUE</dd><dt>39</dt><dd>TRUE</dd><dt>40</dt><dd>TRUE</dd><dt>41</dt><dd>FALSE</dd><dt>42</dt><dd>FALSE</dd><dt>43</dt><dd>FALSE</dd><dt>44</dt><dd>FALSE</dd><dt>45</dt><dd>TRUE</dd><dt>46</dt><dd>FALSE</dd><dt>47</dt><dd>FALSE</dd></dl>\n"
      ],
      "text/latex": [
       "\\begin{description*}\n",
       "\\item[1] FALSE\n",
       "\\item[2] FALSE\n",
       "\\item[3] TRUE\n",
       "\\item[4] TRUE\n",
       "\\item[5] TRUE\n",
       "\\item[6] FALSE\n",
       "\\item[7] TRUE\n",
       "\\item[8] TRUE\n",
       "\\item[9] FALSE\n",
       "\\item[10] TRUE\n",
       "\\item[11] FALSE\n",
       "\\item[12] FALSE\n",
       "\\item[13] TRUE\n",
       "\\item[14] FALSE\n",
       "\\item[15] FALSE\n",
       "\\item[16] FALSE\n",
       "\\item[17] TRUE\n",
       "\\item[18] TRUE\n",
       "\\item[19] FALSE\n",
       "\\item[20] FALSE\n",
       "\\item[21] TRUE\n",
       "\\item[22] FALSE\n",
       "\\item[23] FALSE\n",
       "\\item[24] FALSE\n",
       "\\item[25] TRUE\n",
       "\\item[26] TRUE\n",
       "\\item[27] FALSE\n",
       "\\item[28] TRUE\n",
       "\\item[29] TRUE\n",
       "\\item[30] TRUE\n",
       "\\item[31] FALSE\n",
       "\\item[32] FALSE\n",
       "\\item[33] TRUE\n",
       "\\item[34] TRUE\n",
       "\\item[35] TRUE\n",
       "\\item[36] FALSE\n",
       "\\item[37] TRUE\n",
       "\\item[38] TRUE\n",
       "\\item[39] TRUE\n",
       "\\item[40] TRUE\n",
       "\\item[41] FALSE\n",
       "\\item[42] FALSE\n",
       "\\item[43] FALSE\n",
       "\\item[44] FALSE\n",
       "\\item[45] TRUE\n",
       "\\item[46] FALSE\n",
       "\\item[47] FALSE\n",
       "\\end{description*}\n"
      ],
      "text/markdown": [
       "1\n",
       ":   FALSE2\n",
       ":   FALSE3\n",
       ":   TRUE4\n",
       ":   TRUE5\n",
       ":   TRUE6\n",
       ":   FALSE7\n",
       ":   TRUE8\n",
       ":   TRUE9\n",
       ":   FALSE10\n",
       ":   TRUE11\n",
       ":   FALSE12\n",
       ":   FALSE13\n",
       ":   TRUE14\n",
       ":   FALSE15\n",
       ":   FALSE16\n",
       ":   FALSE17\n",
       ":   TRUE18\n",
       ":   TRUE19\n",
       ":   FALSE20\n",
       ":   FALSE21\n",
       ":   TRUE22\n",
       ":   FALSE23\n",
       ":   FALSE24\n",
       ":   FALSE25\n",
       ":   TRUE26\n",
       ":   TRUE27\n",
       ":   FALSE28\n",
       ":   TRUE29\n",
       ":   TRUE30\n",
       ":   TRUE31\n",
       ":   FALSE32\n",
       ":   FALSE33\n",
       ":   TRUE34\n",
       ":   TRUE35\n",
       ":   TRUE36\n",
       ":   FALSE37\n",
       ":   TRUE38\n",
       ":   TRUE39\n",
       ":   TRUE40\n",
       ":   TRUE41\n",
       ":   FALSE42\n",
       ":   FALSE43\n",
       ":   FALSE44\n",
       ":   FALSE45\n",
       ":   TRUE46\n",
       ":   FALSE47\n",
       ":   FALSE\n",
       "\n"
      ],
      "text/plain": [
       "    1     2     3     4     5     6     7     8     9    10    11    12    13 \n",
       "FALSE FALSE  TRUE  TRUE  TRUE FALSE  TRUE  TRUE FALSE  TRUE FALSE FALSE  TRUE \n",
       "   14    15    16    17    18    19    20    21    22    23    24    25    26 \n",
       "FALSE FALSE FALSE  TRUE  TRUE FALSE FALSE  TRUE FALSE FALSE FALSE  TRUE  TRUE \n",
       "   27    28    29    30    31    32    33    34    35    36    37    38    39 \n",
       "FALSE  TRUE  TRUE  TRUE FALSE FALSE  TRUE  TRUE  TRUE FALSE  TRUE  TRUE  TRUE \n",
       "   40    41    42    43    44    45    46    47 \n",
       " TRUE FALSE FALSE FALSE FALSE  TRUE FALSE FALSE "
      ]
     },
     "metadata": {},
     "output_type": "display_data"
    }
   ],
   "source": [
    "prev_ = prev >= 0.5\n",
    "prev_"
   ]
  },
  {
   "cell_type": "code",
   "execution_count": 59,
   "metadata": {},
   "outputs": [
    {
     "data": {
      "text/plain": [
       "       \n",
       "prev_    0  1\n",
       "  FALSE 21  3\n",
       "  TRUE   2 21"
      ]
     },
     "metadata": {},
     "output_type": "display_data"
    }
   ],
   "source": [
    "# Avaliação da performance/matriz de confusão\n",
    "conf = table(prev_, df[[2]])\n",
    "conf\n"
   ]
  },
  {
   "cell_type": "code",
   "execution_count": 69,
   "metadata": {},
   "outputs": [
    {
     "data": {
      "text/html": [
       "<table class=\"dataframe\">\n",
       "<caption>A data.frame: 47 × 4</caption>\n",
       "<thead>\n",
       "\t<tr><th></th><th scope=col>CANDIDATO</th><th scope=col>SITUACAO</th><th scope=col>DESPESAS</th><th scope=col>prob</th></tr>\n",
       "\t<tr><th></th><th scope=col>&lt;fct&gt;</th><th scope=col>&lt;fct&gt;</th><th scope=col>&lt;int&gt;</th><th scope=col>&lt;dbl&gt;</th></tr>\n",
       "</thead>\n",
       "<tbody>\n",
       "\t<tr><th scope=row>1</th><td>George Turner    </td><td>0</td><td>  10</td><td>0.01042526</td></tr>\n",
       "\t<tr><th scope=row>2</th><td>Victor Johnson   </td><td>0</td><td> 100</td><td>0.01623026</td></tr>\n",
       "\t<tr><th scope=row>3</th><td>Jerry Perry      </td><td>1</td><td>1600</td><td>0.96678472</td></tr>\n",
       "\t<tr><th scope=row>4</th><td>Shirley Cook     </td><td>1</td><td>1500</td><td>0.94647525</td></tr>\n",
       "\t<tr><th scope=row>5</th><td>Carolyn Bailey   </td><td>1</td><td>3300</td><td>0.99999281</td></tr>\n",
       "\t<tr><th scope=row>6</th><td>Susan Sanders    </td><td>0</td><td> 200</td><td>0.02643825</td></tr>\n",
       "\t<tr><th scope=row>7</th><td>Anthony Harris   </td><td>1</td><td>1800</td><td>0.98747837</td></tr>\n",
       "\t<tr><th scope=row>8</th><td>Philip Richardson</td><td>1</td><td>1700</td><td>0.97955443</td></tr>\n",
       "\t<tr><th scope=row>9</th><td>Eugene Phillips  </td><td>0</td><td> 300</td><td>0.04278732</td></tr>\n",
       "\t<tr><th scope=row>10</th><td>Mildred Morris   </td><td>1</td><td>1800</td><td>0.98747837</td></tr>\n",
       "\t<tr><th scope=row>11</th><td>Richard Jones    </td><td>0</td><td> 100</td><td>0.01623026</td></tr>\n",
       "\t<tr><th scope=row>12</th><td>Joan Hernandez   </td><td>0</td><td> 500</td><td>0.10802715</td></tr>\n",
       "\t<tr><th scope=row>13</th><td>Lawrence Mitchell</td><td>1</td><td>3000</td><td>0.99996795</td></tr>\n",
       "\t<tr><th scope=row>14</th><td>Annie Brooks     </td><td>0</td><td>  20</td><td>0.01095215</td></tr>\n",
       "\t<tr><th scope=row>15</th><td>Stephen Simmons  </td><td>0</td><td> 200</td><td>0.02643825</td></tr>\n",
       "\t<tr><th scope=row>16</th><td>Samuel Russell   </td><td>1</td><td> 700</td><td>0.24706594</td></tr>\n",
       "\t<tr><th scope=row>17</th><td>Jason Brown      </td><td>1</td><td>1600</td><td>0.96678472</td></tr>\n",
       "\t<tr><th scope=row>18</th><td>Bobby Gonzalez   </td><td>1</td><td>1900</td><td>0.99235525</td></tr>\n",
       "\t<tr><th scope=row>19</th><td>Steven Coleman   </td><td>0</td><td> 100</td><td>0.01623026</td></tr>\n",
       "\t<tr><th scope=row>20</th><td>Benjamin Ramirez </td><td>0</td><td> 400</td><td>0.06853472</td></tr>\n",
       "\t<tr><th scope=row>21</th><td> Pamela Bryant   </td><td>1</td><td>2700</td><td>0.99985707</td></tr>\n",
       "\t<tr><th scope=row>22</th><td>Billy Perez      </td><td>0</td><td> 200</td><td>0.02643825</td></tr>\n",
       "\t<tr><th scope=row>23</th><td>Julia Watson     </td><td>0</td><td> 300</td><td>0.04278732</td></tr>\n",
       "\t<tr><th scope=row>24</th><td>Laura Butler     </td><td>0</td><td> 500</td><td>0.10802715</td></tr>\n",
       "\t<tr><th scope=row>25</th><td> Gary Peterson   </td><td>1</td><td>2500</td><td>0.99961283</td></tr>\n",
       "\t<tr><th scope=row>26</th><td>Carl Lewis       </td><td>1</td><td>1400</td><td>0.91484139</td></tr>\n",
       "\t<tr><th scope=row>27</th><td>Virginia Scott   </td><td>0</td><td> 700</td><td>0.24706594</td></tr>\n",
       "\t<tr><th scope=row>28</th><td>Eric Alexander   </td><td>1</td><td>1700</td><td>0.97955443</td></tr>\n",
       "\t<tr><th scope=row>29</th><td>Jane Rodriguez   </td><td>1</td><td>1400</td><td>0.91484139</td></tr>\n",
       "\t<tr><th scope=row>30</th><td>Terry Smith      </td><td>1</td><td>1600</td><td>0.96678472</td></tr>\n",
       "\t<tr><th scope=row>31</th><td>Donald Campbell  </td><td>0</td><td> 400</td><td>0.06853472</td></tr>\n",
       "\t<tr><th scope=row>32</th><td>Helen Young      </td><td>0</td><td> 200</td><td>0.02643825</td></tr>\n",
       "\t<tr><th scope=row>33</th><td>Dorothy Bennett  </td><td>1</td><td>1600</td><td>0.96678472</td></tr>\n",
       "\t<tr><th scope=row>34</th><td>Stephanie Baker  </td><td>1</td><td>2200</td><td>0.99827561</td></tr>\n",
       "\t<tr><th scope=row>35</th><td>Joseph Gray      </td><td>1</td><td>1900</td><td>0.99235525</td></tr>\n",
       "\t<tr><th scope=row>36</th><td>Beverly King     </td><td>0</td><td> 200</td><td>0.02643825</td></tr>\n",
       "\t<tr><th scope=row>37</th><td>Lori Collins     </td><td>0</td><td>1200</td><td>0.79858991</td></tr>\n",
       "\t<tr><th scope=row>38</th><td>Diana Moore      </td><td>1</td><td>1700</td><td>0.97955443</td></tr>\n",
       "\t<tr><th scope=row>39</th><td>Diane Davis      </td><td>1</td><td>1500</td><td>0.94647525</td></tr>\n",
       "\t<tr><th scope=row>40</th><td>Timothy Reed     </td><td>1</td><td>2100</td><td>0.99716477</td></tr>\n",
       "\t<tr><th scope=row>41</th><td>Andrea Washington</td><td>0</td><td> 400</td><td>0.06853472</td></tr>\n",
       "\t<tr><th scope=row>42</th><td>Nicholas Garcia  </td><td>0</td><td> 800</td><td>0.35070153</td></tr>\n",
       "\t<tr><th scope=row>43</th><td>Barbara White    </td><td>0</td><td> 400</td><td>0.06853472</td></tr>\n",
       "\t<tr><th scope=row>44</th><td>Mark Hall        </td><td>1</td><td> 500</td><td>0.10802715</td></tr>\n",
       "\t<tr><th scope=row>45</th><td>Katherine Price  </td><td>0</td><td>1000</td><td>0.59405971</td></tr>\n",
       "\t<tr><th scope=row>46</th><td>Linda Long       </td><td>0</td><td> 300</td><td>0.04278732</td></tr>\n",
       "\t<tr><th scope=row>47</th><td>Harry Anderson   </td><td>1</td><td> 800</td><td>0.35070153</td></tr>\n",
       "</tbody>\n",
       "</table>\n"
      ],
      "text/latex": [
       "A data.frame: 47 × 4\n",
       "\\begin{tabular}{r|llll}\n",
       "  & CANDIDATO & SITUACAO & DESPESAS & prob\\\\\n",
       "  & <fct> & <fct> & <int> & <dbl>\\\\\n",
       "\\hline\n",
       "\t1 & George Turner     & 0 &   10 & 0.01042526\\\\\n",
       "\t2 & Victor Johnson    & 0 &  100 & 0.01623026\\\\\n",
       "\t3 & Jerry Perry       & 1 & 1600 & 0.96678472\\\\\n",
       "\t4 & Shirley Cook      & 1 & 1500 & 0.94647525\\\\\n",
       "\t5 & Carolyn Bailey    & 1 & 3300 & 0.99999281\\\\\n",
       "\t6 & Susan Sanders     & 0 &  200 & 0.02643825\\\\\n",
       "\t7 & Anthony Harris    & 1 & 1800 & 0.98747837\\\\\n",
       "\t8 & Philip Richardson & 1 & 1700 & 0.97955443\\\\\n",
       "\t9 & Eugene Phillips   & 0 &  300 & 0.04278732\\\\\n",
       "\t10 & Mildred Morris    & 1 & 1800 & 0.98747837\\\\\n",
       "\t11 & Richard Jones     & 0 &  100 & 0.01623026\\\\\n",
       "\t12 & Joan Hernandez    & 0 &  500 & 0.10802715\\\\\n",
       "\t13 & Lawrence Mitchell & 1 & 3000 & 0.99996795\\\\\n",
       "\t14 & Annie Brooks      & 0 &   20 & 0.01095215\\\\\n",
       "\t15 & Stephen Simmons   & 0 &  200 & 0.02643825\\\\\n",
       "\t16 & Samuel Russell    & 1 &  700 & 0.24706594\\\\\n",
       "\t17 & Jason Brown       & 1 & 1600 & 0.96678472\\\\\n",
       "\t18 & Bobby Gonzalez    & 1 & 1900 & 0.99235525\\\\\n",
       "\t19 & Steven Coleman    & 0 &  100 & 0.01623026\\\\\n",
       "\t20 & Benjamin Ramirez  & 0 &  400 & 0.06853472\\\\\n",
       "\t21 &  Pamela Bryant    & 1 & 2700 & 0.99985707\\\\\n",
       "\t22 & Billy Perez       & 0 &  200 & 0.02643825\\\\\n",
       "\t23 & Julia Watson      & 0 &  300 & 0.04278732\\\\\n",
       "\t24 & Laura Butler      & 0 &  500 & 0.10802715\\\\\n",
       "\t25 &  Gary Peterson    & 1 & 2500 & 0.99961283\\\\\n",
       "\t26 & Carl Lewis        & 1 & 1400 & 0.91484139\\\\\n",
       "\t27 & Virginia Scott    & 0 &  700 & 0.24706594\\\\\n",
       "\t28 & Eric Alexander    & 1 & 1700 & 0.97955443\\\\\n",
       "\t29 & Jane Rodriguez    & 1 & 1400 & 0.91484139\\\\\n",
       "\t30 & Terry Smith       & 1 & 1600 & 0.96678472\\\\\n",
       "\t31 & Donald Campbell   & 0 &  400 & 0.06853472\\\\\n",
       "\t32 & Helen Young       & 0 &  200 & 0.02643825\\\\\n",
       "\t33 & Dorothy Bennett   & 1 & 1600 & 0.96678472\\\\\n",
       "\t34 & Stephanie Baker   & 1 & 2200 & 0.99827561\\\\\n",
       "\t35 & Joseph Gray       & 1 & 1900 & 0.99235525\\\\\n",
       "\t36 & Beverly King      & 0 &  200 & 0.02643825\\\\\n",
       "\t37 & Lori Collins      & 0 & 1200 & 0.79858991\\\\\n",
       "\t38 & Diana Moore       & 1 & 1700 & 0.97955443\\\\\n",
       "\t39 & Diane Davis       & 1 & 1500 & 0.94647525\\\\\n",
       "\t40 & Timothy Reed      & 1 & 2100 & 0.99716477\\\\\n",
       "\t41 & Andrea Washington & 0 &  400 & 0.06853472\\\\\n",
       "\t42 & Nicholas Garcia   & 0 &  800 & 0.35070153\\\\\n",
       "\t43 & Barbara White     & 0 &  400 & 0.06853472\\\\\n",
       "\t44 & Mark Hall         & 1 &  500 & 0.10802715\\\\\n",
       "\t45 & Katherine Price   & 0 & 1000 & 0.59405971\\\\\n",
       "\t46 & Linda Long        & 0 &  300 & 0.04278732\\\\\n",
       "\t47 & Harry Anderson    & 1 &  800 & 0.35070153\\\\\n",
       "\\end{tabular}\n"
      ],
      "text/markdown": [
       "\n",
       "A data.frame: 47 × 4\n",
       "\n",
       "| <!--/--> | CANDIDATO &lt;fct&gt; | SITUACAO &lt;fct&gt; | DESPESAS &lt;int&gt; | prob &lt;dbl&gt; |\n",
       "|---|---|---|---|---|\n",
       "| 1 | George Turner     | 0 |   10 | 0.01042526 |\n",
       "| 2 | Victor Johnson    | 0 |  100 | 0.01623026 |\n",
       "| 3 | Jerry Perry       | 1 | 1600 | 0.96678472 |\n",
       "| 4 | Shirley Cook      | 1 | 1500 | 0.94647525 |\n",
       "| 5 | Carolyn Bailey    | 1 | 3300 | 0.99999281 |\n",
       "| 6 | Susan Sanders     | 0 |  200 | 0.02643825 |\n",
       "| 7 | Anthony Harris    | 1 | 1800 | 0.98747837 |\n",
       "| 8 | Philip Richardson | 1 | 1700 | 0.97955443 |\n",
       "| 9 | Eugene Phillips   | 0 |  300 | 0.04278732 |\n",
       "| 10 | Mildred Morris    | 1 | 1800 | 0.98747837 |\n",
       "| 11 | Richard Jones     | 0 |  100 | 0.01623026 |\n",
       "| 12 | Joan Hernandez    | 0 |  500 | 0.10802715 |\n",
       "| 13 | Lawrence Mitchell | 1 | 3000 | 0.99996795 |\n",
       "| 14 | Annie Brooks      | 0 |   20 | 0.01095215 |\n",
       "| 15 | Stephen Simmons   | 0 |  200 | 0.02643825 |\n",
       "| 16 | Samuel Russell    | 1 |  700 | 0.24706594 |\n",
       "| 17 | Jason Brown       | 1 | 1600 | 0.96678472 |\n",
       "| 18 | Bobby Gonzalez    | 1 | 1900 | 0.99235525 |\n",
       "| 19 | Steven Coleman    | 0 |  100 | 0.01623026 |\n",
       "| 20 | Benjamin Ramirez  | 0 |  400 | 0.06853472 |\n",
       "| 21 |  Pamela Bryant    | 1 | 2700 | 0.99985707 |\n",
       "| 22 | Billy Perez       | 0 |  200 | 0.02643825 |\n",
       "| 23 | Julia Watson      | 0 |  300 | 0.04278732 |\n",
       "| 24 | Laura Butler      | 0 |  500 | 0.10802715 |\n",
       "| 25 |  Gary Peterson    | 1 | 2500 | 0.99961283 |\n",
       "| 26 | Carl Lewis        | 1 | 1400 | 0.91484139 |\n",
       "| 27 | Virginia Scott    | 0 |  700 | 0.24706594 |\n",
       "| 28 | Eric Alexander    | 1 | 1700 | 0.97955443 |\n",
       "| 29 | Jane Rodriguez    | 1 | 1400 | 0.91484139 |\n",
       "| 30 | Terry Smith       | 1 | 1600 | 0.96678472 |\n",
       "| 31 | Donald Campbell   | 0 |  400 | 0.06853472 |\n",
       "| 32 | Helen Young       | 0 |  200 | 0.02643825 |\n",
       "| 33 | Dorothy Bennett   | 1 | 1600 | 0.96678472 |\n",
       "| 34 | Stephanie Baker   | 1 | 2200 | 0.99827561 |\n",
       "| 35 | Joseph Gray       | 1 | 1900 | 0.99235525 |\n",
       "| 36 | Beverly King      | 0 |  200 | 0.02643825 |\n",
       "| 37 | Lori Collins      | 0 | 1200 | 0.79858991 |\n",
       "| 38 | Diana Moore       | 1 | 1700 | 0.97955443 |\n",
       "| 39 | Diane Davis       | 1 | 1500 | 0.94647525 |\n",
       "| 40 | Timothy Reed      | 1 | 2100 | 0.99716477 |\n",
       "| 41 | Andrea Washington | 0 |  400 | 0.06853472 |\n",
       "| 42 | Nicholas Garcia   | 0 |  800 | 0.35070153 |\n",
       "| 43 | Barbara White     | 0 |  400 | 0.06853472 |\n",
       "| 44 | Mark Hall         | 1 |  500 | 0.10802715 |\n",
       "| 45 | Katherine Price   | 0 | 1000 | 0.59405971 |\n",
       "| 46 | Linda Long        | 0 |  300 | 0.04278732 |\n",
       "| 47 | Harry Anderson    | 1 |  800 | 0.35070153 |\n",
       "\n"
      ],
      "text/plain": [
       "   CANDIDATO         SITUACAO DESPESAS prob      \n",
       "1  George Turner     0          10     0.01042526\n",
       "2  Victor Johnson    0         100     0.01623026\n",
       "3  Jerry Perry       1        1600     0.96678472\n",
       "4  Shirley Cook      1        1500     0.94647525\n",
       "5  Carolyn Bailey    1        3300     0.99999281\n",
       "6  Susan Sanders     0         200     0.02643825\n",
       "7  Anthony Harris    1        1800     0.98747837\n",
       "8  Philip Richardson 1        1700     0.97955443\n",
       "9  Eugene Phillips   0         300     0.04278732\n",
       "10 Mildred Morris    1        1800     0.98747837\n",
       "11 Richard Jones     0         100     0.01623026\n",
       "12 Joan Hernandez    0         500     0.10802715\n",
       "13 Lawrence Mitchell 1        3000     0.99996795\n",
       "14 Annie Brooks      0          20     0.01095215\n",
       "15 Stephen Simmons   0         200     0.02643825\n",
       "16 Samuel Russell    1         700     0.24706594\n",
       "17 Jason Brown       1        1600     0.96678472\n",
       "18 Bobby Gonzalez    1        1900     0.99235525\n",
       "19 Steven Coleman    0         100     0.01623026\n",
       "20 Benjamin Ramirez  0         400     0.06853472\n",
       "21  Pamela Bryant    1        2700     0.99985707\n",
       "22 Billy Perez       0         200     0.02643825\n",
       "23 Julia Watson      0         300     0.04278732\n",
       "24 Laura Butler      0         500     0.10802715\n",
       "25  Gary Peterson    1        2500     0.99961283\n",
       "26 Carl Lewis        1        1400     0.91484139\n",
       "27 Virginia Scott    0         700     0.24706594\n",
       "28 Eric Alexander    1        1700     0.97955443\n",
       "29 Jane Rodriguez    1        1400     0.91484139\n",
       "30 Terry Smith       1        1600     0.96678472\n",
       "31 Donald Campbell   0         400     0.06853472\n",
       "32 Helen Young       0         200     0.02643825\n",
       "33 Dorothy Bennett   1        1600     0.96678472\n",
       "34 Stephanie Baker   1        2200     0.99827561\n",
       "35 Joseph Gray       1        1900     0.99235525\n",
       "36 Beverly King      0         200     0.02643825\n",
       "37 Lori Collins      0        1200     0.79858991\n",
       "38 Diana Moore       1        1700     0.97955443\n",
       "39 Diane Davis       1        1500     0.94647525\n",
       "40 Timothy Reed      1        2100     0.99716477\n",
       "41 Andrea Washington 0         400     0.06853472\n",
       "42 Nicholas Garcia   0         800     0.35070153\n",
       "43 Barbara White     0         400     0.06853472\n",
       "44 Mark Hall         1         500     0.10802715\n",
       "45 Katherine Price   0        1000     0.59405971\n",
       "46 Linda Long        0         300     0.04278732\n",
       "47 Harry Anderson    1         800     0.35070153"
      ]
     },
     "metadata": {},
     "output_type": "display_data"
    }
   ],
   "source": [
    "df_prob = data.frame(df,\n",
    "                    prob = prev)\n",
    "df_prob"
   ]
  },
  {
   "cell_type": "code",
   "execution_count": 49,
   "metadata": {},
   "outputs": [],
   "source": [
    "vp = conf[1] # Acerto\n",
    "fp = conf[2] # Erro\n",
    "fn = conf[3] # Erro\n",
    "vn = conf[4] # Acerto\n"
   ]
  },
  {
   "cell_type": "code",
   "execution_count": 50,
   "metadata": {},
   "outputs": [
    {
     "data": {
      "text/html": [
       "0.893617021276596"
      ],
      "text/latex": [
       "0.893617021276596"
      ],
      "text/markdown": [
       "0.893617021276596"
      ],
      "text/plain": [
       "[1] 0.893617"
      ]
     },
     "metadata": {},
     "output_type": "display_data"
    }
   ],
   "source": [
    "# Tx de acerto\n",
    "tx_acerto = (vp + vn) / sum(conf)\n",
    "tx_acerto"
   ]
  },
  {
   "cell_type": "code",
   "execution_count": 51,
   "metadata": {},
   "outputs": [
    {
     "data": {
      "text/html": [
       "0.875"
      ],
      "text/latex": [
       "0.875"
      ],
      "text/markdown": [
       "0.875"
      ],
      "text/plain": [
       "[1] 0.875"
      ]
     },
     "metadata": {},
     "output_type": "display_data"
    }
   ],
   "source": [
    "# De todas observações da classe 0, quantas foram classificadas como 0 \n",
    "sensitividade = vp/(vp+fn)\n",
    "sensitividade"
   ]
  },
  {
   "cell_type": "code",
   "execution_count": 53,
   "metadata": {},
   "outputs": [
    {
     "data": {
      "text/html": [
       "0.91304347826087"
      ],
      "text/latex": [
       "0.91304347826087"
      ],
      "text/markdown": [
       "0.91304347826087"
      ],
      "text/plain": [
       "[1] 0.9130435"
      ]
     },
     "metadata": {},
     "output_type": "display_data"
    }
   ],
   "source": [
    "# De todas observações da classe 1, quantas foram classificadas como 1\n",
    "especificidade = vn/(vn+fp)\n",
    "especificidade"
   ]
  },
  {
   "cell_type": "code",
   "execution_count": null,
   "metadata": {},
   "outputs": [],
   "source": []
  }
 ],
 "metadata": {
  "kernelspec": {
   "display_name": "R",
   "language": "R",
   "name": "ir"
  },
  "language_info": {
   "codemirror_mode": "r",
   "file_extension": ".r",
   "mimetype": "text/x-r-source",
   "name": "R",
   "pygments_lexer": "r",
   "version": "3.6.1"
  }
 },
 "nbformat": 4,
 "nbformat_minor": 4
}
