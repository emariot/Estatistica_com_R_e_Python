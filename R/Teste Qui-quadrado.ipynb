{
 "cells": [
  {
   "cell_type": "markdown",
   "metadata": {},
   "source": [
    "# Teste Qui-quadrado\n",
    "##  É uma medida de divergência entre a distribuição dos dados e uma distribuição esperada ou hipotética."
   ]
  },
  {
   "cell_type": "code",
   "execution_count": 1,
   "metadata": {},
   "outputs": [
    {
     "data": {
      "text/html": [
       "<table>\n",
       "<thead><tr><th></th><th scope=col>Assiste</th><th scope=col>NãoAssites</th></tr></thead>\n",
       "<tbody>\n",
       "\t<tr><th scope=row>Masculino</th><td>19</td><td> 6</td></tr>\n",
       "\t<tr><th scope=row>Feminino</th><td>43</td><td>32</td></tr>\n",
       "</tbody>\n",
       "</table>\n"
      ],
      "text/latex": [
       "\\begin{tabular}{r|ll}\n",
       "  & Assiste & NãoAssites\\\\\n",
       "\\hline\n",
       "\tMasculino & 19 &  6\\\\\n",
       "\tFeminino & 43 & 32\\\\\n",
       "\\end{tabular}\n"
      ],
      "text/markdown": [
       "\n",
       "| <!--/--> | Assiste | NãoAssites |\n",
       "|---|---|---|\n",
       "| Masculino | 19 |  6 |\n",
       "| Feminino | 43 | 32 |\n",
       "\n"
      ],
      "text/plain": [
       "          Assiste NãoAssites\n",
       "Masculino 19       6        \n",
       "Feminino  43      32        "
      ]
     },
     "metadata": {},
     "output_type": "display_data"
    }
   ],
   "source": [
    "# Pessoas que assitem novelas de acordo com o gênero.\n",
    "df = matrix(c(19,6,43,32),nrow=2,byrow=T)\n",
    "rownames(df)=c(\"Masculino\", \"Feminino\")\n",
    "colnames(df)=c(\"Assiste\", \"NãoAssites\")\n",
    "df"
   ]
  },
  {
   "cell_type": "code",
   "execution_count": 3,
   "metadata": {},
   "outputs": [
    {
     "data": {
      "text/plain": [
       "\n",
       "\tPearson's Chi-squared test with Yates' continuity correction\n",
       "\n",
       "data:  df\n",
       "X-squared = 2.0374, df = 1, p-value = 0.1535\n"
      ]
     },
     "metadata": {},
     "output_type": "display_data"
    }
   ],
   "source": [
    "# alfa de 0.05\n",
    "chisq.test(df)"
   ]
  },
  {
   "cell_type": "code",
   "execution_count": 4,
   "metadata": {},
   "outputs": [
    {
     "data": {
      "text/html": [
       "<table>\n",
       "<thead><tr><th></th><th scope=col>Assiste</th><th scope=col>NãoAssites</th></tr></thead>\n",
       "<tbody>\n",
       "\t<tr><th scope=row>Masculino</th><td>22</td><td> 3</td></tr>\n",
       "\t<tr><th scope=row>Feminino</th><td>43</td><td>32</td></tr>\n",
       "</tbody>\n",
       "</table>\n"
      ],
      "text/latex": [
       "\\begin{tabular}{r|ll}\n",
       "  & Assiste & NãoAssites\\\\\n",
       "\\hline\n",
       "\tMasculino & 22 &  3\\\\\n",
       "\tFeminino & 43 & 32\\\\\n",
       "\\end{tabular}\n"
      ],
      "text/markdown": [
       "\n",
       "| <!--/--> | Assiste | NãoAssites |\n",
       "|---|---|---|\n",
       "| Masculino | 22 |  3 |\n",
       "| Feminino | 43 | 32 |\n",
       "\n"
      ],
      "text/plain": [
       "          Assiste NãoAssites\n",
       "Masculino 22       3        \n",
       "Feminino  43      32        "
      ]
     },
     "metadata": {},
     "output_type": "display_data"
    }
   ],
   "source": [
    "df_a = matrix(c(22,3,43,32),nrow=2,byrow=T)\n",
    "rownames(df_a)=c(\"Masculino\", \"Feminino\")\n",
    "colnames(df_a)=c(\"Assiste\", \"NãoAssites\")\n",
    "df_a"
   ]
  },
  {
   "cell_type": "code",
   "execution_count": 6,
   "metadata": {},
   "outputs": [
    {
     "data": {
      "text/plain": [
       "\n",
       "\tPearson's Chi-squared test with Yates' continuity correction\n",
       "\n",
       "data:  df_a\n",
       "X-squared = 6.4615, df = 1, p-value = 0.01102\n"
      ]
     },
     "metadata": {},
     "output_type": "display_data"
    }
   ],
   "source": [
    "# Neste caso há uma diferença significativa\n",
    "chisq.test(df_a)"
   ]
  },
  {
   "cell_type": "code",
   "execution_count": null,
   "metadata": {},
   "outputs": [],
   "source": []
  }
 ],
 "metadata": {
  "kernelspec": {
   "display_name": "R",
   "language": "R",
   "name": "ir"
  },
  "language_info": {
   "codemirror_mode": "r",
   "file_extension": ".r",
   "mimetype": "text/x-r-source",
   "name": "R",
   "pygments_lexer": "r",
   "version": "3.6.1"
  }
 },
 "nbformat": 4,
 "nbformat_minor": 4
}
