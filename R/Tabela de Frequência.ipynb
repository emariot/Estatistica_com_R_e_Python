{
 "cells": [
  {
   "cell_type": "markdown",
   "id": "pacific-channels",
   "metadata": {},
   "source": [
    "# Contrução de uma tabela de frequência em R\n",
    "---"
   ]
  },
  {
   "cell_type": "code",
   "execution_count": 4,
   "id": "stuck-tokyo",
   "metadata": {},
   "outputs": [
    {
     "data": {
      "text/html": [
       "<table>\n",
       "<thead><tr><th scope=col>X</th><th scope=col>N</th><th scope=col>estado_civil</th><th scope=col>grau_instrucao</th><th scope=col>n_filhos</th><th scope=col>salario</th><th scope=col>idade_anos</th><th scope=col>idade_meses</th><th scope=col>reg_procedencia</th></tr></thead>\n",
       "<tbody>\n",
       "\t<tr><td>1                 </td><td>1                 </td><td>solteiro          </td><td>ensino fundamental</td><td>NA                </td><td>4.00              </td><td>26                </td><td> 3                </td><td>interior          </td></tr>\n",
       "\t<tr><td>2                 </td><td>2                 </td><td>casado            </td><td>ensino fundamental</td><td> 1                </td><td>4.56              </td><td>32                </td><td>10                </td><td>capital           </td></tr>\n",
       "\t<tr><td>3                 </td><td>3                 </td><td>casado            </td><td>ensino fundamental</td><td> 2                </td><td>5.25              </td><td>36                </td><td> 5                </td><td>capital           </td></tr>\n",
       "\t<tr><td>4                 </td><td>4                 </td><td>solteiro          </td><td>ensino medio      </td><td>NA                </td><td>5.73              </td><td>20                </td><td>10                </td><td>outra             </td></tr>\n",
       "\t<tr><td>5                 </td><td>5                 </td><td>solteiro          </td><td>ensino fundamental</td><td>NA                </td><td>6.26              </td><td>40                </td><td> 7                </td><td>outra             </td></tr>\n",
       "\t<tr><td>6                 </td><td>6                 </td><td>casado            </td><td>ensino fundamental</td><td> 0                </td><td>6.66              </td><td>28                </td><td> 0                </td><td>interior          </td></tr>\n",
       "</tbody>\n",
       "</table>\n"
      ],
      "text/latex": [
       "\\begin{tabular}{r|lllllllll}\n",
       " X & N & estado\\_civil & grau\\_instrucao & n\\_filhos & salario & idade\\_anos & idade\\_meses & reg\\_procedencia\\\\\n",
       "\\hline\n",
       "\t 1                  & 1                  & solteiro           & ensino fundamental & NA                 & 4.00               & 26                 &  3                 & interior          \\\\\n",
       "\t 2                  & 2                  & casado             & ensino fundamental &  1                 & 4.56               & 32                 & 10                 & capital           \\\\\n",
       "\t 3                  & 3                  & casado             & ensino fundamental &  2                 & 5.25               & 36                 &  5                 & capital           \\\\\n",
       "\t 4                  & 4                  & solteiro           & ensino medio       & NA                 & 5.73               & 20                 & 10                 & outra             \\\\\n",
       "\t 5                  & 5                  & solteiro           & ensino fundamental & NA                 & 6.26               & 40                 &  7                 & outra             \\\\\n",
       "\t 6                  & 6                  & casado             & ensino fundamental &  0                 & 6.66               & 28                 &  0                 & interior          \\\\\n",
       "\\end{tabular}\n"
      ],
      "text/markdown": [
       "\n",
       "| X | N | estado_civil | grau_instrucao | n_filhos | salario | idade_anos | idade_meses | reg_procedencia |\n",
       "|---|---|---|---|---|---|---|---|---|\n",
       "| 1                  | 1                  | solteiro           | ensino fundamental | NA                 | 4.00               | 26                 |  3                 | interior           |\n",
       "| 2                  | 2                  | casado             | ensino fundamental |  1                 | 4.56               | 32                 | 10                 | capital            |\n",
       "| 3                  | 3                  | casado             | ensino fundamental |  2                 | 5.25               | 36                 |  5                 | capital            |\n",
       "| 4                  | 4                  | solteiro           | ensino medio       | NA                 | 5.73               | 20                 | 10                 | outra              |\n",
       "| 5                  | 5                  | solteiro           | ensino fundamental | NA                 | 6.26               | 40                 |  7                 | outra              |\n",
       "| 6                  | 6                  | casado             | ensino fundamental |  0                 | 6.66               | 28                 |  0                 | interior           |\n",
       "\n"
      ],
      "text/plain": [
       "  X N estado_civil grau_instrucao     n_filhos salario idade_anos idade_meses\n",
       "1 1 1 solteiro     ensino fundamental NA       4.00    26          3         \n",
       "2 2 2 casado       ensino fundamental  1       4.56    32         10         \n",
       "3 3 3 casado       ensino fundamental  2       5.25    36          5         \n",
       "4 4 4 solteiro     ensino medio       NA       5.73    20         10         \n",
       "5 5 5 solteiro     ensino fundamental NA       6.26    40          7         \n",
       "6 6 6 casado       ensino fundamental  0       6.66    28          0         \n",
       "  reg_procedencia\n",
       "1 interior       \n",
       "2 capital        \n",
       "3 capital        \n",
       "4 outra          \n",
       "5 outra          \n",
       "6 interior       "
      ]
     },
     "metadata": {},
     "output_type": "display_data"
    }
   ],
   "source": [
    "data = read.table(\"dataset/Usuarios.csv\", dec=\".\", sep=\",\",h=T, fileEncoding=\"windows-1252\")\n",
    "head(data)"
   ]
  },
  {
   "cell_type": "code",
   "execution_count": 6,
   "id": "raising-scanning",
   "metadata": {},
   "outputs": [
    {
     "data": {
      "text/html": [
       "<ol class=list-inline>\n",
       "\t<li>'X'</li>\n",
       "\t<li>'N'</li>\n",
       "\t<li>'estado_civil'</li>\n",
       "\t<li>'grau_instrucao'</li>\n",
       "\t<li>'n_filhos'</li>\n",
       "\t<li>'salario'</li>\n",
       "\t<li>'idade_anos'</li>\n",
       "\t<li>'idade_meses'</li>\n",
       "\t<li>'reg_procedencia'</li>\n",
       "</ol>\n"
      ],
      "text/latex": [
       "\\begin{enumerate*}\n",
       "\\item 'X'\n",
       "\\item 'N'\n",
       "\\item 'estado\\_civil'\n",
       "\\item 'grau\\_instrucao'\n",
       "\\item 'n\\_filhos'\n",
       "\\item 'salario'\n",
       "\\item 'idade\\_anos'\n",
       "\\item 'idade\\_meses'\n",
       "\\item 'reg\\_procedencia'\n",
       "\\end{enumerate*}\n"
      ],
      "text/markdown": [
       "1. 'X'\n",
       "2. 'N'\n",
       "3. 'estado_civil'\n",
       "4. 'grau_instrucao'\n",
       "5. 'n_filhos'\n",
       "6. 'salario'\n",
       "7. 'idade_anos'\n",
       "8. 'idade_meses'\n",
       "9. 'reg_procedencia'\n",
       "\n",
       "\n"
      ],
      "text/plain": [
       "[1] \"X\"               \"N\"               \"estado_civil\"    \"grau_instrucao\" \n",
       "[5] \"n_filhos\"        \"salario\"         \"idade_anos\"      \"idade_meses\"    \n",
       "[9] \"reg_procedencia\""
      ]
     },
     "metadata": {},
     "output_type": "display_data"
    }
   ],
   "source": [
    "# Variáveis\n",
    "names(data)"
   ]
  },
  {
   "cell_type": "code",
   "execution_count": 7,
   "id": "descending-beginning",
   "metadata": {},
   "outputs": [
    {
     "name": "stdout",
     "output_type": "stream",
     "text": [
      "'data.frame':\t36 obs. of  9 variables:\n",
      " $ X              : int  1 2 3 4 5 6 7 8 9 10 ...\n",
      " $ N              : int  1 2 3 4 5 6 7 8 9 10 ...\n",
      " $ estado_civil   : Factor w/ 2 levels \"casado\",\"solteiro\": 2 1 1 2 2 1 2 2 1 2 ...\n",
      " $ grau_instrucao : Factor w/ 3 levels \"ensino fundamental\",..: 1 1 1 2 1 1 1 1 2 2 ...\n",
      " $ n_filhos       : int  NA 1 2 NA NA 0 NA NA 1 NA ...\n",
      " $ salario        : num  4 4.56 5.25 5.73 6.26 6.66 6.86 7.39 7.59 7.44 ...\n",
      " $ idade_anos     : int  26 32 36 20 40 28 41 43 34 23 ...\n",
      " $ idade_meses    : int  3 10 5 10 7 0 0 4 10 6 ...\n",
      " $ reg_procedencia: Factor w/ 3 levels \"capital\",\"interior\",..: 2 1 1 3 3 2 2 1 1 3 ...\n"
     ]
    }
   ],
   "source": [
    "str(data)"
   ]
  },
  {
   "cell_type": "code",
   "execution_count": 10,
   "id": "crazy-component",
   "metadata": {},
   "outputs": [
    {
     "data": {
      "text/plain": [
       "   Min. 1st Qu.  Median    Mean 3rd Qu.    Max. \n",
       "  4.000   7.553  10.165  11.122  14.060  23.300 "
      ]
     },
     "metadata": {},
     "output_type": "display_data"
    },
    {
     "data": {
      "text/html": [
       "<dl class=dl-horizontal>\n",
       "\t<dt>ensino fundamental</dt>\n",
       "\t\t<dd>12</dd>\n",
       "\t<dt>ensino medio</dt>\n",
       "\t\t<dd>18</dd>\n",
       "\t<dt>superior</dt>\n",
       "\t\t<dd>6</dd>\n",
       "</dl>\n"
      ],
      "text/latex": [
       "\\begin{description*}\n",
       "\\item[ensino fundamental] 12\n",
       "\\item[ensino medio] 18\n",
       "\\item[superior] 6\n",
       "\\end{description*}\n"
      ],
      "text/markdown": [
       "ensino fundamental\n",
       ":   12ensino medio\n",
       ":   18superior\n",
       ":   6\n",
       "\n"
      ],
      "text/plain": [
       "ensino fundamental       ensino medio           superior \n",
       "                12                 18                  6 "
      ]
     },
     "metadata": {},
     "output_type": "display_data"
    }
   ],
   "source": [
    "# Sumário dos salários e do grau de instrução\n",
    "summary(data$salario)\n",
    "summary(data$grau_instrucao)"
   ]
  },
  {
   "cell_type": "code",
   "execution_count": 13,
   "id": "isolated-processor",
   "metadata": {},
   "outputs": [
    {
     "data": {
      "text/html": [
       "11.1222222222222"
      ],
      "text/latex": [
       "11.1222222222222"
      ],
      "text/markdown": [
       "11.1222222222222"
      ],
      "text/plain": [
       "[1] 11.12222"
      ]
     },
     "metadata": {},
     "output_type": "display_data"
    }
   ],
   "source": [
    "# Média dos salários\n",
    "mean(data$salario)\n"
   ]
  },
  {
   "cell_type": "markdown",
   "id": "amazing-cartoon",
   "metadata": {},
   "source": [
    "## Tabela de Frequência Absoluta"
   ]
  },
  {
   "cell_type": "code",
   "execution_count": 38,
   "id": "sought-sarah",
   "metadata": {},
   "outputs": [
    {
     "data": {
      "text/plain": [
       "\n",
       "ensino fundamental       ensino medio           superior \n",
       "                12                 18                  6 "
      ]
     },
     "metadata": {},
     "output_type": "display_data"
    }
   ],
   "source": [
    "freq = table(data$grau_instrucao)\n",
    "freq"
   ]
  },
  {
   "cell_type": "code",
   "execution_count": 39,
   "id": "radical-vienna",
   "metadata": {},
   "outputs": [
    {
     "data": {
      "text/plain": [
       "\n",
       "ensino fundamental       ensino medio           superior \n",
       "         0.3333333          0.5000000          0.1666667 "
      ]
     },
     "metadata": {},
     "output_type": "display_data"
    }
   ],
   "source": [
    "## Tabela de Frequência Relativa\n",
    "freq_rel = prop.table(freq)\n",
    "freq_rel"
   ]
  },
  {
   "cell_type": "code",
   "execution_count": 40,
   "id": "republican-border",
   "metadata": {},
   "outputs": [
    {
     "data": {
      "text/plain": [
       "\n",
       "ensino fundamental       ensino medio           superior \n",
       "          33.33333           50.00000           16.66667 "
      ]
     },
     "metadata": {},
     "output_type": "display_data"
    }
   ],
   "source": [
    "p_freq_rel = 100*prop.table(freq)\n",
    "p_freq_rel"
   ]
  },
  {
   "cell_type": "code",
   "execution_count": 43,
   "id": "amino-tobacco",
   "metadata": {},
   "outputs": [
    {
     "data": {
      "text/html": [
       "<dl class=dl-horizontal>\n",
       "\t<dt>ensino fundamental</dt>\n",
       "\t\t<dd>12</dd>\n",
       "\t<dt>ensino medio</dt>\n",
       "\t\t<dd>18</dd>\n",
       "\t<dt>superior</dt>\n",
       "\t\t<dd>6</dd>\n",
       "\t<dt>total</dt>\n",
       "\t\t<dd>36</dd>\n",
       "</dl>\n"
      ],
      "text/latex": [
       "\\begin{description*}\n",
       "\\item[ensino fundamental] 12\n",
       "\\item[ensino medio] 18\n",
       "\\item[superior] 6\n",
       "\\item[total] 36\n",
       "\\end{description*}\n"
      ],
      "text/markdown": [
       "ensino fundamental\n",
       ":   12ensino medio\n",
       ":   18superior\n",
       ":   6total\n",
       ":   36\n",
       "\n"
      ],
      "text/plain": [
       "ensino fundamental       ensino medio           superior              total \n",
       "                12                 18                  6                 36 "
      ]
     },
     "metadata": {},
     "output_type": "display_data"
    }
   ],
   "source": [
    "## Adicionando total\n",
    "freq = c(freq, sum(freq))\n",
    "names(freq)[4] = 'total'\n",
    "freq"
   ]
  },
  {
   "cell_type": "code",
   "execution_count": 41,
   "id": "cheap-general",
   "metadata": {},
   "outputs": [],
   "source": [
    "## Para frequencia relativa e frequência proporcional\n",
    "freq_rel = c(freq_rel, sum(freq_rel))\n",
    "p_freq_rel = c(p_freq_rel, sum(p_freq_rel))"
   ]
  },
  {
   "cell_type": "code",
   "execution_count": 44,
   "id": "ambient-spoke",
   "metadata": {},
   "outputs": [
    {
     "data": {
      "text/html": [
       "<table>\n",
       "<thead><tr><th></th><th scope=col>freq</th><th scope=col>freq_rel</th><th scope=col>p_freq_rel</th></tr></thead>\n",
       "<tbody>\n",
       "\t<tr><th scope=row>ensino fundamental</th><td>12    </td><td>0.33  </td><td> 33.33</td></tr>\n",
       "\t<tr><th scope=row>ensino medio</th><td>18    </td><td>0.50  </td><td> 50.00</td></tr>\n",
       "\t<tr><th scope=row>superior</th><td> 6    </td><td>0.17  </td><td> 16.67</td></tr>\n",
       "\t<tr><th scope=row>total</th><td>36    </td><td>1.00  </td><td>100.00</td></tr>\n",
       "</tbody>\n",
       "</table>\n"
      ],
      "text/latex": [
       "\\begin{tabular}{r|lll}\n",
       "  & freq & freq\\_rel & p\\_freq\\_rel\\\\\n",
       "\\hline\n",
       "\tensino fundamental & 12     & 0.33   &  33.33\\\\\n",
       "\tensino medio & 18     & 0.50   &  50.00\\\\\n",
       "\tsuperior &  6     & 0.17   &  16.67\\\\\n",
       "\ttotal & 36     & 1.00   & 100.00\\\\\n",
       "\\end{tabular}\n"
      ],
      "text/markdown": [
       "\n",
       "| <!--/--> | freq | freq_rel | p_freq_rel |\n",
       "|---|---|---|---|\n",
       "| ensino fundamental | 12     | 0.33   |  33.33 |\n",
       "| ensino medio | 18     | 0.50   |  50.00 |\n",
       "| superior |  6     | 0.17   |  16.67 |\n",
       "| total | 36     | 1.00   | 100.00 |\n",
       "\n"
      ],
      "text/plain": [
       "                   freq freq_rel p_freq_rel\n",
       "ensino fundamental 12   0.33      33.33    \n",
       "ensino medio       18   0.50      50.00    \n",
       "superior            6   0.17      16.67    \n",
       "total              36   1.00     100.00    "
      ]
     },
     "metadata": {},
     "output_type": "display_data"
    }
   ],
   "source": [
    "tabela_final = cbind(freq,\n",
    "                    freq_rel = round(freq_rel, digits=2),\n",
    "                    p_freq_rel = round(p_freq_rel, digits=2))\n",
    "tabela_final"
   ]
  },
  {
   "cell_type": "code",
   "execution_count": null,
   "id": "conservative-equation",
   "metadata": {},
   "outputs": [],
   "source": []
  }
 ],
 "metadata": {
  "kernelspec": {
   "display_name": "R",
   "language": "R",
   "name": "ir"
  },
  "language_info": {
   "codemirror_mode": "r",
   "file_extension": ".r",
   "mimetype": "text/x-r-source",
   "name": "R",
   "pygments_lexer": "r",
   "version": "3.6.1"
  }
 },
 "nbformat": 4,
 "nbformat_minor": 5
}
