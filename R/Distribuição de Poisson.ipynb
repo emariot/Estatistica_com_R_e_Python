{
 "cells": [
  {
   "cell_type": "markdown",
   "metadata": {},
   "source": [
    "# Distribuição de Poisson\n",
    "\n",
    "## A distribuição de Poisson é uma distribuição discreta de probabilidade aplicável a ocorrências de um número de eventos em um intervalo específico, ao invés de um certo número de experimêntos, como na distribuição Binomial.\n",
    "\n",
    "* dpois = probabilidade pontual\n",
    "* ppois = probabilidade cumulativa\n",
    "* lower.tail false = maior que, calda direita da distribuição \n",
    "* lambda = média\n",
    "\n"
   ]
  },
  {
   "cell_type": "code",
   "execution_count": 3,
   "metadata": {},
   "outputs": [
    {
     "name": "stdout",
     "output_type": "stream",
     "text": [
      "a probabilidade de ocorrerem 3 acidentes é de 0.180447"
     ]
    }
   ],
   "source": [
    "# O número de acidntes em um dia é igual a 2, qual a probabilidade de ocorrerem 3 acidentes em 1 dia?\n",
    "cat('a probabilidade de ocorrerem 3 acidentes é de', dpois(3, lambda=2))"
   ]
  },
  {
   "cell_type": "code",
   "execution_count": 4,
   "metadata": {},
   "outputs": [
    {
     "name": "stdout",
     "output_type": "stream",
     "text": [
      "a probabilidade de ocorrerem 3 ou menos é de 0.8571235"
     ]
    }
   ],
   "source": [
    "# O número de acidntes em um dia é igual a 2, qual a probabilidade de ocorrerem 3 ou menos acidentes em 1 dia?\n",
    "cat('a probabilidade de ocorrerem 3 ou menos é de', ppois(3, lambda=2))"
   ]
  },
  {
   "cell_type": "code",
   "execution_count": 5,
   "metadata": {},
   "outputs": [
    {
     "name": "stdout",
     "output_type": "stream",
     "text": [
      "a probabilidade de ocorrerem menos de 3 é de 0.6766764"
     ]
    }
   ],
   "source": [
    "# O número de acidntes em um dia é igual a 2, qual a probabilidade de ocorrerem menos que 3 acidentes em 1 dia?\n",
    "cat('a probabilidade de ocorrerem menos de 3 é de', ppois(2, lambda=2))"
   ]
  },
  {
   "cell_type": "code",
   "execution_count": 6,
   "metadata": {},
   "outputs": [
    {
     "name": "stdout",
     "output_type": "stream",
     "text": [
      "a probabilidade de ocorrerem mais que 3 é de 0.1428765"
     ]
    }
   ],
   "source": [
    "# O número de acidntes em um dia é igual a 2, qual a probabilidade de ocorrerem mais que 3 acidentes em 1 dia?\n",
    "cat('a probabilidade de ocorrerem mais que 3 é de', ppois(3, lambda=2, lower.tail=F))"
   ]
  },
  {
   "cell_type": "code",
   "execution_count": null,
   "metadata": {},
   "outputs": [],
   "source": []
  }
 ],
 "metadata": {
  "kernelspec": {
   "display_name": "R",
   "language": "R",
   "name": "ir"
  },
  "language_info": {
   "codemirror_mode": "r",
   "file_extension": ".r",
   "mimetype": "text/x-r-source",
   "name": "R",
   "pygments_lexer": "r",
   "version": "3.6.1"
  }
 },
 "nbformat": 4,
 "nbformat_minor": 4
}
