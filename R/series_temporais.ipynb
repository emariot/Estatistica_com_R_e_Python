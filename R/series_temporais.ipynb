{
 "cells": [
  {
   "cell_type": "markdown",
   "id": "italian-celebration",
   "metadata": {},
   "source": [
    "# Séries Temporais\n",
    "## Encontrar tendências, fazer prtevisões e manter controle\n",
    "---\n",
    "* Estuda o comportamento de uma variável contínua ao longo do tempo\n",
    "    * Uma mesma variável analisada no decorrer do tempo\n",
    "    * Relação no intervalo de tempo\n",
    "    * O intervalo de tempo deve ser regular\n",
    "    * Dependência da ordem\n",
    "    * Não é possível analisar mais de uma amostra em um intervalo\n",
    "* Estacionárias:\n",
    "    * Flutuam em torno de uma mesma média e variância\n",
    "* Não estacionárias:\n",
    "    * Exibem trends, ciclos, padrões sazonais e outros comportamentos.\n",
    "* Estocásticas:\n",
    "    * Composta por um fator aleatório ue não pode ser explicado matematicamente.\n",
    "* Determinísticas:\n",
    "    * Explicaveis por meio de uma função."
   ]
  },
  {
   "cell_type": "markdown",
   "id": "honest-assault",
   "metadata": {},
   "source": [
    "## Componentes\n",
    "## Podem ou não compor uma série temporal\n",
    "---\n",
    "* Tendência\n",
    "* Sazonalidade\n",
    "* Aleatoridade"
   ]
  },
  {
   "cell_type": "code",
   "execution_count": 3,
   "id": "indoor-hydrogen",
   "metadata": {},
   "outputs": [],
   "source": [
    "#install.packages(\"forecast\")"
   ]
  },
  {
   "cell_type": "code",
   "execution_count": 5,
   "id": "radical-furniture",
   "metadata": {},
   "outputs": [],
   "source": [
    "library(forecast)"
   ]
  },
  {
   "cell_type": "markdown",
   "id": "included-mailing",
   "metadata": {},
   "source": [
    "# Dataset\n",
    "---\n",
    "* transporte de passageiros por via aérea nos EUA de 1949 a 1960"
   ]
  },
  {
   "cell_type": "code",
   "execution_count": 21,
   "id": "civilian-bathroom",
   "metadata": {
    "scrolled": true
   },
   "outputs": [
    {
     "name": "stderr",
     "output_type": "stream",
     "text": [
      "ERROR while rich displaying an object: Error in repr_matrix_generic(obj, \"\\n%s%s\\n\", sprintf(\"|%%s\\n|%s|\\n\", : argumento formal \"cols\" corresponde a múltiplos argumentos especificados\n",
      "\n",
      "Traceback:\n",
      "1. FUN(X[[i]], ...)\n",
      "2. tryCatch(withCallingHandlers({\n",
      " .     if (!mime %in% names(repr::mime2repr)) \n",
      " .         stop(\"No repr_* for mimetype \", mime, \" in repr::mime2repr\")\n",
      " .     rpr <- repr::mime2repr[[mime]](obj)\n",
      " .     if (is.null(rpr)) \n",
      " .         return(NULL)\n",
      " .     prepare_content(is.raw(rpr), rpr)\n",
      " . }, error = error_handler), error = outer_handler)\n",
      "3. tryCatchList(expr, classes, parentenv, handlers)\n",
      "4. tryCatchOne(expr, names, parentenv, handlers[[1L]])\n",
      "5. doTryCatch(return(expr), name, parentenv, handler)\n",
      "6. withCallingHandlers({\n",
      " .     if (!mime %in% names(repr::mime2repr)) \n",
      " .         stop(\"No repr_* for mimetype \", mime, \" in repr::mime2repr\")\n",
      " .     rpr <- repr::mime2repr[[mime]](obj)\n",
      " .     if (is.null(rpr)) \n",
      " .         return(NULL)\n",
      " .     prepare_content(is.raw(rpr), rpr)\n",
      " . }, error = error_handler)\n",
      "7. repr::mime2repr[[mime]](obj)\n",
      "8. repr_markdown.ts(obj)\n",
      "9. repr_ts_generic(obj, repr_markdown.matrix, ...)\n",
      "10. repr_func(m, ..., rows = nrow(m), cols = ncol(m))\n"
     ]
    },
    {
     "data": {
      "text/html": [
       "<table>\n",
       "<thead><tr><th></th><th scope=col>Jan</th><th scope=col>Feb</th><th scope=col>Mar</th><th scope=col>Apr</th><th scope=col>May</th><th scope=col>Jun</th><th scope=col>Jul</th><th scope=col>Aug</th><th scope=col>Sep</th><th scope=col>Oct</th><th scope=col>Nov</th><th scope=col>Dec</th></tr></thead>\n",
       "<tbody>\n",
       "\t<tr><th scope=row>1949</th><td>112</td><td>118</td><td>132</td><td>129</td><td>121</td><td>135</td><td>148</td><td>148</td><td>136</td><td>119</td><td>104</td><td>118</td></tr>\n",
       "\t<tr><th scope=row>1950</th><td>115</td><td>126</td><td>141</td><td>135</td><td>125</td><td>149</td><td>170</td><td>170</td><td>158</td><td>133</td><td>114</td><td>140</td></tr>\n",
       "\t<tr><th scope=row>1951</th><td>145</td><td>150</td><td>178</td><td>163</td><td>172</td><td>178</td><td>199</td><td>199</td><td>184</td><td>162</td><td>146</td><td>166</td></tr>\n",
       "\t<tr><th scope=row>1952</th><td>171</td><td>180</td><td>193</td><td>181</td><td>183</td><td>218</td><td>230</td><td>242</td><td>209</td><td>191</td><td>172</td><td>194</td></tr>\n",
       "\t<tr><th scope=row>1953</th><td>196</td><td>196</td><td>236</td><td>235</td><td>229</td><td>243</td><td>264</td><td>272</td><td>237</td><td>211</td><td>180</td><td>201</td></tr>\n",
       "\t<tr><th scope=row>1954</th><td>204</td><td>188</td><td>235</td><td>227</td><td>234</td><td>264</td><td>302</td><td>293</td><td>259</td><td>229</td><td>203</td><td>229</td></tr>\n",
       "\t<tr><th scope=row>1955</th><td>242</td><td>233</td><td>267</td><td>269</td><td>270</td><td>315</td><td>364</td><td>347</td><td>312</td><td>274</td><td>237</td><td>278</td></tr>\n",
       "\t<tr><th scope=row>1956</th><td>284</td><td>277</td><td>317</td><td>313</td><td>318</td><td>374</td><td>413</td><td>405</td><td>355</td><td>306</td><td>271</td><td>306</td></tr>\n",
       "\t<tr><th scope=row>1957</th><td>315</td><td>301</td><td>356</td><td>348</td><td>355</td><td>422</td><td>465</td><td>467</td><td>404</td><td>347</td><td>305</td><td>336</td></tr>\n",
       "\t<tr><th scope=row>1958</th><td>340</td><td>318</td><td>362</td><td>348</td><td>363</td><td>435</td><td>491</td><td>505</td><td>404</td><td>359</td><td>310</td><td>337</td></tr>\n",
       "\t<tr><th scope=row>1959</th><td>360</td><td>342</td><td>406</td><td>396</td><td>420</td><td>472</td><td>548</td><td>559</td><td>463</td><td>407</td><td>362</td><td>405</td></tr>\n",
       "\t<tr><th scope=row>1960</th><td>417</td><td>391</td><td>419</td><td>461</td><td>472</td><td>535</td><td>622</td><td>606</td><td>508</td><td>461</td><td>390</td><td>432</td></tr>\n",
       "</tbody>\n",
       "</table>\n"
      ],
      "text/latex": [
       "\\begin{tabular}{r|llllllllllll}\n",
       "  & Jan & Feb & Mar & Apr & May & Jun & Jul & Aug & Sep & Oct & Nov & Dec\\\\\n",
       "\\hline\n",
       "\t1949 & 112 & 118 & 132 & 129 & 121 & 135 & 148 & 148 & 136 & 119 & 104 & 118\\\\\n",
       "\t1950 & 115 & 126 & 141 & 135 & 125 & 149 & 170 & 170 & 158 & 133 & 114 & 140\\\\\n",
       "\t1951 & 145 & 150 & 178 & 163 & 172 & 178 & 199 & 199 & 184 & 162 & 146 & 166\\\\\n",
       "\t1952 & 171 & 180 & 193 & 181 & 183 & 218 & 230 & 242 & 209 & 191 & 172 & 194\\\\\n",
       "\t1953 & 196 & 196 & 236 & 235 & 229 & 243 & 264 & 272 & 237 & 211 & 180 & 201\\\\\n",
       "\t1954 & 204 & 188 & 235 & 227 & 234 & 264 & 302 & 293 & 259 & 229 & 203 & 229\\\\\n",
       "\t1955 & 242 & 233 & 267 & 269 & 270 & 315 & 364 & 347 & 312 & 274 & 237 & 278\\\\\n",
       "\t1956 & 284 & 277 & 317 & 313 & 318 & 374 & 413 & 405 & 355 & 306 & 271 & 306\\\\\n",
       "\t1957 & 315 & 301 & 356 & 348 & 355 & 422 & 465 & 467 & 404 & 347 & 305 & 336\\\\\n",
       "\t1958 & 340 & 318 & 362 & 348 & 363 & 435 & 491 & 505 & 404 & 359 & 310 & 337\\\\\n",
       "\t1959 & 360 & 342 & 406 & 396 & 420 & 472 & 548 & 559 & 463 & 407 & 362 & 405\\\\\n",
       "\t1960 & 417 & 391 & 419 & 461 & 472 & 535 & 622 & 606 & 508 & 461 & 390 & 432\\\\\n",
       "\\end{tabular}\n"
      ],
      "text/plain": [
       "     Jan Feb Mar Apr May Jun Jul Aug Sep Oct Nov Dec\n",
       "1949 112 118 132 129 121 135 148 148 136 119 104 118\n",
       "1950 115 126 141 135 125 149 170 170 158 133 114 140\n",
       "1951 145 150 178 163 172 178 199 199 184 162 146 166\n",
       "1952 171 180 193 181 183 218 230 242 209 191 172 194\n",
       "1953 196 196 236 235 229 243 264 272 237 211 180 201\n",
       "1954 204 188 235 227 234 264 302 293 259 229 203 229\n",
       "1955 242 233 267 269 270 315 364 347 312 274 237 278\n",
       "1956 284 277 317 313 318 374 413 405 355 306 271 306\n",
       "1957 315 301 356 348 355 422 465 467 404 347 305 336\n",
       "1958 340 318 362 348 363 435 491 505 404 359 310 337\n",
       "1959 360 342 406 396 420 472 548 559 463 407 362 405\n",
       "1960 417 391 419 461 472 535 622 606 508 461 390 432"
      ]
     },
     "metadata": {},
     "output_type": "display_data"
    }
   ],
   "source": [
    "AirPassengers"
   ]
  },
  {
   "cell_type": "code",
   "execution_count": 8,
   "id": "pregnant-commodity",
   "metadata": {},
   "outputs": [
    {
     "data": {
      "text/html": [
       "<ol class=list-inline>\n",
       "\t<li>1949</li>\n",
       "\t<li>1</li>\n",
       "</ol>\n"
      ],
      "text/latex": [
       "\\begin{enumerate*}\n",
       "\\item 1949\n",
       "\\item 1\n",
       "\\end{enumerate*}\n"
      ],
      "text/markdown": [
       "1. 1949\n",
       "2. 1\n",
       "\n",
       "\n"
      ],
      "text/plain": [
       "[1] 1949    1"
      ]
     },
     "metadata": {},
     "output_type": "display_data"
    }
   ],
   "source": [
    "start(AirPassengers)"
   ]
  },
  {
   "cell_type": "code",
   "execution_count": 10,
   "id": "defensive-writer",
   "metadata": {},
   "outputs": [
    {
     "data": {
      "text/html": [
       "<ol class=list-inline>\n",
       "\t<li>1960</li>\n",
       "\t<li>12</li>\n",
       "</ol>\n"
      ],
      "text/latex": [
       "\\begin{enumerate*}\n",
       "\\item 1960\n",
       "\\item 12\n",
       "\\end{enumerate*}\n"
      ],
      "text/markdown": [
       "1. 1960\n",
       "2. 12\n",
       "\n",
       "\n"
      ],
      "text/plain": [
       "[1] 1960   12"
      ]
     },
     "metadata": {},
     "output_type": "display_data"
    }
   ],
   "source": [
    "end(AirPassengers)"
   ]
  },
  {
   "cell_type": "code",
   "execution_count": 12,
   "id": "requested-result",
   "metadata": {},
   "outputs": [
    {
     "data": {
      "text/html": [
       "12"
      ],
      "text/latex": [
       "12"
      ],
      "text/markdown": [
       "12"
      ],
      "text/plain": [
       "[1] 12"
      ]
     },
     "metadata": {},
     "output_type": "display_data"
    }
   ],
   "source": [
    "# A cada 12 intervalos o ciclo se repete\n",
    "frequency(AirPassengers)"
   ]
  },
  {
   "cell_type": "markdown",
   "id": "reserved-conflict",
   "metadata": {},
   "source": [
    "# Gráficos"
   ]
  },
  {
   "cell_type": "code",
   "execution_count": 14,
   "id": "prospective-qatar",
   "metadata": {},
   "outputs": [
    {
     "data": {
      "image/png": "[encoded data removed]",
      "text/plain": [
       "plot without title"
      ]
     },
     "metadata": {},
     "output_type": "display_data"
    },
    {
     "data": {
      "image/png": "[encoded data removed]",
      "text/plain": [
       "plot without title"
      ]
     },
     "metadata": {},
     "output_type": "display_data"
    }
   ],
   "source": [
    "# Existe sazionalidade e tendência\n",
    "plot(AirPassengers)\n",
    "plot(aggregate(AirPassengers))"
   ]
  },
  {
   "cell_type": "markdown",
   "id": "laughing-centre",
   "metadata": {},
   "source": [
    "# Intervalos de uma série temporal"
   ]
  },
  {
   "cell_type": "code",
   "execution_count": 23,
   "id": "driven-universal",
   "metadata": {},
   "outputs": [
    {
     "name": "stderr",
     "output_type": "stream",
     "text": [
      "ERROR while rich displaying an object: Error in arr_partition(a, rows, cols): rows >= 2L is not TRUE\n",
      "\n",
      "Traceback:\n",
      "1. FUN(X[[i]], ...)\n",
      "2. tryCatch(withCallingHandlers({\n",
      " .     if (!mime %in% names(repr::mime2repr)) \n",
      " .         stop(\"No repr_* for mimetype \", mime, \" in repr::mime2repr\")\n",
      " .     rpr <- repr::mime2repr[[mime]](obj)\n",
      " .     if (is.null(rpr)) \n",
      " .         return(NULL)\n",
      " .     prepare_content(is.raw(rpr), rpr)\n",
      " . }, error = error_handler), error = outer_handler)\n",
      "3. tryCatchList(expr, classes, parentenv, handlers)\n",
      "4. tryCatchOne(expr, names, parentenv, handlers[[1L]])\n",
      "5. doTryCatch(return(expr), name, parentenv, handler)\n",
      "6. withCallingHandlers({\n",
      " .     if (!mime %in% names(repr::mime2repr)) \n",
      " .         stop(\"No repr_* for mimetype \", mime, \" in repr::mime2repr\")\n",
      " .     rpr <- repr::mime2repr[[mime]](obj)\n",
      " .     if (is.null(rpr)) \n",
      " .         return(NULL)\n",
      " .     prepare_content(is.raw(rpr), rpr)\n",
      " . }, error = error_handler)\n",
      "7. repr::mime2repr[[mime]](obj)\n",
      "8. repr_text.ts(obj)\n",
      "9. repr_ts_generic(obj, repr_text.matrix, ...)\n",
      "10. repr_func(m, ..., rows = nrow(m), cols = ncol(m))\n",
      "11. ellip_limit_arr(obj, ...)\n",
      "12. arr_partition(a, rows, cols)\n",
      "13. stopifnot(rows >= 2L, cols >= 2L)\n"
     ]
    }
   ],
   "source": [
    "subst = window(AirPassengers, start=c(1960,1), end=c(1960,12))\n",
    "subst"
   ]
  },
  {
   "cell_type": "code",
   "execution_count": 22,
   "id": "retired-fountain",
   "metadata": {},
   "outputs": [
    {
     "data": {
      "image/png": "[encoded data removed]",
      "text/plain": [
       "plot without title"
      ]
     },
     "metadata": {},
     "output_type": "display_data"
    }
   ],
   "source": [
    "# Apenas um ano\n",
    "plot(subst)"
   ]
  },
  {
   "cell_type": "code",
   "execution_count": 24,
   "id": "featured-daisy",
   "metadata": {},
   "outputs": [
    {
     "data": {
      "text/plain": [
       "$x\n",
       "     Jan Feb Mar Apr May Jun Jul Aug Sep Oct Nov Dec\n",
       "1949 112 118 132 129 121 135 148 148 136 119 104 118\n",
       "1950 115 126 141 135 125 149 170 170 158 133 114 140\n",
       "1951 145 150 178 163 172 178 199 199 184 162 146 166\n",
       "1952 171 180 193 181 183 218 230 242 209 191 172 194\n",
       "1953 196 196 236 235 229 243 264 272 237 211 180 201\n",
       "1954 204 188 235 227 234 264 302 293 259 229 203 229\n",
       "1955 242 233 267 269 270 315 364 347 312 274 237 278\n",
       "1956 284 277 317 313 318 374 413 405 355 306 271 306\n",
       "1957 315 301 356 348 355 422 465 467 404 347 305 336\n",
       "1958 340 318 362 348 363 435 491 505 404 359 310 337\n",
       "1959 360 342 406 396 420 472 548 559 463 407 362 405\n",
       "1960 417 391 419 461 472 535 622 606 508 461 390 432\n",
       "\n",
       "$seasonal\n",
       "            Jan        Feb        Mar        Apr        May        Jun\n",
       "1949 -24.748737 -36.188131  -2.241162  -8.036616  -4.506313  35.402778\n",
       "1950 -24.748737 -36.188131  -2.241162  -8.036616  -4.506313  35.402778\n",
       "1951 -24.748737 -36.188131  -2.241162  -8.036616  -4.506313  35.402778\n",
       "1952 -24.748737 -36.188131  -2.241162  -8.036616  -4.506313  35.402778\n",
       "1953 -24.748737 -36.188131  -2.241162  -8.036616  -4.506313  35.402778\n",
       "1954 -24.748737 -36.188131  -2.241162  -8.036616  -4.506313  35.402778\n",
       "1955 -24.748737 -36.188131  -2.241162  -8.036616  -4.506313  35.402778\n",
       "1956 -24.748737 -36.188131  -2.241162  -8.036616  -4.506313  35.402778\n",
       "1957 -24.748737 -36.188131  -2.241162  -8.036616  -4.506313  35.402778\n",
       "1958 -24.748737 -36.188131  -2.241162  -8.036616  -4.506313  35.402778\n",
       "1959 -24.748737 -36.188131  -2.241162  -8.036616  -4.506313  35.402778\n",
       "1960 -24.748737 -36.188131  -2.241162  -8.036616  -4.506313  35.402778\n",
       "            Jul        Aug        Sep        Oct        Nov        Dec\n",
       "1949  63.830808  62.823232  16.520202 -20.642677 -53.593434 -28.619949\n",
       "1950  63.830808  62.823232  16.520202 -20.642677 -53.593434 -28.619949\n",
       "1951  63.830808  62.823232  16.520202 -20.642677 -53.593434 -28.619949\n",
       "1952  63.830808  62.823232  16.520202 -20.642677 -53.593434 -28.619949\n",
       "1953  63.830808  62.823232  16.520202 -20.642677 -53.593434 -28.619949\n",
       "1954  63.830808  62.823232  16.520202 -20.642677 -53.593434 -28.619949\n",
       "1955  63.830808  62.823232  16.520202 -20.642677 -53.593434 -28.619949\n",
       "1956  63.830808  62.823232  16.520202 -20.642677 -53.593434 -28.619949\n",
       "1957  63.830808  62.823232  16.520202 -20.642677 -53.593434 -28.619949\n",
       "1958  63.830808  62.823232  16.520202 -20.642677 -53.593434 -28.619949\n",
       "1959  63.830808  62.823232  16.520202 -20.642677 -53.593434 -28.619949\n",
       "1960  63.830808  62.823232  16.520202 -20.642677 -53.593434 -28.619949\n",
       "\n",
       "$trend\n",
       "          Jan      Feb      Mar      Apr      May      Jun      Jul      Aug\n",
       "1949       NA       NA       NA       NA       NA       NA 126.7917 127.2500\n",
       "1950 131.2500 133.0833 134.9167 136.4167 137.4167 138.7500 140.9167 143.1667\n",
       "1951 157.1250 159.5417 161.8333 164.1250 166.6667 169.0833 171.2500 173.5833\n",
       "1952 183.1250 186.2083 189.0417 191.2917 193.5833 195.8333 198.0417 199.7500\n",
       "1953 215.8333 218.5000 220.9167 222.9167 224.0833 224.7083 225.3333 225.3333\n",
       "1954 228.0000 230.4583 232.2500 233.9167 235.6250 237.7500 240.5000 243.9583\n",
       "1955 261.8333 266.6667 271.1250 275.2083 278.5000 281.9583 285.7500 289.3333\n",
       "1956 309.9583 314.4167 318.6250 321.7500 324.5000 327.0833 329.5417 331.8333\n",
       "1957 348.2500 353.0000 357.6250 361.3750 364.5000 367.1667 369.4583 371.2083\n",
       "1958 375.2500 377.9167 379.5000 380.0000 380.7083 380.9583 381.8333 383.6667\n",
       "1959 402.5417 407.1667 411.8750 416.3333 420.5000 425.5000 430.7083 435.1250\n",
       "1960 456.3333 461.3750 465.2083 469.3333 472.7500 475.0417       NA       NA\n",
       "          Sep      Oct      Nov      Dec\n",
       "1949 127.9583 128.5833 129.0000 129.7500\n",
       "1950 145.7083 148.4167 151.5417 154.7083\n",
       "1951 175.4583 176.8333 178.0417 180.1667\n",
       "1952 202.2083 206.2500 210.4167 213.3750\n",
       "1953 224.9583 224.5833 224.4583 225.5417\n",
       "1954 247.1667 250.2500 253.5000 257.1250\n",
       "1955 293.2500 297.1667 301.0000 305.4583\n",
       "1956 334.4583 337.5417 340.5417 344.0833\n",
       "1957 372.1667 372.4167 372.7500 373.6250\n",
       "1958 386.5000 390.3333 394.7083 398.6250\n",
       "1959 437.7083 440.9583 445.8333 450.6250\n",
       "1960       NA       NA       NA       NA\n",
       "\n",
       "$random\n",
       "             Jan         Feb         Mar         Apr         May         Jun\n",
       "1949          NA          NA          NA          NA          NA          NA\n",
       "1950   8.4987374  29.1047980   8.3244949   6.6199495  -7.9103535 -25.1527778\n",
       "1951  12.6237374  26.6464646  18.4078283   6.9116162   9.8396465 -26.4861111\n",
       "1952  12.6237374  29.9797980   6.1994949  -2.2550505  -6.0770202 -13.2361111\n",
       "1953   4.9154040  13.6881313  17.3244949  20.1199495   9.4229798 -17.1111111\n",
       "1954   0.7487374  -6.2702020   4.9911616   1.1199495   2.8813131  -9.1527778\n",
       "1955   4.9154040   2.5214646  -1.8838384   1.8282828  -3.9936869  -2.3611111\n",
       "1956  -1.2095960  -1.2285354   0.6161616  -0.7133838  -1.9936869  11.5138889\n",
       "1957  -8.5012626 -15.8118687   0.6161616  -5.3383838  -4.9936869  19.4305556\n",
       "1958 -10.5012626 -23.7285354 -15.2588384 -23.9633838 -13.2020202  18.6388889\n",
       "1959 -17.7929293 -28.9785354  -3.6338384 -12.2967172   4.0063131  11.0972222\n",
       "1960 -14.5845960 -34.1868687 -43.9671717  -0.2967172   3.7563131  24.5555556\n",
       "             Jul         Aug         Sep         Oct         Nov         Dec\n",
       "1949 -42.6224747 -42.0732323  -8.4785354  11.0593434  28.5934343  16.8699495\n",
       "1950 -34.7474747 -35.9898990  -4.2285354   5.2260101  16.0517677  13.9116162\n",
       "1951 -36.0808081 -37.4065657  -7.9785354   5.8093434  21.5517677  14.4532828\n",
       "1952 -31.8724747 -20.5732323  -9.7285354   5.3926768  15.1767677   9.2449495\n",
       "1953 -25.1641414 -16.1565657  -4.4785354   7.0593434   9.1351010   4.0782828\n",
       "1954  -2.3308081 -13.7815657  -4.6868687  -0.6073232   3.0934343   0.4949495\n",
       "1955  14.4191919  -5.1565657   2.2297980  -2.5239899 -10.4065657   1.1616162\n",
       "1956  19.6275253  10.3434343   4.0214646 -10.8989899 -15.9482323  -9.4633838\n",
       "1957  31.7108586  32.9684343  15.3131313  -4.7739899 -14.1565657  -9.0050505\n",
       "1958  45.3358586  58.5101010   0.9797980 -10.6906566 -31.1148990 -33.0050505\n",
       "1959  53.4608586  61.0517677   8.7714646 -13.3156566 -30.2398990 -17.0050505\n",
       "1960          NA          NA          NA          NA          NA          NA\n",
       "\n",
       "$figure\n",
       " [1] -24.748737 -36.188131  -2.241162  -8.036616  -4.506313  35.402778\n",
       " [7]  63.830808  62.823232  16.520202 -20.642677 -53.593434 -28.619949\n",
       "\n",
       "$type\n",
       "[1] \"additive\"\n",
       "\n",
       "attr(,\"class\")\n",
       "[1] \"decomposed.ts\""
      ]
     },
     "metadata": {},
     "output_type": "display_data"
    }
   ],
   "source": [
    "dec = decompose(AirPassengers)\n",
    "dec"
   ]
  },
  {
   "cell_type": "code",
   "execution_count": 26,
   "id": "upset-serial",
   "metadata": {},
   "outputs": [
    {
     "data": {
      "text/html": [
       "<dl>\n",
       "\t<dt>$names</dt>\n",
       "\t\t<dd><ol class=list-inline>\n",
       "\t<li>'x'</li>\n",
       "\t<li>'seasonal'</li>\n",
       "\t<li>'trend'</li>\n",
       "\t<li>'random'</li>\n",
       "\t<li>'figure'</li>\n",
       "\t<li>'type'</li>\n",
       "</ol>\n",
       "</dd>\n",
       "\t<dt>$class</dt>\n",
       "\t\t<dd>'decomposed.ts'</dd>\n",
       "</dl>\n"
      ],
      "text/latex": [
       "\\begin{description}\n",
       "\\item[\\$names] \\begin{enumerate*}\n",
       "\\item 'x'\n",
       "\\item 'seasonal'\n",
       "\\item 'trend'\n",
       "\\item 'random'\n",
       "\\item 'figure'\n",
       "\\item 'type'\n",
       "\\end{enumerate*}\n",
       "\n",
       "\\item[\\$class] 'decomposed.ts'\n",
       "\\end{description}\n"
      ],
      "text/markdown": [
       "$names\n",
       ":   1. 'x'\n",
       "2. 'seasonal'\n",
       "3. 'trend'\n",
       "4. 'random'\n",
       "5. 'figure'\n",
       "6. 'type'\n",
       "\n",
       "\n",
       "\n",
       "$class\n",
       ":   'decomposed.ts'\n",
       "\n",
       "\n"
      ],
      "text/plain": [
       "$names\n",
       "[1] \"x\"        \"seasonal\" \"trend\"    \"random\"   \"figure\"   \"type\"    \n",
       "\n",
       "$class\n",
       "[1] \"decomposed.ts\"\n"
      ]
     },
     "metadata": {},
     "output_type": "display_data"
    },
    {
     "name": "stderr",
     "output_type": "stream",
     "text": [
      "ERROR while rich displaying an object: Error in repr_matrix_generic(obj, \"\\n%s%s\\n\", sprintf(\"|%%s\\n|%s|\\n\", : argumento formal \"cols\" corresponde a múltiplos argumentos especificados\n",
      "\n",
      "Traceback:\n",
      "1. FUN(X[[i]], ...)\n",
      "2. tryCatch(withCallingHandlers({\n",
      " .     if (!mime %in% names(repr::mime2repr)) \n",
      " .         stop(\"No repr_* for mimetype \", mime, \" in repr::mime2repr\")\n",
      " .     rpr <- repr::mime2repr[[mime]](obj)\n",
      " .     if (is.null(rpr)) \n",
      " .         return(NULL)\n",
      " .     prepare_content(is.raw(rpr), rpr)\n",
      " . }, error = error_handler), error = outer_handler)\n",
      "3. tryCatchList(expr, classes, parentenv, handlers)\n",
      "4. tryCatchOne(expr, names, parentenv, handlers[[1L]])\n",
      "5. doTryCatch(return(expr), name, parentenv, handler)\n",
      "6. withCallingHandlers({\n",
      " .     if (!mime %in% names(repr::mime2repr)) \n",
      " .         stop(\"No repr_* for mimetype \", mime, \" in repr::mime2repr\")\n",
      " .     rpr <- repr::mime2repr[[mime]](obj)\n",
      " .     if (is.null(rpr)) \n",
      " .         return(NULL)\n",
      " .     prepare_content(is.raw(rpr), rpr)\n",
      " . }, error = error_handler)\n",
      "7. repr::mime2repr[[mime]](obj)\n",
      "8. repr_markdown.ts(obj)\n",
      "9. repr_ts_generic(obj, repr_markdown.matrix, ...)\n",
      "10. repr_func(m, ..., rows = nrow(m), cols = ncol(m))\n"
     ]
    },
    {
     "data": {
      "text/html": [
       "<table>\n",
       "<thead><tr><th></th><th scope=col>Jan</th><th scope=col>Feb</th><th scope=col>Mar</th><th scope=col>Apr</th><th scope=col>May</th><th scope=col>Jun</th><th scope=col>Jul</th><th scope=col>Aug</th><th scope=col>Sep</th><th scope=col>Oct</th><th scope=col>Nov</th><th scope=col>Dec</th></tr></thead>\n",
       "<tbody>\n",
       "\t<tr><th scope=row>1949</th><td>-24.748737</td><td>-36.188131</td><td> -2.241162</td><td> -8.036616</td><td> -4.506313</td><td> 35.402778</td><td> 63.830808</td><td> 62.823232</td><td> 16.520202</td><td>-20.642677</td><td>-53.593434</td><td>-28.619949</td></tr>\n",
       "\t<tr><th scope=row>1950</th><td>-24.748737</td><td>-36.188131</td><td> -2.241162</td><td> -8.036616</td><td> -4.506313</td><td> 35.402778</td><td> 63.830808</td><td> 62.823232</td><td> 16.520202</td><td>-20.642677</td><td>-53.593434</td><td>-28.619949</td></tr>\n",
       "\t<tr><th scope=row>1951</th><td>-24.748737</td><td>-36.188131</td><td> -2.241162</td><td> -8.036616</td><td> -4.506313</td><td> 35.402778</td><td> 63.830808</td><td> 62.823232</td><td> 16.520202</td><td>-20.642677</td><td>-53.593434</td><td>-28.619949</td></tr>\n",
       "\t<tr><th scope=row>1952</th><td>-24.748737</td><td>-36.188131</td><td> -2.241162</td><td> -8.036616</td><td> -4.506313</td><td> 35.402778</td><td> 63.830808</td><td> 62.823232</td><td> 16.520202</td><td>-20.642677</td><td>-53.593434</td><td>-28.619949</td></tr>\n",
       "\t<tr><th scope=row>1953</th><td>-24.748737</td><td>-36.188131</td><td> -2.241162</td><td> -8.036616</td><td> -4.506313</td><td> 35.402778</td><td> 63.830808</td><td> 62.823232</td><td> 16.520202</td><td>-20.642677</td><td>-53.593434</td><td>-28.619949</td></tr>\n",
       "\t<tr><th scope=row>1954</th><td>-24.748737</td><td>-36.188131</td><td> -2.241162</td><td> -8.036616</td><td> -4.506313</td><td> 35.402778</td><td> 63.830808</td><td> 62.823232</td><td> 16.520202</td><td>-20.642677</td><td>-53.593434</td><td>-28.619949</td></tr>\n",
       "\t<tr><th scope=row>1955</th><td>-24.748737</td><td>-36.188131</td><td> -2.241162</td><td> -8.036616</td><td> -4.506313</td><td> 35.402778</td><td> 63.830808</td><td> 62.823232</td><td> 16.520202</td><td>-20.642677</td><td>-53.593434</td><td>-28.619949</td></tr>\n",
       "\t<tr><th scope=row>1956</th><td>-24.748737</td><td>-36.188131</td><td> -2.241162</td><td> -8.036616</td><td> -4.506313</td><td> 35.402778</td><td> 63.830808</td><td> 62.823232</td><td> 16.520202</td><td>-20.642677</td><td>-53.593434</td><td>-28.619949</td></tr>\n",
       "\t<tr><th scope=row>1957</th><td>-24.748737</td><td>-36.188131</td><td> -2.241162</td><td> -8.036616</td><td> -4.506313</td><td> 35.402778</td><td> 63.830808</td><td> 62.823232</td><td> 16.520202</td><td>-20.642677</td><td>-53.593434</td><td>-28.619949</td></tr>\n",
       "\t<tr><th scope=row>1958</th><td>-24.748737</td><td>-36.188131</td><td> -2.241162</td><td> -8.036616</td><td> -4.506313</td><td> 35.402778</td><td> 63.830808</td><td> 62.823232</td><td> 16.520202</td><td>-20.642677</td><td>-53.593434</td><td>-28.619949</td></tr>\n",
       "\t<tr><th scope=row>1959</th><td>-24.748737</td><td>-36.188131</td><td> -2.241162</td><td> -8.036616</td><td> -4.506313</td><td> 35.402778</td><td> 63.830808</td><td> 62.823232</td><td> 16.520202</td><td>-20.642677</td><td>-53.593434</td><td>-28.619949</td></tr>\n",
       "\t<tr><th scope=row>1960</th><td>-24.748737</td><td>-36.188131</td><td> -2.241162</td><td> -8.036616</td><td> -4.506313</td><td> 35.402778</td><td> 63.830808</td><td> 62.823232</td><td> 16.520202</td><td>-20.642677</td><td>-53.593434</td><td>-28.619949</td></tr>\n",
       "</tbody>\n",
       "</table>\n"
      ],
      "text/latex": [
       "\\begin{tabular}{r|llllllllllll}\n",
       "  & Jan & Feb & Mar & Apr & May & Jun & Jul & Aug & Sep & Oct & Nov & Dec\\\\\n",
       "\\hline\n",
       "\t1949 & -24.748737 & -36.188131 &  -2.241162 &  -8.036616 &  -4.506313 &  35.402778 &  63.830808 &  62.823232 &  16.520202 & -20.642677 & -53.593434 & -28.619949\\\\\n",
       "\t1950 & -24.748737 & -36.188131 &  -2.241162 &  -8.036616 &  -4.506313 &  35.402778 &  63.830808 &  62.823232 &  16.520202 & -20.642677 & -53.593434 & -28.619949\\\\\n",
       "\t1951 & -24.748737 & -36.188131 &  -2.241162 &  -8.036616 &  -4.506313 &  35.402778 &  63.830808 &  62.823232 &  16.520202 & -20.642677 & -53.593434 & -28.619949\\\\\n",
       "\t1952 & -24.748737 & -36.188131 &  -2.241162 &  -8.036616 &  -4.506313 &  35.402778 &  63.830808 &  62.823232 &  16.520202 & -20.642677 & -53.593434 & -28.619949\\\\\n",
       "\t1953 & -24.748737 & -36.188131 &  -2.241162 &  -8.036616 &  -4.506313 &  35.402778 &  63.830808 &  62.823232 &  16.520202 & -20.642677 & -53.593434 & -28.619949\\\\\n",
       "\t1954 & -24.748737 & -36.188131 &  -2.241162 &  -8.036616 &  -4.506313 &  35.402778 &  63.830808 &  62.823232 &  16.520202 & -20.642677 & -53.593434 & -28.619949\\\\\n",
       "\t1955 & -24.748737 & -36.188131 &  -2.241162 &  -8.036616 &  -4.506313 &  35.402778 &  63.830808 &  62.823232 &  16.520202 & -20.642677 & -53.593434 & -28.619949\\\\\n",
       "\t1956 & -24.748737 & -36.188131 &  -2.241162 &  -8.036616 &  -4.506313 &  35.402778 &  63.830808 &  62.823232 &  16.520202 & -20.642677 & -53.593434 & -28.619949\\\\\n",
       "\t1957 & -24.748737 & -36.188131 &  -2.241162 &  -8.036616 &  -4.506313 &  35.402778 &  63.830808 &  62.823232 &  16.520202 & -20.642677 & -53.593434 & -28.619949\\\\\n",
       "\t1958 & -24.748737 & -36.188131 &  -2.241162 &  -8.036616 &  -4.506313 &  35.402778 &  63.830808 &  62.823232 &  16.520202 & -20.642677 & -53.593434 & -28.619949\\\\\n",
       "\t1959 & -24.748737 & -36.188131 &  -2.241162 &  -8.036616 &  -4.506313 &  35.402778 &  63.830808 &  62.823232 &  16.520202 & -20.642677 & -53.593434 & -28.619949\\\\\n",
       "\t1960 & -24.748737 & -36.188131 &  -2.241162 &  -8.036616 &  -4.506313 &  35.402778 &  63.830808 &  62.823232 &  16.520202 & -20.642677 & -53.593434 & -28.619949\\\\\n",
       "\\end{tabular}\n"
      ],
      "text/plain": [
       "     Jan        Feb        Mar        Apr        May        Jun       \n",
       "1949 -24.748737 -36.188131  -2.241162  -8.036616  -4.506313  35.402778\n",
       "1950 -24.748737 -36.188131  -2.241162  -8.036616  -4.506313  35.402778\n",
       "1951 -24.748737 -36.188131  -2.241162  -8.036616  -4.506313  35.402778\n",
       "1952 -24.748737 -36.188131  -2.241162  -8.036616  -4.506313  35.402778\n",
       "1953 -24.748737 -36.188131  -2.241162  -8.036616  -4.506313  35.402778\n",
       "1954 -24.748737 -36.188131  -2.241162  -8.036616  -4.506313  35.402778\n",
       "1955 -24.748737 -36.188131  -2.241162  -8.036616  -4.506313  35.402778\n",
       "1956 -24.748737 -36.188131  -2.241162  -8.036616  -4.506313  35.402778\n",
       "1957 -24.748737 -36.188131  -2.241162  -8.036616  -4.506313  35.402778\n",
       "1958 -24.748737 -36.188131  -2.241162  -8.036616  -4.506313  35.402778\n",
       "1959 -24.748737 -36.188131  -2.241162  -8.036616  -4.506313  35.402778\n",
       "1960 -24.748737 -36.188131  -2.241162  -8.036616  -4.506313  35.402778\n",
       "     Jul        Aug        Sep        Oct        Nov        Dec       \n",
       "1949  63.830808  62.823232  16.520202 -20.642677 -53.593434 -28.619949\n",
       "1950  63.830808  62.823232  16.520202 -20.642677 -53.593434 -28.619949\n",
       "1951  63.830808  62.823232  16.520202 -20.642677 -53.593434 -28.619949\n",
       "1952  63.830808  62.823232  16.520202 -20.642677 -53.593434 -28.619949\n",
       "1953  63.830808  62.823232  16.520202 -20.642677 -53.593434 -28.619949\n",
       "1954  63.830808  62.823232  16.520202 -20.642677 -53.593434 -28.619949\n",
       "1955  63.830808  62.823232  16.520202 -20.642677 -53.593434 -28.619949\n",
       "1956  63.830808  62.823232  16.520202 -20.642677 -53.593434 -28.619949\n",
       "1957  63.830808  62.823232  16.520202 -20.642677 -53.593434 -28.619949\n",
       "1958  63.830808  62.823232  16.520202 -20.642677 -53.593434 -28.619949\n",
       "1959  63.830808  62.823232  16.520202 -20.642677 -53.593434 -28.619949\n",
       "1960  63.830808  62.823232  16.520202 -20.642677 -53.593434 -28.619949"
      ]
     },
     "metadata": {},
     "output_type": "display_data"
    }
   ],
   "source": [
    "attributes(dec)\n",
    "dec$seasonal"
   ]
  },
  {
   "cell_type": "code",
   "execution_count": 27,
   "id": "representative-sarah",
   "metadata": {
    "scrolled": false
   },
   "outputs": [
    {
     "data": {
      "image/png": "[encoded data removed]",
      "text/plain": [
       "plot without title"
      ]
     },
     "metadata": {},
     "output_type": "display_data"
    },
    {
     "data": {
      "image/png": "[encoded data removed]",
      "text/plain": [
       "plot without title"
      ]
     },
     "metadata": {},
     "output_type": "display_data"
    },
    {
     "data": {
      "image/png": "[encoded data removed]",
      "text/plain": [
       "plot without title"
      ]
     },
     "metadata": {},
     "output_type": "display_data"
    },
    {
     "data": {
      "image/png": "[encoded data removed]",
      "text/plain": [
       "plot without title"
      ]
     },
     "metadata": {},
     "output_type": "display_data"
    },
    {
     "data": {
      "image/png": "[encoded data removed]",
      "text/plain": [
       "plot without title"
      ]
     },
     "metadata": {},
     "output_type": "display_data"
    }
   ],
   "source": [
    "plot(dec)\n",
    "plot(dec$x)\n",
    "plot(dec$seasonal)\n",
    "plot(dec$trend)\n",
    "plot(dec$random)"
   ]
  },
  {
   "cell_type": "markdown",
   "id": "metallic-parallel",
   "metadata": {},
   "source": [
    "# Previsões\n",
    "---\n",
    "* Suavização exponencial: as obsevações mais recentes tem influência maior sobre as previsões futuras\n",
    "* Arima: dados estacionários"
   ]
  },
  {
   "cell_type": "markdown",
   "id": "cultural-hawaii",
   "metadata": {},
   "source": [
    "## Suavização Exponencial\n",
    "* As obsevações mais recentes tem influência maior que as previsões futuras"
   ]
  },
  {
   "cell_type": "code",
   "execution_count": 28,
   "id": "technological-session",
   "metadata": {},
   "outputs": [
    {
     "data": {
      "text/plain": [
       "ETS(M,Ad,M) \n",
       "\n",
       "Call:\n",
       " ets(y = AirPassengers) \n",
       "\n",
       "  Smoothing parameters:\n",
       "    alpha = 0.7096 \n",
       "    beta  = 0.0204 \n",
       "    gamma = 1e-04 \n",
       "    phi   = 0.98 \n",
       "\n",
       "  Initial states:\n",
       "    l = 120.9939 \n",
       "    b = 1.7705 \n",
       "    s = 0.8944 0.7993 0.9217 1.0592 1.2203 1.2318\n",
       "           1.1105 0.9786 0.9804 1.011 0.8869 0.9059\n",
       "\n",
       "  sigma:  0.0392\n",
       "\n",
       "     AIC     AICc      BIC \n",
       "1395.166 1400.638 1448.623 "
      ]
     },
     "metadata": {},
     "output_type": "display_data"
    }
   ],
   "source": [
    "ets = ets(AirPassengers)\n",
    "ets"
   ]
  },
  {
   "cell_type": "code",
   "execution_count": 30,
   "id": "revised-baker",
   "metadata": {},
   "outputs": [
    {
     "data": {
      "image/png": "[encoded data removed]",
      "text/plain": [
       "Plot with title \"Forecasts from ETS(M,Ad,M)\""
      ]
     },
     "metadata": {},
     "output_type": "display_data"
    }
   ],
   "source": [
    "# Previsão: 12 meses para frente \n",
    "predict = forecast(ets,h=12)\n",
    "plot(predict)"
   ]
  },
  {
   "cell_type": "markdown",
   "id": "seven-sheriff",
   "metadata": {},
   "source": [
    "## Arima"
   ]
  },
  {
   "cell_type": "code",
   "execution_count": 31,
   "id": "agreed-mississippi",
   "metadata": {},
   "outputs": [
    {
     "data": {
      "text/plain": [
       "Series: AirPassengers \n",
       "ARIMA(2,1,1)(0,1,0)[12] \n",
       "\n",
       "Coefficients:\n",
       "         ar1     ar2      ma1\n",
       "      0.5960  0.2143  -0.9819\n",
       "s.e.  0.0888  0.0880   0.0292\n",
       "\n",
       "sigma^2 estimated as 132.3:  log likelihood=-504.92\n",
       "AIC=1017.85   AICc=1018.17   BIC=1029.35"
      ]
     },
     "metadata": {},
     "output_type": "display_data"
    }
   ],
   "source": [
    "arima = auto.arima(AirPassengers)\n",
    "arima"
   ]
  },
  {
   "cell_type": "code",
   "execution_count": 32,
   "id": "reserved-combination",
   "metadata": {},
   "outputs": [
    {
     "data": {
      "image/png": "[encoded data removed]",
      "text/plain": [
       "Plot with title \"Forecasts from ARIMA(2,1,1)(0,1,0)[12]\""
      ]
     },
     "metadata": {},
     "output_type": "display_data"
    }
   ],
   "source": [
    "# Previsão\n",
    "predict = forecast(arima, h=12)\n",
    "plot(predict)"
   ]
  },
  {
   "cell_type": "code",
   "execution_count": null,
   "id": "mediterranean-praise",
   "metadata": {},
   "outputs": [],
   "source": []
  }
 ],
 "metadata": {
  "kernelspec": {
   "display_name": "R",
   "language": "R",
   "name": "ir"
  },
  "language_info": {
   "codemirror_mode": "r",
   "file_extension": ".r",
   "mimetype": "text/x-r-source",
   "name": "R",
   "pygments_lexer": "r",
   "version": "3.6.1"
  }
 },
 "nbformat": 4,
 "nbformat_minor": 5
}
