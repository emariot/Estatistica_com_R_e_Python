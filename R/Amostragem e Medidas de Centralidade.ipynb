{
 "cells": [
  {
   "cell_type": "markdown",
   "metadata": {},
   "source": [
    "# Amostragem e Medidas de Centralidade e Variabilidade - R"
   ]
  },
  {
   "cell_type": "markdown",
   "metadata": {},
   "source": [
    "### A amostra é parte de uma população, selecionada randomicamente, que forma o conjunto de elementos que esta sendo estudado. \n",
    "* População: todo o alvo de um estudo \n",
    "* Amostra: subconjunto da população\n",
    "* Censo: pesquisa com toda a população\n",
    "\n",
    "<strong>Quando feita corretamente, a amostra preserva as mesmas características da população de onde foi retirada, caso contrário ela poderá estar enviesada.</strong>\n",
    "#### Viés: subestima ou superestimação da população.\n",
    "* Pesquisa de elementos de fácil acesso\n",
    "* Pesquisas pela Internet (contando com pessoas que possuiem interesse na pesquisa)\n",
    "* Sem utilização mecanismos de seleção aleatória\n",
    "\n",
    "#### Custo/Benefício de uma Amostra: vantagem de não trabalhar com toda a população, poupando recursos e agilizando a captação dos dados."
   ]
  },
  {
   "cell_type": "markdown",
   "metadata": {},
   "source": [
    "### 1. Amostra Aleatória Simples: \n",
    "Determinado número de elementos é retirado da população de forma aleatória, onde qualquer elemento possui a mesma chance de ser selecionado.\n",
    "* Com reposição\n",
    "* Sem reposição"
   ]
  },
  {
   "cell_type": "markdown",
   "metadata": {},
   "source": [
    "### Banco de Dados = Íris"
   ]
  },
  {
   "cell_type": "code",
   "execution_count": 56,
   "metadata": {
    "scrolled": true
   },
   "outputs": [
    {
     "data": {
      "text/html": [
       "<table>\n",
       "<thead><tr><th scope=col>Sepal.Length</th><th scope=col>Sepal.Width</th><th scope=col>Petal.Length</th><th scope=col>Petal.Width</th><th scope=col>Species</th></tr></thead>\n",
       "<tbody>\n",
       "\t<tr><td>5.1   </td><td>3.5   </td><td>1.4   </td><td>0.2   </td><td>setosa</td></tr>\n",
       "\t<tr><td>4.9   </td><td>3.0   </td><td>1.4   </td><td>0.2   </td><td>setosa</td></tr>\n",
       "\t<tr><td>4.7   </td><td>3.2   </td><td>1.3   </td><td>0.2   </td><td>setosa</td></tr>\n",
       "\t<tr><td>4.6   </td><td>3.1   </td><td>1.5   </td><td>0.2   </td><td>setosa</td></tr>\n",
       "\t<tr><td>5.0   </td><td>3.6   </td><td>1.4   </td><td>0.2   </td><td>setosa</td></tr>\n",
       "\t<tr><td>5.4   </td><td>3.9   </td><td>1.7   </td><td>0.4   </td><td>setosa</td></tr>\n",
       "</tbody>\n",
       "</table>\n"
      ],
      "text/latex": [
       "\\begin{tabular}{r|lllll}\n",
       " Sepal.Length & Sepal.Width & Petal.Length & Petal.Width & Species\\\\\n",
       "\\hline\n",
       "\t 5.1    & 3.5    & 1.4    & 0.2    & setosa\\\\\n",
       "\t 4.9    & 3.0    & 1.4    & 0.2    & setosa\\\\\n",
       "\t 4.7    & 3.2    & 1.3    & 0.2    & setosa\\\\\n",
       "\t 4.6    & 3.1    & 1.5    & 0.2    & setosa\\\\\n",
       "\t 5.0    & 3.6    & 1.4    & 0.2    & setosa\\\\\n",
       "\t 5.4    & 3.9    & 1.7    & 0.4    & setosa\\\\\n",
       "\\end{tabular}\n"
      ],
      "text/markdown": [
       "\n",
       "| Sepal.Length | Sepal.Width | Petal.Length | Petal.Width | Species |\n",
       "|---|---|---|---|---|\n",
       "| 5.1    | 3.5    | 1.4    | 0.2    | setosa |\n",
       "| 4.9    | 3.0    | 1.4    | 0.2    | setosa |\n",
       "| 4.7    | 3.2    | 1.3    | 0.2    | setosa |\n",
       "| 4.6    | 3.1    | 1.5    | 0.2    | setosa |\n",
       "| 5.0    | 3.6    | 1.4    | 0.2    | setosa |\n",
       "| 5.4    | 3.9    | 1.7    | 0.4    | setosa |\n",
       "\n"
      ],
      "text/plain": [
       "  Sepal.Length Sepal.Width Petal.Length Petal.Width Species\n",
       "1 5.1          3.5         1.4          0.2         setosa \n",
       "2 4.9          3.0         1.4          0.2         setosa \n",
       "3 4.7          3.2         1.3          0.2         setosa \n",
       "4 4.6          3.1         1.5          0.2         setosa \n",
       "5 5.0          3.6         1.4          0.2         setosa \n",
       "6 5.4          3.9         1.7          0.4         setosa "
      ]
     },
     "metadata": {},
     "output_type": "display_data"
    }
   ],
   "source": [
    "## DB -> Iris\n",
    "head(iris)"
   ]
  },
  {
   "cell_type": "code",
   "execution_count": 52,
   "metadata": {},
   "outputs": [
    {
     "name": "stdout",
     "output_type": "stream",
     "text": [
      "Instâncias:  150 \n",
      "Atributos:  5"
     ]
    }
   ],
   "source": [
    "## Instancias e Atributos do DB/Íris\n",
    "cat('Instâncias: ', dim(iris)[1], '\\nAtributos: ', dim(iris)[2])"
   ]
  },
  {
   "cell_type": "code",
   "execution_count": 2,
   "metadata": {},
   "outputs": [],
   "source": [
    "## Gerando dados aleatórios para compor a amostra com função sample()\n",
    "amostra = sample(c(0,1), 150, replace=TRUE, prob=c(0.5, 0.5))\n"
   ]
  },
  {
   "cell_type": "code",
   "execution_count": 3,
   "metadata": {},
   "outputs": [
    {
     "data": {
      "text/html": [
       "<ol class=list-inline>\n",
       "\t<li>0</li>\n",
       "\t<li>0</li>\n",
       "\t<li>1</li>\n",
       "\t<li>1</li>\n",
       "\t<li>1</li>\n",
       "\t<li>0</li>\n",
       "</ol>\n"
      ],
      "text/latex": [
       "\\begin{enumerate*}\n",
       "\\item 0\n",
       "\\item 0\n",
       "\\item 1\n",
       "\\item 1\n",
       "\\item 1\n",
       "\\item 0\n",
       "\\end{enumerate*}\n"
      ],
      "text/markdown": [
       "1. 0\n",
       "2. 0\n",
       "3. 1\n",
       "4. 1\n",
       "5. 1\n",
       "6. 0\n",
       "\n",
       "\n"
      ],
      "text/plain": [
       "[1] 0 0 1 1 1 0"
      ]
     },
     "metadata": {},
     "output_type": "display_data"
    }
   ],
   "source": [
    "head(amostra)"
   ]
  },
  {
   "cell_type": "code",
   "execution_count": 127,
   "metadata": {},
   "outputs": [
    {
     "data": {
      "text/html": [
       "85"
      ],
      "text/latex": [
       "85"
      ],
      "text/markdown": [
       "85"
      ],
      "text/plain": [
       "[1] 85"
      ]
     },
     "metadata": {},
     "output_type": "display_data"
    }
   ],
   "source": [
    "length(amostra[amostra==1])"
   ]
  },
  {
   "cell_type": "code",
   "execution_count": 128,
   "metadata": {},
   "outputs": [
    {
     "data": {
      "text/html": [
       "65"
      ],
      "text/latex": [
       "65"
      ],
      "text/markdown": [
       "65"
      ],
      "text/plain": [
       "[1] 65"
      ]
     },
     "metadata": {},
     "output_type": "display_data"
    }
   ],
   "source": [
    "length(amostra[amostra==0])"
   ]
  },
  {
   "cell_type": "code",
   "execution_count": 133,
   "metadata": {},
   "outputs": [
    {
     "data": {
      "text/html": [
       "<table>\n",
       "<thead><tr><th></th><th scope=col>Sepal.Length</th><th scope=col>Sepal.Width</th><th scope=col>Petal.Length</th><th scope=col>Petal.Width</th><th scope=col>Species</th></tr></thead>\n",
       "<tbody>\n",
       "\t<tr><th scope=row>3</th><td>4.7   </td><td>3.2   </td><td>1.3   </td><td>0.2   </td><td>setosa</td></tr>\n",
       "\t<tr><th scope=row>5</th><td>5.0   </td><td>3.6   </td><td>1.4   </td><td>0.2   </td><td>setosa</td></tr>\n",
       "\t<tr><th scope=row>13</th><td>4.8   </td><td>3.0   </td><td>1.4   </td><td>0.1   </td><td>setosa</td></tr>\n",
       "\t<tr><th scope=row>15</th><td>5.8   </td><td>4.0   </td><td>1.2   </td><td>0.2   </td><td>setosa</td></tr>\n",
       "\t<tr><th scope=row>17</th><td>5.4   </td><td>3.9   </td><td>1.3   </td><td>0.4   </td><td>setosa</td></tr>\n",
       "\t<tr><th scope=row>18</th><td>5.1   </td><td>3.5   </td><td>1.4   </td><td>0.3   </td><td>setosa</td></tr>\n",
       "</tbody>\n",
       "</table>\n"
      ],
      "text/latex": [
       "\\begin{tabular}{r|lllll}\n",
       "  & Sepal.Length & Sepal.Width & Petal.Length & Petal.Width & Species\\\\\n",
       "\\hline\n",
       "\t3 & 4.7    & 3.2    & 1.3    & 0.2    & setosa\\\\\n",
       "\t5 & 5.0    & 3.6    & 1.4    & 0.2    & setosa\\\\\n",
       "\t13 & 4.8    & 3.0    & 1.4    & 0.1    & setosa\\\\\n",
       "\t15 & 5.8    & 4.0    & 1.2    & 0.2    & setosa\\\\\n",
       "\t17 & 5.4    & 3.9    & 1.3    & 0.4    & setosa\\\\\n",
       "\t18 & 5.1    & 3.5    & 1.4    & 0.3    & setosa\\\\\n",
       "\\end{tabular}\n"
      ],
      "text/markdown": [
       "\n",
       "| <!--/--> | Sepal.Length | Sepal.Width | Petal.Length | Petal.Width | Species |\n",
       "|---|---|---|---|---|---|\n",
       "| 3 | 4.7    | 3.2    | 1.3    | 0.2    | setosa |\n",
       "| 5 | 5.0    | 3.6    | 1.4    | 0.2    | setosa |\n",
       "| 13 | 4.8    | 3.0    | 1.4    | 0.1    | setosa |\n",
       "| 15 | 5.8    | 4.0    | 1.2    | 0.2    | setosa |\n",
       "| 17 | 5.4    | 3.9    | 1.3    | 0.4    | setosa |\n",
       "| 18 | 5.1    | 3.5    | 1.4    | 0.3    | setosa |\n",
       "\n"
      ],
      "text/plain": [
       "   Sepal.Length Sepal.Width Petal.Length Petal.Width Species\n",
       "3  4.7          3.2         1.3          0.2         setosa \n",
       "5  5.0          3.6         1.4          0.2         setosa \n",
       "13 4.8          3.0         1.4          0.1         setosa \n",
       "15 5.8          4.0         1.2          0.2         setosa \n",
       "17 5.4          3.9         1.3          0.4         setosa \n",
       "18 5.1          3.5         1.4          0.3         setosa "
      ]
     },
     "metadata": {},
     "output_type": "display_data"
    }
   ],
   "source": [
    "amostrairis_0 = iris[amostra==0,]\n",
    "head(amostrairis_0)"
   ]
  },
  {
   "cell_type": "code",
   "execution_count": 134,
   "metadata": {},
   "outputs": [
    {
     "data": {
      "text/plain": [
       "  Sepal.Length    Sepal.Width     Petal.Length    Petal.Width   \n",
       " Min.   :4.400   Min.   :2.300   Min.   :1.000   Min.   :0.100  \n",
       " 1st Qu.:5.100   1st Qu.:2.800   1st Qu.:1.600   1st Qu.:0.400  \n",
       " Median :5.800   Median :3.000   Median :4.400   Median :1.300  \n",
       " Mean   :5.898   Mean   :3.072   Mean   :3.822   Mean   :1.229  \n",
       " 3rd Qu.:6.400   3rd Qu.:3.400   3rd Qu.:5.100   3rd Qu.:1.800  \n",
       " Max.   :7.700   Max.   :4.000   Max.   :6.900   Max.   :2.500  \n",
       "       Species  \n",
       " setosa    :21  \n",
       " versicolor:21  \n",
       " virginica :23  \n",
       "                \n",
       "                \n",
       "                "
      ]
     },
     "metadata": {},
     "output_type": "display_data"
    }
   ],
   "source": [
    "summary(amostrairis_0)"
   ]
  },
  {
   "cell_type": "code",
   "execution_count": 136,
   "metadata": {},
   "outputs": [
    {
     "data": {
      "text/html": [
       "<table>\n",
       "<thead><tr><th></th><th scope=col>Sepal.Length</th><th scope=col>Sepal.Width</th><th scope=col>Petal.Length</th><th scope=col>Petal.Width</th><th scope=col>Species</th></tr></thead>\n",
       "<tbody>\n",
       "\t<tr><th scope=row>1</th><td>5.1   </td><td>3.5   </td><td>1.4   </td><td>0.2   </td><td>setosa</td></tr>\n",
       "\t<tr><th scope=row>2</th><td>4.9   </td><td>3.0   </td><td>1.4   </td><td>0.2   </td><td>setosa</td></tr>\n",
       "\t<tr><th scope=row>4</th><td>4.6   </td><td>3.1   </td><td>1.5   </td><td>0.2   </td><td>setosa</td></tr>\n",
       "\t<tr><th scope=row>6</th><td>5.4   </td><td>3.9   </td><td>1.7   </td><td>0.4   </td><td>setosa</td></tr>\n",
       "\t<tr><th scope=row>7</th><td>4.6   </td><td>3.4   </td><td>1.4   </td><td>0.3   </td><td>setosa</td></tr>\n",
       "\t<tr><th scope=row>8</th><td>5.0   </td><td>3.4   </td><td>1.5   </td><td>0.2   </td><td>setosa</td></tr>\n",
       "</tbody>\n",
       "</table>\n"
      ],
      "text/latex": [
       "\\begin{tabular}{r|lllll}\n",
       "  & Sepal.Length & Sepal.Width & Petal.Length & Petal.Width & Species\\\\\n",
       "\\hline\n",
       "\t1 & 5.1    & 3.5    & 1.4    & 0.2    & setosa\\\\\n",
       "\t2 & 4.9    & 3.0    & 1.4    & 0.2    & setosa\\\\\n",
       "\t4 & 4.6    & 3.1    & 1.5    & 0.2    & setosa\\\\\n",
       "\t6 & 5.4    & 3.9    & 1.7    & 0.4    & setosa\\\\\n",
       "\t7 & 4.6    & 3.4    & 1.4    & 0.3    & setosa\\\\\n",
       "\t8 & 5.0    & 3.4    & 1.5    & 0.2    & setosa\\\\\n",
       "\\end{tabular}\n"
      ],
      "text/markdown": [
       "\n",
       "| <!--/--> | Sepal.Length | Sepal.Width | Petal.Length | Petal.Width | Species |\n",
       "|---|---|---|---|---|---|\n",
       "| 1 | 5.1    | 3.5    | 1.4    | 0.2    | setosa |\n",
       "| 2 | 4.9    | 3.0    | 1.4    | 0.2    | setosa |\n",
       "| 4 | 4.6    | 3.1    | 1.5    | 0.2    | setosa |\n",
       "| 6 | 5.4    | 3.9    | 1.7    | 0.4    | setosa |\n",
       "| 7 | 4.6    | 3.4    | 1.4    | 0.3    | setosa |\n",
       "| 8 | 5.0    | 3.4    | 1.5    | 0.2    | setosa |\n",
       "\n"
      ],
      "text/plain": [
       "  Sepal.Length Sepal.Width Petal.Length Petal.Width Species\n",
       "1 5.1          3.5         1.4          0.2         setosa \n",
       "2 4.9          3.0         1.4          0.2         setosa \n",
       "4 4.6          3.1         1.5          0.2         setosa \n",
       "6 5.4          3.9         1.7          0.4         setosa \n",
       "7 4.6          3.4         1.4          0.3         setosa \n",
       "8 5.0          3.4         1.5          0.2         setosa "
      ]
     },
     "metadata": {},
     "output_type": "display_data"
    }
   ],
   "source": [
    "amostrairis_1 = iris[amostra==1,]\n",
    "head(amostrairis_1)"
   ]
  },
  {
   "cell_type": "code",
   "execution_count": 137,
   "metadata": {},
   "outputs": [
    {
     "data": {
      "text/plain": [
       "  Sepal.Length    Sepal.Width     Petal.Length    Petal.Width   \n",
       " Min.   :4.300   Min.   :2.000   Min.   :1.100   Min.   :0.100  \n",
       " 1st Qu.:5.100   1st Qu.:2.800   1st Qu.:1.600   1st Qu.:0.300  \n",
       " Median :5.700   Median :3.000   Median :4.300   Median :1.300  \n",
       " Mean   :5.801   Mean   :3.046   Mean   :3.709   Mean   :1.176  \n",
       " 3rd Qu.:6.300   3rd Qu.:3.300   3rd Qu.:5.100   3rd Qu.:1.800  \n",
       " Max.   :7.900   Max.   :4.400   Max.   :6.600   Max.   :2.500  \n",
       "       Species  \n",
       " setosa    :29  \n",
       " versicolor:29  \n",
       " virginica :27  \n",
       "                \n",
       "                \n",
       "                "
      ]
     },
     "metadata": {},
     "output_type": "display_data"
    }
   ],
   "source": [
    "summary(amostrairis_1)"
   ]
  },
  {
   "cell_type": "markdown",
   "metadata": {},
   "source": [
    "### 2. Amostra Estratificada:\n",
    "A população é dividida em características comuns: escolaridade, gênero, raça, idade, etc. É interessante ter um número representativo de cada grupo representativo."
   ]
  },
  {
   "cell_type": "code",
   "execution_count": 82,
   "metadata": {},
   "outputs": [
    {
     "data": {
      "text/plain": [
       "  Sepal.Length    Sepal.Width     Petal.Length    Petal.Width   \n",
       " Min.   :4.300   Min.   :2.000   Min.   :1.000   Min.   :0.100  \n",
       " 1st Qu.:5.100   1st Qu.:2.800   1st Qu.:1.600   1st Qu.:0.300  \n",
       " Median :5.800   Median :3.000   Median :4.350   Median :1.300  \n",
       " Mean   :5.843   Mean   :3.057   Mean   :3.758   Mean   :1.199  \n",
       " 3rd Qu.:6.400   3rd Qu.:3.300   3rd Qu.:5.100   3rd Qu.:1.800  \n",
       " Max.   :7.900   Max.   :4.400   Max.   :6.900   Max.   :2.500  \n",
       "       Species  \n",
       " setosa    :50  \n",
       " versicolor:50  \n",
       " virginica :50  \n",
       "                \n",
       "                \n",
       "                "
      ]
     },
     "metadata": {},
     "output_type": "display_data"
    }
   ],
   "source": [
    "summary(iris)"
   ]
  },
  {
   "cell_type": "code",
   "execution_count": 78,
   "metadata": {},
   "outputs": [],
   "source": [
    "## Gerar amostra com 25 elementos de cada espécie, escolidos aleatóriamente ccom biblioteca 'sampling' \n",
    "install.packages(\"sampling\")\n",
    "library(sampling)\n",
    "amostra2 = strata(iris, c(\"Species\"), size=c(25,25,25), method=\"srswor\")"
   ]
  },
  {
   "cell_type": "code",
   "execution_count": 84,
   "metadata": {},
   "outputs": [
    {
     "data": {
      "text/plain": [
       "       Species      ID_unit            Prob        Stratum \n",
       " setosa    :25   Min.   :  3.00   Min.   :0.5   Min.   :1  \n",
       " versicolor:25   1st Qu.: 36.50   1st Qu.:0.5   1st Qu.:1  \n",
       " virginica :25   Median : 77.00   Median :0.5   Median :2  \n",
       "                 Mean   : 77.53   Mean   :0.5   Mean   :2  \n",
       "                 3rd Qu.:117.00   3rd Qu.:0.5   3rd Qu.:3  \n",
       "                 Max.   :150.00   Max.   :0.5   Max.   :3  "
      ]
     },
     "metadata": {},
     "output_type": "display_data"
    }
   ],
   "source": [
    "summary(amostra2)"
   ]
  },
  {
   "cell_type": "markdown",
   "metadata": {},
   "source": [
    "### 2.1 Amostra estratificada proporcional à variável Categórica\n",
    "### DB: Infert"
   ]
  },
  {
   "cell_type": "code",
   "execution_count": 90,
   "metadata": {
    "scrolled": true
   },
   "outputs": [
    {
     "data": {
      "text/html": [
       "<table>\n",
       "<thead><tr><th scope=col>education</th><th scope=col>age</th><th scope=col>parity</th><th scope=col>induced</th><th scope=col>case</th><th scope=col>spontaneous</th><th scope=col>stratum</th><th scope=col>pooled.stratum</th></tr></thead>\n",
       "<tbody>\n",
       "\t<tr><td>0-5yrs </td><td>26     </td><td>6      </td><td>1      </td><td>1      </td><td>2      </td><td>1      </td><td> 3     </td></tr>\n",
       "\t<tr><td>0-5yrs </td><td>42     </td><td>1      </td><td>1      </td><td>1      </td><td>0      </td><td>2      </td><td> 1     </td></tr>\n",
       "\t<tr><td>0-5yrs </td><td>39     </td><td>6      </td><td>2      </td><td>1      </td><td>0      </td><td>3      </td><td> 4     </td></tr>\n",
       "\t<tr><td>0-5yrs </td><td>34     </td><td>4      </td><td>2      </td><td>1      </td><td>0      </td><td>4      </td><td> 2     </td></tr>\n",
       "\t<tr><td>6-11yrs</td><td>35     </td><td>3      </td><td>1      </td><td>1      </td><td>1      </td><td>5      </td><td>32     </td></tr>\n",
       "\t<tr><td>6-11yrs</td><td>36     </td><td>4      </td><td>2      </td><td>1      </td><td>1      </td><td>6      </td><td>36     </td></tr>\n",
       "</tbody>\n",
       "</table>\n"
      ],
      "text/latex": [
       "\\begin{tabular}{r|llllllll}\n",
       " education & age & parity & induced & case & spontaneous & stratum & pooled.stratum\\\\\n",
       "\\hline\n",
       "\t 0-5yrs  & 26      & 6       & 1       & 1       & 2       & 1       &  3     \\\\\n",
       "\t 0-5yrs  & 42      & 1       & 1       & 1       & 0       & 2       &  1     \\\\\n",
       "\t 0-5yrs  & 39      & 6       & 2       & 1       & 0       & 3       &  4     \\\\\n",
       "\t 0-5yrs  & 34      & 4       & 2       & 1       & 0       & 4       &  2     \\\\\n",
       "\t 6-11yrs & 35      & 3       & 1       & 1       & 1       & 5       & 32     \\\\\n",
       "\t 6-11yrs & 36      & 4       & 2       & 1       & 1       & 6       & 36     \\\\\n",
       "\\end{tabular}\n"
      ],
      "text/markdown": [
       "\n",
       "| education | age | parity | induced | case | spontaneous | stratum | pooled.stratum |\n",
       "|---|---|---|---|---|---|---|---|\n",
       "| 0-5yrs  | 26      | 6       | 1       | 1       | 2       | 1       |  3      |\n",
       "| 0-5yrs  | 42      | 1       | 1       | 1       | 0       | 2       |  1      |\n",
       "| 0-5yrs  | 39      | 6       | 2       | 1       | 0       | 3       |  4      |\n",
       "| 0-5yrs  | 34      | 4       | 2       | 1       | 0       | 4       |  2      |\n",
       "| 6-11yrs | 35      | 3       | 1       | 1       | 1       | 5       | 32      |\n",
       "| 6-11yrs | 36      | 4       | 2       | 1       | 1       | 6       | 36      |\n",
       "\n"
      ],
      "text/plain": [
       "  education age parity induced case spontaneous stratum pooled.stratum\n",
       "1 0-5yrs    26  6      1       1    2           1        3            \n",
       "2 0-5yrs    42  1      1       1    0           2        1            \n",
       "3 0-5yrs    39  6      2       1    0           3        4            \n",
       "4 0-5yrs    34  4      2       1    0           4        2            \n",
       "5 6-11yrs   35  3      1       1    1           5       32            \n",
       "6 6-11yrs   36  4      2       1    1           6       36            "
      ]
     },
     "metadata": {},
     "output_type": "display_data"
    }
   ],
   "source": [
    "##Gerando amostra proporcionalmente com DB Infert - variável: education\n",
    "head(infert)"
   ]
  },
  {
   "cell_type": "code",
   "execution_count": 89,
   "metadata": {},
   "outputs": [
    {
     "data": {
      "text/plain": [
       "   education        age            parity         induced      \n",
       " 0-5yrs : 12   Min.   :21.00   Min.   :1.000   Min.   :0.0000  \n",
       " 6-11yrs:120   1st Qu.:28.00   1st Qu.:1.000   1st Qu.:0.0000  \n",
       " 12+ yrs:116   Median :31.00   Median :2.000   Median :0.0000  \n",
       "               Mean   :31.50   Mean   :2.093   Mean   :0.5726  \n",
       "               3rd Qu.:35.25   3rd Qu.:3.000   3rd Qu.:1.0000  \n",
       "               Max.   :44.00   Max.   :6.000   Max.   :2.0000  \n",
       "      case         spontaneous        stratum      pooled.stratum \n",
       " Min.   :0.0000   Min.   :0.0000   Min.   : 1.00   Min.   : 1.00  \n",
       " 1st Qu.:0.0000   1st Qu.:0.0000   1st Qu.:21.00   1st Qu.:19.00  \n",
       " Median :0.0000   Median :0.0000   Median :42.00   Median :36.00  \n",
       " Mean   :0.3347   Mean   :0.5766   Mean   :41.87   Mean   :33.58  \n",
       " 3rd Qu.:1.0000   3rd Qu.:1.0000   3rd Qu.:62.25   3rd Qu.:48.25  \n",
       " Max.   :1.0000   Max.   :2.0000   Max.   :83.00   Max.   :63.00  "
      ]
     },
     "metadata": {},
     "output_type": "display_data"
    }
   ],
   "source": [
    "summary(infert)"
   ]
  },
  {
   "cell_type": "code",
   "execution_count": 101,
   "metadata": {},
   "outputs": [
    {
     "name": "stdout",
     "output_type": "stream",
     "text": [
      "Proporções das variáveis categóricas na amostra:\n",
      "-0-5 anos:  5 \n",
      "-6-11 anos: 48 \n",
      "-12+: 47"
     ]
    }
   ],
   "source": [
    "#Cálculo: número do estrato / tamanho da população * número da amóstra\n",
    "# 0-5:\n",
    "v1 = round(12/248 * 100)\n",
    "# 6-11:\n",
    "v2 = round(120/248 * 100)\n",
    "#12+:\n",
    "v3 = round(116/248 * 100)\n",
    "\n",
    "cat('Proporções das variáveis categóricas na amostra:\\n-0-5 anos: ', v1, '\\n-6-11 anos:', v2, '\\n-12+:', v3)"
   ]
  },
  {
   "cell_type": "code",
   "execution_count": 102,
   "metadata": {},
   "outputs": [],
   "source": [
    "astrac = strata(infert, c(\"education\"), size=c(5, 48, 47), method=\"srswor\")"
   ]
  },
  {
   "cell_type": "code",
   "execution_count": 104,
   "metadata": {},
   "outputs": [
    {
     "data": {
      "text/plain": [
       "   education     ID_unit            Prob           Stratum    \n",
       " 0-5yrs : 5   Min.   :  4.00   Min.   :0.4000   Min.   :1.00  \n",
       " 6-11yrs:48   1st Qu.: 73.75   1st Qu.:0.4000   1st Qu.:2.00  \n",
       " 12+ yrs:47   Median :129.00   Median :0.4052   Median :2.00  \n",
       "              Mean   :131.83   Mean   :0.4033   Mean   :2.42  \n",
       "              3rd Qu.:191.50   3rd Qu.:0.4052   3rd Qu.:3.00  \n",
       "              Max.   :247.00   Max.   :0.4167   Max.   :3.00  "
      ]
     },
     "metadata": {},
     "output_type": "display_data"
    }
   ],
   "source": [
    "summary(astrac)"
   ]
  },
  {
   "cell_type": "markdown",
   "metadata": {},
   "source": [
    "### 3. Amostra Sistemática:\n",
    "É selecionado um elemento aleatório para então, a cada 'n' elementos, um novo menbro ser escolhido. Bem utilizado quando não se sabe a quantidade de elementos existem na população."
   ]
  },
  {
   "cell_type": "code",
   "execution_count": 107,
   "metadata": {},
   "outputs": [],
   "source": [
    "##Dowload do pacote Teacher Sampling\n",
    "install.packages(\"TeachingSampling\")\n",
    "library(TeachingSampling)"
   ]
  },
  {
   "cell_type": "code",
   "execution_count": 113,
   "metadata": {},
   "outputs": [
    {
     "data": {
      "text/html": [
       "<table>\n",
       "<thead><tr><th></th><th scope=col>Sepal.Length</th><th scope=col>Sepal.Width</th><th scope=col>Petal.Length</th><th scope=col>Petal.Width</th><th scope=col>Species</th></tr></thead>\n",
       "<tbody>\n",
       "\t<tr><th scope=row>9</th><td>4.4       </td><td>2.9       </td><td>1.4       </td><td>0.2       </td><td>setosa    </td></tr>\n",
       "\t<tr><th scope=row>19</th><td>5.7       </td><td>3.8       </td><td>1.7       </td><td>0.3       </td><td>setosa    </td></tr>\n",
       "\t<tr><th scope=row>29</th><td>5.2       </td><td>3.4       </td><td>1.4       </td><td>0.2       </td><td>setosa    </td></tr>\n",
       "\t<tr><th scope=row>39</th><td>4.4       </td><td>3.0       </td><td>1.3       </td><td>0.2       </td><td>setosa    </td></tr>\n",
       "\t<tr><th scope=row>49</th><td>5.3       </td><td>3.7       </td><td>1.5       </td><td>0.2       </td><td>setosa    </td></tr>\n",
       "\t<tr><th scope=row>59</th><td>6.6       </td><td>2.9       </td><td>4.6       </td><td>1.3       </td><td>versicolor</td></tr>\n",
       "\t<tr><th scope=row>69</th><td>6.2       </td><td>2.2       </td><td>4.5       </td><td>1.5       </td><td>versicolor</td></tr>\n",
       "\t<tr><th scope=row>79</th><td>6.0       </td><td>2.9       </td><td>4.5       </td><td>1.5       </td><td>versicolor</td></tr>\n",
       "\t<tr><th scope=row>89</th><td>5.6       </td><td>3.0       </td><td>4.1       </td><td>1.3       </td><td>versicolor</td></tr>\n",
       "\t<tr><th scope=row>99</th><td>5.1       </td><td>2.5       </td><td>3.0       </td><td>1.1       </td><td>versicolor</td></tr>\n",
       "\t<tr><th scope=row>109</th><td>6.7       </td><td>2.5       </td><td>5.8       </td><td>1.8       </td><td>virginica </td></tr>\n",
       "\t<tr><th scope=row>119</th><td>7.7       </td><td>2.6       </td><td>6.9       </td><td>2.3       </td><td>virginica </td></tr>\n",
       "\t<tr><th scope=row>129</th><td>6.4       </td><td>2.8       </td><td>5.6       </td><td>2.1       </td><td>virginica </td></tr>\n",
       "\t<tr><th scope=row>139</th><td>6.0       </td><td>3.0       </td><td>4.8       </td><td>1.8       </td><td>virginica </td></tr>\n",
       "\t<tr><th scope=row>149</th><td>6.2       </td><td>3.4       </td><td>5.4       </td><td>2.3       </td><td>virginica </td></tr>\n",
       "</tbody>\n",
       "</table>\n"
      ],
      "text/latex": [
       "\\begin{tabular}{r|lllll}\n",
       "  & Sepal.Length & Sepal.Width & Petal.Length & Petal.Width & Species\\\\\n",
       "\\hline\n",
       "\t9 & 4.4        & 2.9        & 1.4        & 0.2        & setosa    \\\\\n",
       "\t19 & 5.7        & 3.8        & 1.7        & 0.3        & setosa    \\\\\n",
       "\t29 & 5.2        & 3.4        & 1.4        & 0.2        & setosa    \\\\\n",
       "\t39 & 4.4        & 3.0        & 1.3        & 0.2        & setosa    \\\\\n",
       "\t49 & 5.3        & 3.7        & 1.5        & 0.2        & setosa    \\\\\n",
       "\t59 & 6.6        & 2.9        & 4.6        & 1.3        & versicolor\\\\\n",
       "\t69 & 6.2        & 2.2        & 4.5        & 1.5        & versicolor\\\\\n",
       "\t79 & 6.0        & 2.9        & 4.5        & 1.5        & versicolor\\\\\n",
       "\t89 & 5.6        & 3.0        & 4.1        & 1.3        & versicolor\\\\\n",
       "\t99 & 5.1        & 2.5        & 3.0        & 1.1        & versicolor\\\\\n",
       "\t109 & 6.7        & 2.5        & 5.8        & 1.8        & virginica \\\\\n",
       "\t119 & 7.7        & 2.6        & 6.9        & 2.3        & virginica \\\\\n",
       "\t129 & 6.4        & 2.8        & 5.6        & 2.1        & virginica \\\\\n",
       "\t139 & 6.0        & 3.0        & 4.8        & 1.8        & virginica \\\\\n",
       "\t149 & 6.2        & 3.4        & 5.4        & 2.3        & virginica \\\\\n",
       "\\end{tabular}\n"
      ],
      "text/markdown": [
       "\n",
       "| <!--/--> | Sepal.Length | Sepal.Width | Petal.Length | Petal.Width | Species |\n",
       "|---|---|---|---|---|---|\n",
       "| 9 | 4.4        | 2.9        | 1.4        | 0.2        | setosa     |\n",
       "| 19 | 5.7        | 3.8        | 1.7        | 0.3        | setosa     |\n",
       "| 29 | 5.2        | 3.4        | 1.4        | 0.2        | setosa     |\n",
       "| 39 | 4.4        | 3.0        | 1.3        | 0.2        | setosa     |\n",
       "| 49 | 5.3        | 3.7        | 1.5        | 0.2        | setosa     |\n",
       "| 59 | 6.6        | 2.9        | 4.6        | 1.3        | versicolor |\n",
       "| 69 | 6.2        | 2.2        | 4.5        | 1.5        | versicolor |\n",
       "| 79 | 6.0        | 2.9        | 4.5        | 1.5        | versicolor |\n",
       "| 89 | 5.6        | 3.0        | 4.1        | 1.3        | versicolor |\n",
       "| 99 | 5.1        | 2.5        | 3.0        | 1.1        | versicolor |\n",
       "| 109 | 6.7        | 2.5        | 5.8        | 1.8        | virginica  |\n",
       "| 119 | 7.7        | 2.6        | 6.9        | 2.3        | virginica  |\n",
       "| 129 | 6.4        | 2.8        | 5.6        | 2.1        | virginica  |\n",
       "| 139 | 6.0        | 3.0        | 4.8        | 1.8        | virginica  |\n",
       "| 149 | 6.2        | 3.4        | 5.4        | 2.3        | virginica  |\n",
       "\n"
      ],
      "text/plain": [
       "    Sepal.Length Sepal.Width Petal.Length Petal.Width Species   \n",
       "9   4.4          2.9         1.4          0.2         setosa    \n",
       "19  5.7          3.8         1.7          0.3         setosa    \n",
       "29  5.2          3.4         1.4          0.2         setosa    \n",
       "39  4.4          3.0         1.3          0.2         setosa    \n",
       "49  5.3          3.7         1.5          0.2         setosa    \n",
       "59  6.6          2.9         4.6          1.3         versicolor\n",
       "69  6.2          2.2         4.5          1.5         versicolor\n",
       "79  6.0          2.9         4.5          1.5         versicolor\n",
       "89  5.6          3.0         4.1          1.3         versicolor\n",
       "99  5.1          2.5         3.0          1.1         versicolor\n",
       "109 6.7          2.5         5.8          1.8         virginica \n",
       "119 7.7          2.6         6.9          2.3         virginica \n",
       "129 6.4          2.8         5.6          2.1         virginica \n",
       "139 6.0          3.0         4.8          1.8         virginica \n",
       "149 6.2          3.4         5.4          2.3         virginica "
      ]
     },
     "metadata": {},
     "output_type": "display_data"
    }
   ],
   "source": [
    "##Amostra com 1 instância do DB Íris a cada 10 linhas\n",
    "asist = S.SY(150, 10)\n",
    "amostrairis = iris[asist,]\n",
    "amostrairis"
   ]
  },
  {
   "cell_type": "markdown",
   "metadata": {},
   "source": [
    "# Medidas de Centralidade e Variabilidade"
   ]
  },
  {
   "cell_type": "markdown",
   "metadata": {},
   "source": [
    "* µ = média da população = Σx/N -> trata-se de um parâmetro populacional\n",
    "* X = média da amostra   = Σx/n -> trata-se de uma estatística amostral\n",
    "* Moda = Valor mais frequente/comum\n",
    "* Mediana: Valor que separa a metade maior da metade menor de uma amostra ou população\n",
    "* Amplitude: Diferença entre o maior e o menor valor na amostra ou população.\n",
    "* σ^2 = Variância Populacional = Σ(xi-X)^2/N -> média dos quadrados das diferenças entre cada elemento e a média da população. Indica a dispersão dos dados em relação à média.\n",
    "* S^2 = Variância Amostral = Σ(xi-X)^2/(n-1) -> Estimativa não viciada: média dos quadrados das diferenças entre cada elemento e a média da da amóstra menos 1. O resultado é um número maior que o da Variância Populacional.\n",
    "* σ = Desvio Padrão \n",
    "* FIQ = Intervalo Interquartil = 3Q - 1Q\n",
    "\n",
    "\n",
    "<strong>Quartis:</strong>\n",
    "* Q1: 25% dos menores valores\n",
    "* Q2: 50% dos valores (mediana)\n",
    "* Q3: 75% dos maiores valores"
   ]
  },
  {
   "cell_type": "code",
   "execution_count": 17,
   "metadata": {},
   "outputs": [
    {
     "name": "stdout",
     "output_type": "stream",
     "text": [
      "A média dos salários é:  181111.1\n",
      "A mediana dos salários é:  40000\n",
      "O primeiro quartil é: 30000 \n",
      "O segundo quartil é: 40000 \n",
      "O terceiro quartil é: 250000\n",
      "O Desvio Padrão é: 255307.9"
     ]
    }
   ],
   "source": [
    "# Medidas de Centralidade e Variabilidade em Python\n",
    "salarios =c(40000, 18000, 12000, 250000, 30000, 140000, 300000, 40000, 800000)\n",
    "#Média\n",
    "x = mean(salarios)\n",
    "cat('A média dos salários é: ', x)\n",
    "#Mediana \n",
    "ma = median(salarios)\n",
    "cat('\\nA mediana dos salários é: ', ma)\n",
    "#quartis\n",
    "quartis = quantile(salarios)\n",
    "cat('\\nO primeiro quartil é:', quartis[2], '\\nO segundo quartil é:' , quartis[3], '\\nO terceiro quartil é:', quartis[4])\n",
    "#Desvio Padrão\n",
    "dp = sd(salarios)\n",
    "cat('\\nO Desvio Padrão é:', dp)\n"
   ]
  },
  {
   "cell_type": "code",
   "execution_count": 18,
   "metadata": {},
   "outputs": [
    {
     "data": {
      "text/plain": [
       "   Min. 1st Qu.  Median    Mean 3rd Qu.    Max. \n",
       "  12000   30000   40000  181111  250000  800000 "
      ]
     },
     "metadata": {},
     "output_type": "display_data"
    }
   ],
   "source": [
    "#Visualização com Summary\n",
    "summary(salarios)\n"
   ]
  },
  {
   "cell_type": "code",
   "execution_count": null,
   "metadata": {},
   "outputs": [],
   "source": []
  }
 ],
 "metadata": {
  "kernelspec": {
   "display_name": "R",
   "language": "R",
   "name": "ir"
  },
  "language_info": {
   "codemirror_mode": "r",
   "file_extension": ".r",
   "mimetype": "text/x-r-source",
   "name": "R",
   "pygments_lexer": "r",
   "version": "3.6.1"
  }
 },
 "nbformat": 4,
 "nbformat_minor": 4
}
