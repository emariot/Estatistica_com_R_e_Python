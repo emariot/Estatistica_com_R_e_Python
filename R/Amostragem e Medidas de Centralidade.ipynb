{
 "cells": [
  {
   "cell_type": "markdown",
   "metadata": {},
   "source": [
    "# Amostragem e Medidas de Centralidade e Variabilidade - R"
   ]
  },
  {
   "cell_type": "markdown",
   "metadata": {},
   "source": [
    "### A amostra é parte de uma população, selecionada randomicamente, que forma o conjunto de elementos que esta sendo estudado. \n",
    "* População: todo o alvo de um estudo \n",
    "* Amostra: subconjunto da população\n",
    "* Censo: pesquisa com toda a população\n",
    "\n",
    "<strong>Quando feita corretamente, a amostra preserva as mesmas características da população de onde foi retirada, caso contrário ela poderá estar enviesada.</strong>\n",
    "#### Viés: subestima ou superestimação da população.\n",
    "* Pesquisa de elementos de fácil acesso\n",
    "* Pesquisas pela Internet (contando com pessoas que possuiem interesse na pesquisa)\n",
    "* Sem utilização mecanismos de seleção aleatória\n",
    "\n",
    "#### Custo/Benefício de uma Amostra: vantagem de não trabalhar com toda a população, poupando recursos e agilizando a captação dos dados."
   ]
  },
  {
   "cell_type": "markdown",
   "metadata": {},
   "source": [
    "### 1. Amostra Aleatória Simples: \n",
    "Determinado número de elementos é retirado da população de forma aleatória, onde qualquer elemento possui a mesma chance de ser selecionado.\n",
    "* Com reposição\n",
    "* Sem reposição"
   ]
  },
  {
   "cell_type": "markdown",
   "metadata": {},
   "source": [
    "### Banco de Dados = Íris"
   ]
  },
  {
   "cell_type": "code",
   "execution_count": 56,
   "metadata": {
    "scrolled": true
   },
   "outputs": [
    {
     "data": {
      "text/html": [
       "<table>\n",
       "<thead><tr><th scope=col>Sepal.Length</th><th scope=col>Sepal.Width</th><th scope=col>Petal.Length</th><th scope=col>Petal.Width</th><th scope=col>Species</th></tr></thead>\n",
       "<tbody>\n",
       "\t<tr><td>5.1   </td><td>3.5   </td><td>1.4   </td><td>0.2   </td><td>setosa</td></tr>\n",
       "\t<tr><td>4.9   </td><td>3.0   </td><td>1.4   </td><td>0.2   </td><td>setosa</td></tr>\n",
       "\t<tr><td>4.7   </td><td>3.2   </td><td>1.3   </td><td>0.2   </td><td>setosa</td></tr>\n",
       "\t<tr><td>4.6   </td><td>3.1   </td><td>1.5   </td><td>0.2   </td><td>setosa</td></tr>\n",
       "\t<tr><td>5.0   </td><td>3.6   </td><td>1.4   </td><td>0.2   </td><td>setosa</td></tr>\n",
       "\t<tr><td>5.4   </td><td>3.9   </td><td>1.7   </td><td>0.4   </td><td>setosa</td></tr>\n",
       "</tbody>\n",
       "</table>\n"
      ],
      "text/latex": [
       "\\begin{tabular}{r|lllll}\n",
       " Sepal.Length & Sepal.Width & Petal.Length & Petal.Width & Species\\\\\n",
       "\\hline\n",
       "\t 5.1    & 3.5    & 1.4    & 0.2    & setosa\\\\\n",
       "\t 4.9    & 3.0    & 1.4    & 0.2    & setosa\\\\\n",
       "\t 4.7    & 3.2    & 1.3    & 0.2    & setosa\\\\\n",
       "\t 4.6    & 3.1    & 1.5    & 0.2    & setosa\\\\\n",
       "\t 5.0    & 3.6    & 1.4    & 0.2    & setosa\\\\\n",
       "\t 5.4    & 3.9    & 1.7    & 0.4    & setosa\\\\\n",
       "\\end{tabular}\n"
      ],
      "text/markdown": [
       "\n",
       "| Sepal.Length | Sepal.Width | Petal.Length | Petal.Width | Species |\n",
       "|---|---|---|---|---|\n",
       "| 5.1    | 3.5    | 1.4    | 0.2    | setosa |\n",
       "| 4.9    | 3.0    | 1.4    | 0.2    | setosa |\n",
       "| 4.7    | 3.2    | 1.3    | 0.2    | setosa |\n",
       "| 4.6    | 3.1    | 1.5    | 0.2    | setosa |\n",
       "| 5.0    | 3.6    | 1.4    | 0.2    | setosa |\n",
       "| 5.4    | 3.9    | 1.7    | 0.4    | setosa |\n",
       "\n"
      ],
      "text/plain": [
       "  Sepal.Length Sepal.Width Petal.Length Petal.Width Species\n",
       "1 5.1          3.5         1.4          0.2         setosa \n",
       "2 4.9          3.0         1.4          0.2         setosa \n",
       "3 4.7          3.2         1.3          0.2         setosa \n",
       "4 4.6          3.1         1.5          0.2         setosa \n",
       "5 5.0          3.6         1.4          0.2         setosa \n",
       "6 5.4          3.9         1.7          0.4         setosa "
      ]
     },
     "metadata": {},
     "output_type": "display_data"
    }
   ],
   "source": [
    "## DB -> Iris\n",
    "head(iris)"
   ]
  },
  {
   "cell_type": "code",
   "execution_count": 52,
   "metadata": {},
   "outputs": [
    {
     "name": "stdout",
     "output_type": "stream",
     "text": [
      "Instâncias:  150 \n",
      "Atributos:  5"
     ]
    }
   ],
   "source": [
    "## Instancias e Atributos do DB/Íris\n",
    "cat('Instâncias: ', dim(iris)[1], '\\nAtributos: ', dim(iris)[2])"
   ]
  },
  {
   "cell_type": "code",
   "execution_count": 1,
   "metadata": {},
   "outputs": [],
   "source": [
    "## Gerando dados aleatórios para compor a amostra com função sample()\n",
    "amostra = sample(c(0,1), 150, replace=TRUE, prob=c(0.5, 0.5))\n"
   ]
  },
  {
   "cell_type": "code",
   "execution_count": 2,
   "metadata": {},
   "outputs": [
    {
     "data": {
      "text/html": [
       "<ol class=list-inline>\n",
       "\t<li>1</li>\n",
       "\t<li>1</li>\n",
       "\t<li>0</li>\n",
       "\t<li>0</li>\n",
       "\t<li>1</li>\n",
       "\t<li>0</li>\n",
       "</ol>\n"
      ],
      "text/latex": [
       "\\begin{enumerate*}\n",
       "\\item 1\n",
       "\\item 1\n",
       "\\item 0\n",
       "\\item 0\n",
       "\\item 1\n",
       "\\item 0\n",
       "\\end{enumerate*}\n"
      ],
      "text/markdown": [
       "1. 1\n",
       "2. 1\n",
       "3. 0\n",
       "4. 0\n",
       "5. 1\n",
       "6. 0\n",
       "\n",
       "\n"
      ],
      "text/plain": [
       "[1] 1 1 0 0 1 0"
      ]
     },
     "metadata": {},
     "output_type": "display_data"
    }
   ],
   "source": [
    "head(amostra)"
   ]
  },
  {
   "cell_type": "code",
   "execution_count": 3,
   "metadata": {},
   "outputs": [
    {
     "data": {
      "text/html": [
       "82"
      ],
      "text/latex": [
       "82"
      ],
      "text/markdown": [
       "82"
      ],
      "text/plain": [
       "[1] 82"
      ]
     },
     "metadata": {},
     "output_type": "display_data"
    }
   ],
   "source": [
    "length(amostra[amostra==1])"
   ]
  },
  {
   "cell_type": "code",
   "execution_count": 4,
   "metadata": {},
   "outputs": [
    {
     "data": {
      "text/html": [
       "68"
      ],
      "text/latex": [
       "68"
      ],
      "text/markdown": [
       "68"
      ],
      "text/plain": [
       "[1] 68"
      ]
     },
     "metadata": {},
     "output_type": "display_data"
    }
   ],
   "source": [
    "length(amostra[amostra==0])"
   ]
  },
  {
   "cell_type": "code",
   "execution_count": 5,
   "metadata": {},
   "outputs": [
    {
     "data": {
      "text/html": [
       "<dl class=dl-horizontal>\n",
       "\t<dt>0</dt>\n",
       "\t\t<dd>68</dd>\n",
       "\t<dt>1</dt>\n",
       "\t\t<dd>82</dd>\n",
       "</dl>\n"
      ],
      "text/latex": [
       "\\begin{description*}\n",
       "\\item[0] 68\n",
       "\\item[1] 82\n",
       "\\end{description*}\n"
      ],
      "text/markdown": [
       "0\n",
       ":   681\n",
       ":   82\n",
       "\n"
      ],
      "text/plain": [
       " 0  1 \n",
       "68 82 "
      ]
     },
     "metadata": {},
     "output_type": "display_data"
    }
   ],
   "source": [
    "summary(as.factor(amostra))"
   ]
  },
  {
   "cell_type": "code",
   "execution_count": 9,
   "metadata": {},
   "outputs": [
    {
     "data": {
      "text/html": [
       "<ol class=list-inline>\n",
       "\t<li>361</li>\n",
       "\t<li>743</li>\n",
       "\t<li>561</li>\n",
       "\t<li>227</li>\n",
       "\t<li>41</li>\n",
       "\t<li>557</li>\n",
       "\t<li>860</li>\n",
       "\t<li>933</li>\n",
       "\t<li>484</li>\n",
       "\t<li>776</li>\n",
       "\t<li>9</li>\n",
       "\t<li>601</li>\n",
       "\t<li>43</li>\n",
       "\t<li>158</li>\n",
       "\t<li>825</li>\n",
       "\t<li>438</li>\n",
       "\t<li>118</li>\n",
       "\t<li>841</li>\n",
       "\t<li>971</li>\n",
       "\t<li>490</li>\n",
       "\t<li>213</li>\n",
       "\t<li>78</li>\n",
       "\t<li>162</li>\n",
       "\t<li>867</li>\n",
       "\t<li>6</li>\n",
       "\t<li>422</li>\n",
       "\t<li>588</li>\n",
       "\t<li>74</li>\n",
       "\t<li>914</li>\n",
       "\t<li>900</li>\n",
       "\t<li>14</li>\n",
       "\t<li>332</li>\n",
       "\t<li>8</li>\n",
       "\t<li>325</li>\n",
       "\t<li>0</li>\n",
       "\t<li>290</li>\n",
       "\t<li>820</li>\n",
       "\t<li>532</li>\n",
       "\t<li>814</li>\n",
       "\t<li>191</li>\n",
       "\t<li>595</li>\n",
       "\t<li>720</li>\n",
       "\t<li>130</li>\n",
       "\t<li>184</li>\n",
       "\t<li>908</li>\n",
       "\t<li>922</li>\n",
       "\t<li>476</li>\n",
       "\t<li>897</li>\n",
       "\t<li>453</li>\n",
       "\t<li>625</li>\n",
       "\t<li>442</li>\n",
       "\t<li>564</li>\n",
       "\t<li>206</li>\n",
       "\t<li>627</li>\n",
       "\t<li>726</li>\n",
       "\t<li>974</li>\n",
       "\t<li>600</li>\n",
       "\t<li>92</li>\n",
       "\t<li>70</li>\n",
       "\t<li>194</li>\n",
       "\t<li>76</li>\n",
       "\t<li>119</li>\n",
       "\t<li>122</li>\n",
       "\t<li>426</li>\n",
       "\t<li>964</li>\n",
       "\t<li>707</li>\n",
       "\t<li>772</li>\n",
       "\t<li>912</li>\n",
       "\t<li>798</li>\n",
       "\t<li>812</li>\n",
       "\t<li>100</li>\n",
       "\t<li>12</li>\n",
       "\t<li>48</li>\n",
       "\t<li>91</li>\n",
       "\t<li>522</li>\n",
       "\t<li>334</li>\n",
       "\t<li>699</li>\n",
       "\t<li>344</li>\n",
       "\t<li>114</li>\n",
       "\t<li>626</li>\n",
       "\t<li>570</li>\n",
       "\t<li>565</li>\n",
       "\t<li>866</li>\n",
       "\t<li>731</li>\n",
       "\t<li>829</li>\n",
       "\t<li>947</li>\n",
       "\t<li>409</li>\n",
       "\t<li>242</li>\n",
       "\t<li>350</li>\n",
       "\t<li>303</li>\n",
       "\t<li>217</li>\n",
       "\t<li>287</li>\n",
       "\t<li>216</li>\n",
       "\t<li>88</li>\n",
       "\t<li>939</li>\n",
       "\t<li>926</li>\n",
       "\t<li>326</li>\n",
       "\t<li>927</li>\n",
       "\t<li>951</li>\n",
       "\t<li>516</li>\n",
       "\t<li>869</li>\n",
       "\t<li>420</li>\n",
       "\t<li>218</li>\n",
       "\t<li>107</li>\n",
       "\t<li>281</li>\n",
       "\t<li>136</li>\n",
       "\t<li>718</li>\n",
       "\t<li>223</li>\n",
       "\t<li>924</li>\n",
       "\t<li>542</li>\n",
       "\t<li>52</li>\n",
       "\t<li>24</li>\n",
       "\t<li>94</li>\n",
       "\t<li>373</li>\n",
       "\t<li>910</li>\n",
       "\t<li>1000</li>\n",
       "\t<li>645</li>\n",
       "\t<li>143</li>\n",
       "\t<li>115</li>\n",
       "\t<li>664</li>\n",
       "\t<li>189</li>\n",
       "\t<li>237</li>\n",
       "\t<li>569</li>\n",
       "\t<li>618</li>\n",
       "\t<li>244</li>\n",
       "\t<li>415</li>\n",
       "\t<li>13</li>\n",
       "\t<li>209</li>\n",
       "\t<li>435</li>\n",
       "\t<li>831</li>\n",
       "\t<li>575</li>\n",
       "\t<li>519</li>\n",
       "\t<li>624</li>\n",
       "\t<li>962</li>\n",
       "\t<li>649</li>\n",
       "\t<li>728</li>\n",
       "\t<li>695</li>\n",
       "\t<li>844</li>\n",
       "\t<li>64</li>\n",
       "\t<li>511</li>\n",
       "\t<li>885</li>\n",
       "\t<li>535</li>\n",
       "\t<li>706</li>\n",
       "\t<li>232</li>\n",
       "\t<li>578</li>\n",
       "\t<li>460</li>\n",
       "\t<li>602</li>\n",
       "\t<li>730</li>\n",
       "\t<li>69</li>\n",
       "\t<li>289</li>\n",
       "</ol>\n"
      ],
      "text/latex": [
       "\\begin{enumerate*}\n",
       "\\item 361\n",
       "\\item 743\n",
       "\\item 561\n",
       "\\item 227\n",
       "\\item 41\n",
       "\\item 557\n",
       "\\item 860\n",
       "\\item 933\n",
       "\\item 484\n",
       "\\item 776\n",
       "\\item 9\n",
       "\\item 601\n",
       "\\item 43\n",
       "\\item 158\n",
       "\\item 825\n",
       "\\item 438\n",
       "\\item 118\n",
       "\\item 841\n",
       "\\item 971\n",
       "\\item 490\n",
       "\\item 213\n",
       "\\item 78\n",
       "\\item 162\n",
       "\\item 867\n",
       "\\item 6\n",
       "\\item 422\n",
       "\\item 588\n",
       "\\item 74\n",
       "\\item 914\n",
       "\\item 900\n",
       "\\item 14\n",
       "\\item 332\n",
       "\\item 8\n",
       "\\item 325\n",
       "\\item 0\n",
       "\\item 290\n",
       "\\item 820\n",
       "\\item 532\n",
       "\\item 814\n",
       "\\item 191\n",
       "\\item 595\n",
       "\\item 720\n",
       "\\item 130\n",
       "\\item 184\n",
       "\\item 908\n",
       "\\item 922\n",
       "\\item 476\n",
       "\\item 897\n",
       "\\item 453\n",
       "\\item 625\n",
       "\\item 442\n",
       "\\item 564\n",
       "\\item 206\n",
       "\\item 627\n",
       "\\item 726\n",
       "\\item 974\n",
       "\\item 600\n",
       "\\item 92\n",
       "\\item 70\n",
       "\\item 194\n",
       "\\item 76\n",
       "\\item 119\n",
       "\\item 122\n",
       "\\item 426\n",
       "\\item 964\n",
       "\\item 707\n",
       "\\item 772\n",
       "\\item 912\n",
       "\\item 798\n",
       "\\item 812\n",
       "\\item 100\n",
       "\\item 12\n",
       "\\item 48\n",
       "\\item 91\n",
       "\\item 522\n",
       "\\item 334\n",
       "\\item 699\n",
       "\\item 344\n",
       "\\item 114\n",
       "\\item 626\n",
       "\\item 570\n",
       "\\item 565\n",
       "\\item 866\n",
       "\\item 731\n",
       "\\item 829\n",
       "\\item 947\n",
       "\\item 409\n",
       "\\item 242\n",
       "\\item 350\n",
       "\\item 303\n",
       "\\item 217\n",
       "\\item 287\n",
       "\\item 216\n",
       "\\item 88\n",
       "\\item 939\n",
       "\\item 926\n",
       "\\item 326\n",
       "\\item 927\n",
       "\\item 951\n",
       "\\item 516\n",
       "\\item 869\n",
       "\\item 420\n",
       "\\item 218\n",
       "\\item 107\n",
       "\\item 281\n",
       "\\item 136\n",
       "\\item 718\n",
       "\\item 223\n",
       "\\item 924\n",
       "\\item 542\n",
       "\\item 52\n",
       "\\item 24\n",
       "\\item 94\n",
       "\\item 373\n",
       "\\item 910\n",
       "\\item 1000\n",
       "\\item 645\n",
       "\\item 143\n",
       "\\item 115\n",
       "\\item 664\n",
       "\\item 189\n",
       "\\item 237\n",
       "\\item 569\n",
       "\\item 618\n",
       "\\item 244\n",
       "\\item 415\n",
       "\\item 13\n",
       "\\item 209\n",
       "\\item 435\n",
       "\\item 831\n",
       "\\item 575\n",
       "\\item 519\n",
       "\\item 624\n",
       "\\item 962\n",
       "\\item 649\n",
       "\\item 728\n",
       "\\item 695\n",
       "\\item 844\n",
       "\\item 64\n",
       "\\item 511\n",
       "\\item 885\n",
       "\\item 535\n",
       "\\item 706\n",
       "\\item 232\n",
       "\\item 578\n",
       "\\item 460\n",
       "\\item 602\n",
       "\\item 730\n",
       "\\item 69\n",
       "\\item 289\n",
       "\\end{enumerate*}\n"
      ],
      "text/markdown": [
       "1. 361\n",
       "2. 743\n",
       "3. 561\n",
       "4. 227\n",
       "5. 41\n",
       "6. 557\n",
       "7. 860\n",
       "8. 933\n",
       "9. 484\n",
       "10. 776\n",
       "11. 9\n",
       "12. 601\n",
       "13. 43\n",
       "14. 158\n",
       "15. 825\n",
       "16. 438\n",
       "17. 118\n",
       "18. 841\n",
       "19. 971\n",
       "20. 490\n",
       "21. 213\n",
       "22. 78\n",
       "23. 162\n",
       "24. 867\n",
       "25. 6\n",
       "26. 422\n",
       "27. 588\n",
       "28. 74\n",
       "29. 914\n",
       "30. 900\n",
       "31. 14\n",
       "32. 332\n",
       "33. 8\n",
       "34. 325\n",
       "35. 0\n",
       "36. 290\n",
       "37. 820\n",
       "38. 532\n",
       "39. 814\n",
       "40. 191\n",
       "41. 595\n",
       "42. 720\n",
       "43. 130\n",
       "44. 184\n",
       "45. 908\n",
       "46. 922\n",
       "47. 476\n",
       "48. 897\n",
       "49. 453\n",
       "50. 625\n",
       "51. 442\n",
       "52. 564\n",
       "53. 206\n",
       "54. 627\n",
       "55. 726\n",
       "56. 974\n",
       "57. 600\n",
       "58. 92\n",
       "59. 70\n",
       "60. 194\n",
       "61. 76\n",
       "62. 119\n",
       "63. 122\n",
       "64. 426\n",
       "65. 964\n",
       "66. 707\n",
       "67. 772\n",
       "68. 912\n",
       "69. 798\n",
       "70. 812\n",
       "71. 100\n",
       "72. 12\n",
       "73. 48\n",
       "74. 91\n",
       "75. 522\n",
       "76. 334\n",
       "77. 699\n",
       "78. 344\n",
       "79. 114\n",
       "80. 626\n",
       "81. 570\n",
       "82. 565\n",
       "83. 866\n",
       "84. 731\n",
       "85. 829\n",
       "86. 947\n",
       "87. 409\n",
       "88. 242\n",
       "89. 350\n",
       "90. 303\n",
       "91. 217\n",
       "92. 287\n",
       "93. 216\n",
       "94. 88\n",
       "95. 939\n",
       "96. 926\n",
       "97. 326\n",
       "98. 927\n",
       "99. 951\n",
       "100. 516\n",
       "101. 869\n",
       "102. 420\n",
       "103. 218\n",
       "104. 107\n",
       "105. 281\n",
       "106. 136\n",
       "107. 718\n",
       "108. 223\n",
       "109. 924\n",
       "110. 542\n",
       "111. 52\n",
       "112. 24\n",
       "113. 94\n",
       "114. 373\n",
       "115. 910\n",
       "116. 1000\n",
       "117. 645\n",
       "118. 143\n",
       "119. 115\n",
       "120. 664\n",
       "121. 189\n",
       "122. 237\n",
       "123. 569\n",
       "124. 618\n",
       "125. 244\n",
       "126. 415\n",
       "127. 13\n",
       "128. 209\n",
       "129. 435\n",
       "130. 831\n",
       "131. 575\n",
       "132. 519\n",
       "133. 624\n",
       "134. 962\n",
       "135. 649\n",
       "136. 728\n",
       "137. 695\n",
       "138. 844\n",
       "139. 64\n",
       "140. 511\n",
       "141. 885\n",
       "142. 535\n",
       "143. 706\n",
       "144. 232\n",
       "145. 578\n",
       "146. 460\n",
       "147. 602\n",
       "148. 730\n",
       "149. 69\n",
       "150. 289\n",
       "\n",
       "\n"
      ],
      "text/plain": [
       "  [1]  361  743  561  227   41  557  860  933  484  776    9  601   43  158  825\n",
       " [16]  438  118  841  971  490  213   78  162  867    6  422  588   74  914  900\n",
       " [31]   14  332    8  325    0  290  820  532  814  191  595  720  130  184  908\n",
       " [46]  922  476  897  453  625  442  564  206  627  726  974  600   92   70  194\n",
       " [61]   76  119  122  426  964  707  772  912  798  812  100   12   48   91  522\n",
       " [76]  334  699  344  114  626  570  565  866  731  829  947  409  242  350  303\n",
       " [91]  217  287  216   88  939  926  326  927  951  516  869  420  218  107  281\n",
       "[106]  136  718  223  924  542   52   24   94  373  910 1000  645  143  115  664\n",
       "[121]  189  237  569  618  244  415   13  209  435  831  575  519  624  962  649\n",
       "[136]  728  695  844   64  511  885  535  706  232  578  460  602  730   69  289"
      ]
     },
     "metadata": {},
     "output_type": "display_data"
    }
   ],
   "source": [
    "amostra_2 = sample(c(0:1000), 150, replace=FALSE)\n",
    "amostra_2"
   ]
  },
  {
   "cell_type": "markdown",
   "metadata": {},
   "source": [
    "# Separando 70% dos dados de Iris\n",
    "---"
   ]
  },
  {
   "cell_type": "code",
   "execution_count": 11,
   "metadata": {},
   "outputs": [
    {
     "data": {
      "text/html": [
       "<dl class=dl-horizontal>\n",
       "\t<dt>0</dt>\n",
       "\t\t<dd>98</dd>\n",
       "\t<dt>1</dt>\n",
       "\t\t<dd>52</dd>\n",
       "</dl>\n"
      ],
      "text/latex": [
       "\\begin{description*}\n",
       "\\item[0] 98\n",
       "\\item[1] 52\n",
       "\\end{description*}\n"
      ],
      "text/markdown": [
       "0\n",
       ":   981\n",
       ":   52\n",
       "\n"
      ],
      "text/plain": [
       " 0  1 \n",
       "98 52 "
      ]
     },
     "metadata": {},
     "output_type": "display_data"
    }
   ],
   "source": [
    "amostra_3 = sample(c(0,1), 150, replace=TRUE, prob=c(0.7, 0.3))\n",
    "summary(as.factor(amostra_3))"
   ]
  },
  {
   "cell_type": "code",
   "execution_count": 14,
   "metadata": {},
   "outputs": [
    {
     "data": {
      "text/html": [
       "<table>\n",
       "<thead><tr><th></th><th scope=col>Sepal.Length</th><th scope=col>Sepal.Width</th><th scope=col>Petal.Length</th><th scope=col>Petal.Width</th><th scope=col>Species</th></tr></thead>\n",
       "<tbody>\n",
       "\t<tr><th scope=row>2</th><td>4.9   </td><td>3.0   </td><td>1.4   </td><td>0.2   </td><td>setosa</td></tr>\n",
       "\t<tr><th scope=row>3</th><td>4.7   </td><td>3.2   </td><td>1.3   </td><td>0.2   </td><td>setosa</td></tr>\n",
       "\t<tr><th scope=row>4</th><td>4.6   </td><td>3.1   </td><td>1.5   </td><td>0.2   </td><td>setosa</td></tr>\n",
       "\t<tr><th scope=row>5</th><td>5.0   </td><td>3.6   </td><td>1.4   </td><td>0.2   </td><td>setosa</td></tr>\n",
       "\t<tr><th scope=row>7</th><td>4.6   </td><td>3.4   </td><td>1.4   </td><td>0.3   </td><td>setosa</td></tr>\n",
       "\t<tr><th scope=row>9</th><td>4.4   </td><td>2.9   </td><td>1.4   </td><td>0.2   </td><td>setosa</td></tr>\n",
       "</tbody>\n",
       "</table>\n"
      ],
      "text/latex": [
       "\\begin{tabular}{r|lllll}\n",
       "  & Sepal.Length & Sepal.Width & Petal.Length & Petal.Width & Species\\\\\n",
       "\\hline\n",
       "\t2 & 4.9    & 3.0    & 1.4    & 0.2    & setosa\\\\\n",
       "\t3 & 4.7    & 3.2    & 1.3    & 0.2    & setosa\\\\\n",
       "\t4 & 4.6    & 3.1    & 1.5    & 0.2    & setosa\\\\\n",
       "\t5 & 5.0    & 3.6    & 1.4    & 0.2    & setosa\\\\\n",
       "\t7 & 4.6    & 3.4    & 1.4    & 0.3    & setosa\\\\\n",
       "\t9 & 4.4    & 2.9    & 1.4    & 0.2    & setosa\\\\\n",
       "\\end{tabular}\n"
      ],
      "text/markdown": [
       "\n",
       "| <!--/--> | Sepal.Length | Sepal.Width | Petal.Length | Petal.Width | Species |\n",
       "|---|---|---|---|---|---|\n",
       "| 2 | 4.9    | 3.0    | 1.4    | 0.2    | setosa |\n",
       "| 3 | 4.7    | 3.2    | 1.3    | 0.2    | setosa |\n",
       "| 4 | 4.6    | 3.1    | 1.5    | 0.2    | setosa |\n",
       "| 5 | 5.0    | 3.6    | 1.4    | 0.2    | setosa |\n",
       "| 7 | 4.6    | 3.4    | 1.4    | 0.3    | setosa |\n",
       "| 9 | 4.4    | 2.9    | 1.4    | 0.2    | setosa |\n",
       "\n"
      ],
      "text/plain": [
       "  Sepal.Length Sepal.Width Petal.Length Petal.Width Species\n",
       "2 4.9          3.0         1.4          0.2         setosa \n",
       "3 4.7          3.2         1.3          0.2         setosa \n",
       "4 4.6          3.1         1.5          0.2         setosa \n",
       "5 5.0          3.6         1.4          0.2         setosa \n",
       "7 4.6          3.4         1.4          0.3         setosa \n",
       "9 4.4          2.9         1.4          0.2         setosa "
      ]
     },
     "metadata": {},
     "output_type": "display_data"
    },
    {
     "data": {
      "text/html": [
       "<ol class=list-inline>\n",
       "\t<li>98</li>\n",
       "\t<li>5</li>\n",
       "</ol>\n"
      ],
      "text/latex": [
       "\\begin{enumerate*}\n",
       "\\item 98\n",
       "\\item 5\n",
       "\\end{enumerate*}\n"
      ],
      "text/markdown": [
       "1. 98\n",
       "2. 5\n",
       "\n",
       "\n"
      ],
      "text/plain": [
       "[1] 98  5"
      ]
     },
     "metadata": {},
     "output_type": "display_data"
    }
   ],
   "source": [
    "amostrairis_0 = iris[amostra_3==0,]\n",
    "head(amostrairis_0)\n",
    "dim(amostrairis_0)"
   ]
  },
  {
   "cell_type": "code",
   "execution_count": 134,
   "metadata": {},
   "outputs": [
    {
     "data": {
      "text/plain": [
       "  Sepal.Length    Sepal.Width     Petal.Length    Petal.Width   \n",
       " Min.   :4.400   Min.   :2.300   Min.   :1.000   Min.   :0.100  \n",
       " 1st Qu.:5.100   1st Qu.:2.800   1st Qu.:1.600   1st Qu.:0.400  \n",
       " Median :5.800   Median :3.000   Median :4.400   Median :1.300  \n",
       " Mean   :5.898   Mean   :3.072   Mean   :3.822   Mean   :1.229  \n",
       " 3rd Qu.:6.400   3rd Qu.:3.400   3rd Qu.:5.100   3rd Qu.:1.800  \n",
       " Max.   :7.700   Max.   :4.000   Max.   :6.900   Max.   :2.500  \n",
       "       Species  \n",
       " setosa    :21  \n",
       " versicolor:21  \n",
       " virginica :23  \n",
       "                \n",
       "                \n",
       "                "
      ]
     },
     "metadata": {},
     "output_type": "display_data"
    }
   ],
   "source": [
    "summary(amostrairis_0)"
   ]
  },
  {
   "cell_type": "code",
   "execution_count": 16,
   "metadata": {},
   "outputs": [
    {
     "data": {
      "text/html": [
       "<table>\n",
       "<thead><tr><th></th><th scope=col>Sepal.Length</th><th scope=col>Sepal.Width</th><th scope=col>Petal.Length</th><th scope=col>Petal.Width</th><th scope=col>Species</th></tr></thead>\n",
       "<tbody>\n",
       "\t<tr><th scope=row>1</th><td>5.1   </td><td>3.5   </td><td>1.4   </td><td>0.2   </td><td>setosa</td></tr>\n",
       "\t<tr><th scope=row>6</th><td>5.4   </td><td>3.9   </td><td>1.7   </td><td>0.4   </td><td>setosa</td></tr>\n",
       "\t<tr><th scope=row>8</th><td>5.0   </td><td>3.4   </td><td>1.5   </td><td>0.2   </td><td>setosa</td></tr>\n",
       "\t<tr><th scope=row>14</th><td>4.3   </td><td>3.0   </td><td>1.1   </td><td>0.1   </td><td>setosa</td></tr>\n",
       "\t<tr><th scope=row>16</th><td>5.7   </td><td>4.4   </td><td>1.5   </td><td>0.4   </td><td>setosa</td></tr>\n",
       "\t<tr><th scope=row>17</th><td>5.4   </td><td>3.9   </td><td>1.3   </td><td>0.4   </td><td>setosa</td></tr>\n",
       "</tbody>\n",
       "</table>\n"
      ],
      "text/latex": [
       "\\begin{tabular}{r|lllll}\n",
       "  & Sepal.Length & Sepal.Width & Petal.Length & Petal.Width & Species\\\\\n",
       "\\hline\n",
       "\t1 & 5.1    & 3.5    & 1.4    & 0.2    & setosa\\\\\n",
       "\t6 & 5.4    & 3.9    & 1.7    & 0.4    & setosa\\\\\n",
       "\t8 & 5.0    & 3.4    & 1.5    & 0.2    & setosa\\\\\n",
       "\t14 & 4.3    & 3.0    & 1.1    & 0.1    & setosa\\\\\n",
       "\t16 & 5.7    & 4.4    & 1.5    & 0.4    & setosa\\\\\n",
       "\t17 & 5.4    & 3.9    & 1.3    & 0.4    & setosa\\\\\n",
       "\\end{tabular}\n"
      ],
      "text/markdown": [
       "\n",
       "| <!--/--> | Sepal.Length | Sepal.Width | Petal.Length | Petal.Width | Species |\n",
       "|---|---|---|---|---|---|\n",
       "| 1 | 5.1    | 3.5    | 1.4    | 0.2    | setosa |\n",
       "| 6 | 5.4    | 3.9    | 1.7    | 0.4    | setosa |\n",
       "| 8 | 5.0    | 3.4    | 1.5    | 0.2    | setosa |\n",
       "| 14 | 4.3    | 3.0    | 1.1    | 0.1    | setosa |\n",
       "| 16 | 5.7    | 4.4    | 1.5    | 0.4    | setosa |\n",
       "| 17 | 5.4    | 3.9    | 1.3    | 0.4    | setosa |\n",
       "\n"
      ],
      "text/plain": [
       "   Sepal.Length Sepal.Width Petal.Length Petal.Width Species\n",
       "1  5.1          3.5         1.4          0.2         setosa \n",
       "6  5.4          3.9         1.7          0.4         setosa \n",
       "8  5.0          3.4         1.5          0.2         setosa \n",
       "14 4.3          3.0         1.1          0.1         setosa \n",
       "16 5.7          4.4         1.5          0.4         setosa \n",
       "17 5.4          3.9         1.3          0.4         setosa "
      ]
     },
     "metadata": {},
     "output_type": "display_data"
    },
    {
     "data": {
      "text/html": [
       "<ol class=list-inline>\n",
       "\t<li>52</li>\n",
       "\t<li>5</li>\n",
       "</ol>\n"
      ],
      "text/latex": [
       "\\begin{enumerate*}\n",
       "\\item 52\n",
       "\\item 5\n",
       "\\end{enumerate*}\n"
      ],
      "text/markdown": [
       "1. 52\n",
       "2. 5\n",
       "\n",
       "\n"
      ],
      "text/plain": [
       "[1] 52  5"
      ]
     },
     "metadata": {},
     "output_type": "display_data"
    }
   ],
   "source": [
    "amostrairis_1 = iris[amostra_3==1,]\n",
    "head(amostrairis_1)\n",
    "dim(amostrairis_1)"
   ]
  },
  {
   "cell_type": "code",
   "execution_count": 137,
   "metadata": {},
   "outputs": [
    {
     "data": {
      "text/plain": [
       "  Sepal.Length    Sepal.Width     Petal.Length    Petal.Width   \n",
       " Min.   :4.300   Min.   :2.000   Min.   :1.100   Min.   :0.100  \n",
       " 1st Qu.:5.100   1st Qu.:2.800   1st Qu.:1.600   1st Qu.:0.300  \n",
       " Median :5.700   Median :3.000   Median :4.300   Median :1.300  \n",
       " Mean   :5.801   Mean   :3.046   Mean   :3.709   Mean   :1.176  \n",
       " 3rd Qu.:6.300   3rd Qu.:3.300   3rd Qu.:5.100   3rd Qu.:1.800  \n",
       " Max.   :7.900   Max.   :4.400   Max.   :6.600   Max.   :2.500  \n",
       "       Species  \n",
       " setosa    :29  \n",
       " versicolor:29  \n",
       " virginica :27  \n",
       "                \n",
       "                \n",
       "                "
      ]
     },
     "metadata": {},
     "output_type": "display_data"
    }
   ],
   "source": [
    "summary(amostrairis_1)"
   ]
  },
  {
   "cell_type": "markdown",
   "metadata": {},
   "source": [
    "### 2. Amostra Estratificada:\n",
    "A população é dividida em características comuns: escolaridade, gênero, raça, idade, etc. É interessante ter um número representativo de cada grupo representativo."
   ]
  },
  {
   "cell_type": "code",
   "execution_count": 82,
   "metadata": {},
   "outputs": [
    {
     "data": {
      "text/plain": [
       "  Sepal.Length    Sepal.Width     Petal.Length    Petal.Width   \n",
       " Min.   :4.300   Min.   :2.000   Min.   :1.000   Min.   :0.100  \n",
       " 1st Qu.:5.100   1st Qu.:2.800   1st Qu.:1.600   1st Qu.:0.300  \n",
       " Median :5.800   Median :3.000   Median :4.350   Median :1.300  \n",
       " Mean   :5.843   Mean   :3.057   Mean   :3.758   Mean   :1.199  \n",
       " 3rd Qu.:6.400   3rd Qu.:3.300   3rd Qu.:5.100   3rd Qu.:1.800  \n",
       " Max.   :7.900   Max.   :4.400   Max.   :6.900   Max.   :2.500  \n",
       "       Species  \n",
       " setosa    :50  \n",
       " versicolor:50  \n",
       " virginica :50  \n",
       "                \n",
       "                \n",
       "                "
      ]
     },
     "metadata": {},
     "output_type": "display_data"
    }
   ],
   "source": [
    "summary(iris)"
   ]
  },
  {
   "cell_type": "code",
   "execution_count": 78,
   "metadata": {},
   "outputs": [],
   "source": [
    "## Gerar amostra com 25 elementos de cada espécie, escolidos aleatóriamente ccom biblioteca 'sampling' \n",
    "install.packages(\"sampling\")\n",
    "library(sampling)\n",
    "amostra2 = strata(iris, c(\"Species\"), size=c(25,25,25), method=\"srswor\")"
   ]
  },
  {
   "cell_type": "code",
   "execution_count": 84,
   "metadata": {},
   "outputs": [
    {
     "data": {
      "text/plain": [
       "       Species      ID_unit            Prob        Stratum \n",
       " setosa    :25   Min.   :  3.00   Min.   :0.5   Min.   :1  \n",
       " versicolor:25   1st Qu.: 36.50   1st Qu.:0.5   1st Qu.:1  \n",
       " virginica :25   Median : 77.00   Median :0.5   Median :2  \n",
       "                 Mean   : 77.53   Mean   :0.5   Mean   :2  \n",
       "                 3rd Qu.:117.00   3rd Qu.:0.5   3rd Qu.:3  \n",
       "                 Max.   :150.00   Max.   :0.5   Max.   :3  "
      ]
     },
     "metadata": {},
     "output_type": "display_data"
    }
   ],
   "source": [
    "summary(amostra2)"
   ]
  },
  {
   "cell_type": "markdown",
   "metadata": {},
   "source": [
    "### 2.1 Amostra estratificada proporcional à variável Categórica\n",
    "### DB: Infert"
   ]
  },
  {
   "cell_type": "code",
   "execution_count": 90,
   "metadata": {
    "scrolled": true
   },
   "outputs": [
    {
     "data": {
      "text/html": [
       "<table>\n",
       "<thead><tr><th scope=col>education</th><th scope=col>age</th><th scope=col>parity</th><th scope=col>induced</th><th scope=col>case</th><th scope=col>spontaneous</th><th scope=col>stratum</th><th scope=col>pooled.stratum</th></tr></thead>\n",
       "<tbody>\n",
       "\t<tr><td>0-5yrs </td><td>26     </td><td>6      </td><td>1      </td><td>1      </td><td>2      </td><td>1      </td><td> 3     </td></tr>\n",
       "\t<tr><td>0-5yrs </td><td>42     </td><td>1      </td><td>1      </td><td>1      </td><td>0      </td><td>2      </td><td> 1     </td></tr>\n",
       "\t<tr><td>0-5yrs </td><td>39     </td><td>6      </td><td>2      </td><td>1      </td><td>0      </td><td>3      </td><td> 4     </td></tr>\n",
       "\t<tr><td>0-5yrs </td><td>34     </td><td>4      </td><td>2      </td><td>1      </td><td>0      </td><td>4      </td><td> 2     </td></tr>\n",
       "\t<tr><td>6-11yrs</td><td>35     </td><td>3      </td><td>1      </td><td>1      </td><td>1      </td><td>5      </td><td>32     </td></tr>\n",
       "\t<tr><td>6-11yrs</td><td>36     </td><td>4      </td><td>2      </td><td>1      </td><td>1      </td><td>6      </td><td>36     </td></tr>\n",
       "</tbody>\n",
       "</table>\n"
      ],
      "text/latex": [
       "\\begin{tabular}{r|llllllll}\n",
       " education & age & parity & induced & case & spontaneous & stratum & pooled.stratum\\\\\n",
       "\\hline\n",
       "\t 0-5yrs  & 26      & 6       & 1       & 1       & 2       & 1       &  3     \\\\\n",
       "\t 0-5yrs  & 42      & 1       & 1       & 1       & 0       & 2       &  1     \\\\\n",
       "\t 0-5yrs  & 39      & 6       & 2       & 1       & 0       & 3       &  4     \\\\\n",
       "\t 0-5yrs  & 34      & 4       & 2       & 1       & 0       & 4       &  2     \\\\\n",
       "\t 6-11yrs & 35      & 3       & 1       & 1       & 1       & 5       & 32     \\\\\n",
       "\t 6-11yrs & 36      & 4       & 2       & 1       & 1       & 6       & 36     \\\\\n",
       "\\end{tabular}\n"
      ],
      "text/markdown": [
       "\n",
       "| education | age | parity | induced | case | spontaneous | stratum | pooled.stratum |\n",
       "|---|---|---|---|---|---|---|---|\n",
       "| 0-5yrs  | 26      | 6       | 1       | 1       | 2       | 1       |  3      |\n",
       "| 0-5yrs  | 42      | 1       | 1       | 1       | 0       | 2       |  1      |\n",
       "| 0-5yrs  | 39      | 6       | 2       | 1       | 0       | 3       |  4      |\n",
       "| 0-5yrs  | 34      | 4       | 2       | 1       | 0       | 4       |  2      |\n",
       "| 6-11yrs | 35      | 3       | 1       | 1       | 1       | 5       | 32      |\n",
       "| 6-11yrs | 36      | 4       | 2       | 1       | 1       | 6       | 36      |\n",
       "\n"
      ],
      "text/plain": [
       "  education age parity induced case spontaneous stratum pooled.stratum\n",
       "1 0-5yrs    26  6      1       1    2           1        3            \n",
       "2 0-5yrs    42  1      1       1    0           2        1            \n",
       "3 0-5yrs    39  6      2       1    0           3        4            \n",
       "4 0-5yrs    34  4      2       1    0           4        2            \n",
       "5 6-11yrs   35  3      1       1    1           5       32            \n",
       "6 6-11yrs   36  4      2       1    1           6       36            "
      ]
     },
     "metadata": {},
     "output_type": "display_data"
    }
   ],
   "source": [
    "##Gerando amostra proporcionalmente com DB Infert - variável: education\n",
    "head(infert)"
   ]
  },
  {
   "cell_type": "code",
   "execution_count": 89,
   "metadata": {},
   "outputs": [
    {
     "data": {
      "text/plain": [
       "   education        age            parity         induced      \n",
       " 0-5yrs : 12   Min.   :21.00   Min.   :1.000   Min.   :0.0000  \n",
       " 6-11yrs:120   1st Qu.:28.00   1st Qu.:1.000   1st Qu.:0.0000  \n",
       " 12+ yrs:116   Median :31.00   Median :2.000   Median :0.0000  \n",
       "               Mean   :31.50   Mean   :2.093   Mean   :0.5726  \n",
       "               3rd Qu.:35.25   3rd Qu.:3.000   3rd Qu.:1.0000  \n",
       "               Max.   :44.00   Max.   :6.000   Max.   :2.0000  \n",
       "      case         spontaneous        stratum      pooled.stratum \n",
       " Min.   :0.0000   Min.   :0.0000   Min.   : 1.00   Min.   : 1.00  \n",
       " 1st Qu.:0.0000   1st Qu.:0.0000   1st Qu.:21.00   1st Qu.:19.00  \n",
       " Median :0.0000   Median :0.0000   Median :42.00   Median :36.00  \n",
       " Mean   :0.3347   Mean   :0.5766   Mean   :41.87   Mean   :33.58  \n",
       " 3rd Qu.:1.0000   3rd Qu.:1.0000   3rd Qu.:62.25   3rd Qu.:48.25  \n",
       " Max.   :1.0000   Max.   :2.0000   Max.   :83.00   Max.   :63.00  "
      ]
     },
     "metadata": {},
     "output_type": "display_data"
    }
   ],
   "source": [
    "summary(infert)"
   ]
  },
  {
   "cell_type": "code",
   "execution_count": 101,
   "metadata": {},
   "outputs": [
    {
     "name": "stdout",
     "output_type": "stream",
     "text": [
      "Proporções das variáveis categóricas na amostra:\n",
      "-0-5 anos:  5 \n",
      "-6-11 anos: 48 \n",
      "-12+: 47"
     ]
    }
   ],
   "source": [
    "#Cálculo: número do estrato / tamanho da população * número da amóstra\n",
    "# 0-5:\n",
    "v1 = round(12/248 * 100)\n",
    "# 6-11:\n",
    "v2 = round(120/248 * 100)\n",
    "#12+:\n",
    "v3 = round(116/248 * 100)\n",
    "\n",
    "cat('Proporções das variáveis categóricas na amostra:\\n-0-5 anos: ', v1, '\\n-6-11 anos:', v2, '\\n-12+:', v3)"
   ]
  },
  {
   "cell_type": "code",
   "execution_count": 102,
   "metadata": {},
   "outputs": [],
   "source": [
    "astrac = strata(infert, c(\"education\"), size=c(5, 48, 47), method=\"srswor\")"
   ]
  },
  {
   "cell_type": "code",
   "execution_count": 104,
   "metadata": {},
   "outputs": [
    {
     "data": {
      "text/plain": [
       "   education     ID_unit            Prob           Stratum    \n",
       " 0-5yrs : 5   Min.   :  4.00   Min.   :0.4000   Min.   :1.00  \n",
       " 6-11yrs:48   1st Qu.: 73.75   1st Qu.:0.4000   1st Qu.:2.00  \n",
       " 12+ yrs:47   Median :129.00   Median :0.4052   Median :2.00  \n",
       "              Mean   :131.83   Mean   :0.4033   Mean   :2.42  \n",
       "              3rd Qu.:191.50   3rd Qu.:0.4052   3rd Qu.:3.00  \n",
       "              Max.   :247.00   Max.   :0.4167   Max.   :3.00  "
      ]
     },
     "metadata": {},
     "output_type": "display_data"
    }
   ],
   "source": [
    "summary(astrac)"
   ]
  },
  {
   "cell_type": "markdown",
   "metadata": {},
   "source": [
    "### 3. Amostra Sistemática:\n",
    "É selecionado um elemento aleatório para então, a cada 'n' elementos, um novo menbro ser escolhido. Bem utilizado quando não se sabe a quantidade de elementos existem na população."
   ]
  },
  {
   "cell_type": "code",
   "execution_count": 1,
   "metadata": {},
   "outputs": [
    {
     "name": "stdout",
     "output_type": "stream",
     "text": [
      "package 'TeachingSampling' successfully unpacked and MD5 sums checked\n",
      "\n",
      "The downloaded binary packages are in\n",
      "\tC:\\Users\\Mariot\\AppData\\Local\\Temp\\RtmpUx1cYZ\\downloaded_packages\n"
     ]
    },
    {
     "name": "stderr",
     "output_type": "stream",
     "text": [
      "Warning message:\n",
      "\"package 'TeachingSampling' was built under R version 3.6.3\"Loading required package: dplyr\n",
      "\n",
      "Attaching package: 'dplyr'\n",
      "\n",
      "The following objects are masked from 'package:stats':\n",
      "\n",
      "    filter, lag\n",
      "\n",
      "The following objects are masked from 'package:base':\n",
      "\n",
      "    intersect, setdiff, setequal, union\n",
      "\n",
      "Loading required package: magrittr\n"
     ]
    }
   ],
   "source": [
    "##Dowload do pacote Teacher Sampling\n",
    "install.packages(\"TeachingSampling\")\n",
    "library(TeachingSampling)"
   ]
  },
  {
   "cell_type": "code",
   "execution_count": 5,
   "metadata": {},
   "outputs": [
    {
     "data": {
      "text/html": [
       "<table>\n",
       "<tbody>\n",
       "\t<tr><td>  8</td></tr>\n",
       "\t<tr><td> 18</td></tr>\n",
       "\t<tr><td> 28</td></tr>\n",
       "\t<tr><td> 38</td></tr>\n",
       "\t<tr><td> 48</td></tr>\n",
       "\t<tr><td> 58</td></tr>\n",
       "\t<tr><td> 68</td></tr>\n",
       "\t<tr><td> 78</td></tr>\n",
       "\t<tr><td> 88</td></tr>\n",
       "\t<tr><td> 98</td></tr>\n",
       "\t<tr><td>108</td></tr>\n",
       "\t<tr><td>118</td></tr>\n",
       "\t<tr><td>128</td></tr>\n",
       "\t<tr><td>138</td></tr>\n",
       "\t<tr><td>148</td></tr>\n",
       "</tbody>\n",
       "</table>\n"
      ],
      "text/latex": [
       "\\begin{tabular}{l}\n",
       "\t   8\\\\\n",
       "\t  18\\\\\n",
       "\t  28\\\\\n",
       "\t  38\\\\\n",
       "\t  48\\\\\n",
       "\t  58\\\\\n",
       "\t  68\\\\\n",
       "\t  78\\\\\n",
       "\t  88\\\\\n",
       "\t  98\\\\\n",
       "\t 108\\\\\n",
       "\t 118\\\\\n",
       "\t 128\\\\\n",
       "\t 138\\\\\n",
       "\t 148\\\\\n",
       "\\end{tabular}\n"
      ],
      "text/markdown": [
       "\n",
       "|   8 |\n",
       "|  18 |\n",
       "|  28 |\n",
       "|  38 |\n",
       "|  48 |\n",
       "|  58 |\n",
       "|  68 |\n",
       "|  78 |\n",
       "|  88 |\n",
       "|  98 |\n",
       "| 108 |\n",
       "| 118 |\n",
       "| 128 |\n",
       "| 138 |\n",
       "| 148 |\n",
       "\n"
      ],
      "text/plain": [
       "      [,1]\n",
       " [1,]   8 \n",
       " [2,]  18 \n",
       " [3,]  28 \n",
       " [4,]  38 \n",
       " [5,]  48 \n",
       " [6,]  58 \n",
       " [7,]  68 \n",
       " [8,]  78 \n",
       " [9,]  88 \n",
       "[10,]  98 \n",
       "[11,] 108 \n",
       "[12,] 118 \n",
       "[13,] 128 \n",
       "[14,] 138 \n",
       "[15,] 148 "
      ]
     },
     "metadata": {},
     "output_type": "display_data"
    }
   ],
   "source": [
    "##Amostra com 1 instância do DB Íris a cada 10 linhas\n",
    "asist = S.SY(150, 10)\n",
    "asist\n"
   ]
  },
  {
   "cell_type": "code",
   "execution_count": 6,
   "metadata": {},
   "outputs": [
    {
     "data": {
      "text/html": [
       "<table>\n",
       "<thead><tr><th></th><th scope=col>Sepal.Length</th><th scope=col>Sepal.Width</th><th scope=col>Petal.Length</th><th scope=col>Petal.Width</th><th scope=col>Species</th></tr></thead>\n",
       "<tbody>\n",
       "\t<tr><th scope=row>8</th><td>5.0       </td><td>3.4       </td><td>1.5       </td><td>0.2       </td><td>setosa    </td></tr>\n",
       "\t<tr><th scope=row>18</th><td>5.1       </td><td>3.5       </td><td>1.4       </td><td>0.3       </td><td>setosa    </td></tr>\n",
       "\t<tr><th scope=row>28</th><td>5.2       </td><td>3.5       </td><td>1.5       </td><td>0.2       </td><td>setosa    </td></tr>\n",
       "\t<tr><th scope=row>38</th><td>4.9       </td><td>3.6       </td><td>1.4       </td><td>0.1       </td><td>setosa    </td></tr>\n",
       "\t<tr><th scope=row>48</th><td>4.6       </td><td>3.2       </td><td>1.4       </td><td>0.2       </td><td>setosa    </td></tr>\n",
       "\t<tr><th scope=row>58</th><td>4.9       </td><td>2.4       </td><td>3.3       </td><td>1.0       </td><td>versicolor</td></tr>\n",
       "\t<tr><th scope=row>68</th><td>5.8       </td><td>2.7       </td><td>4.1       </td><td>1.0       </td><td>versicolor</td></tr>\n",
       "\t<tr><th scope=row>78</th><td>6.7       </td><td>3.0       </td><td>5.0       </td><td>1.7       </td><td>versicolor</td></tr>\n",
       "\t<tr><th scope=row>88</th><td>6.3       </td><td>2.3       </td><td>4.4       </td><td>1.3       </td><td>versicolor</td></tr>\n",
       "\t<tr><th scope=row>98</th><td>6.2       </td><td>2.9       </td><td>4.3       </td><td>1.3       </td><td>versicolor</td></tr>\n",
       "\t<tr><th scope=row>108</th><td>7.3       </td><td>2.9       </td><td>6.3       </td><td>1.8       </td><td>virginica </td></tr>\n",
       "\t<tr><th scope=row>118</th><td>7.7       </td><td>3.8       </td><td>6.7       </td><td>2.2       </td><td>virginica </td></tr>\n",
       "\t<tr><th scope=row>128</th><td>6.1       </td><td>3.0       </td><td>4.9       </td><td>1.8       </td><td>virginica </td></tr>\n",
       "\t<tr><th scope=row>138</th><td>6.4       </td><td>3.1       </td><td>5.5       </td><td>1.8       </td><td>virginica </td></tr>\n",
       "\t<tr><th scope=row>148</th><td>6.5       </td><td>3.0       </td><td>5.2       </td><td>2.0       </td><td>virginica </td></tr>\n",
       "</tbody>\n",
       "</table>\n"
      ],
      "text/latex": [
       "\\begin{tabular}{r|lllll}\n",
       "  & Sepal.Length & Sepal.Width & Petal.Length & Petal.Width & Species\\\\\n",
       "\\hline\n",
       "\t8 & 5.0        & 3.4        & 1.5        & 0.2        & setosa    \\\\\n",
       "\t18 & 5.1        & 3.5        & 1.4        & 0.3        & setosa    \\\\\n",
       "\t28 & 5.2        & 3.5        & 1.5        & 0.2        & setosa    \\\\\n",
       "\t38 & 4.9        & 3.6        & 1.4        & 0.1        & setosa    \\\\\n",
       "\t48 & 4.6        & 3.2        & 1.4        & 0.2        & setosa    \\\\\n",
       "\t58 & 4.9        & 2.4        & 3.3        & 1.0        & versicolor\\\\\n",
       "\t68 & 5.8        & 2.7        & 4.1        & 1.0        & versicolor\\\\\n",
       "\t78 & 6.7        & 3.0        & 5.0        & 1.7        & versicolor\\\\\n",
       "\t88 & 6.3        & 2.3        & 4.4        & 1.3        & versicolor\\\\\n",
       "\t98 & 6.2        & 2.9        & 4.3        & 1.3        & versicolor\\\\\n",
       "\t108 & 7.3        & 2.9        & 6.3        & 1.8        & virginica \\\\\n",
       "\t118 & 7.7        & 3.8        & 6.7        & 2.2        & virginica \\\\\n",
       "\t128 & 6.1        & 3.0        & 4.9        & 1.8        & virginica \\\\\n",
       "\t138 & 6.4        & 3.1        & 5.5        & 1.8        & virginica \\\\\n",
       "\t148 & 6.5        & 3.0        & 5.2        & 2.0        & virginica \\\\\n",
       "\\end{tabular}\n"
      ],
      "text/markdown": [
       "\n",
       "| <!--/--> | Sepal.Length | Sepal.Width | Petal.Length | Petal.Width | Species |\n",
       "|---|---|---|---|---|---|\n",
       "| 8 | 5.0        | 3.4        | 1.5        | 0.2        | setosa     |\n",
       "| 18 | 5.1        | 3.5        | 1.4        | 0.3        | setosa     |\n",
       "| 28 | 5.2        | 3.5        | 1.5        | 0.2        | setosa     |\n",
       "| 38 | 4.9        | 3.6        | 1.4        | 0.1        | setosa     |\n",
       "| 48 | 4.6        | 3.2        | 1.4        | 0.2        | setosa     |\n",
       "| 58 | 4.9        | 2.4        | 3.3        | 1.0        | versicolor |\n",
       "| 68 | 5.8        | 2.7        | 4.1        | 1.0        | versicolor |\n",
       "| 78 | 6.7        | 3.0        | 5.0        | 1.7        | versicolor |\n",
       "| 88 | 6.3        | 2.3        | 4.4        | 1.3        | versicolor |\n",
       "| 98 | 6.2        | 2.9        | 4.3        | 1.3        | versicolor |\n",
       "| 108 | 7.3        | 2.9        | 6.3        | 1.8        | virginica  |\n",
       "| 118 | 7.7        | 3.8        | 6.7        | 2.2        | virginica  |\n",
       "| 128 | 6.1        | 3.0        | 4.9        | 1.8        | virginica  |\n",
       "| 138 | 6.4        | 3.1        | 5.5        | 1.8        | virginica  |\n",
       "| 148 | 6.5        | 3.0        | 5.2        | 2.0        | virginica  |\n",
       "\n"
      ],
      "text/plain": [
       "    Sepal.Length Sepal.Width Petal.Length Petal.Width Species   \n",
       "8   5.0          3.4         1.5          0.2         setosa    \n",
       "18  5.1          3.5         1.4          0.3         setosa    \n",
       "28  5.2          3.5         1.5          0.2         setosa    \n",
       "38  4.9          3.6         1.4          0.1         setosa    \n",
       "48  4.6          3.2         1.4          0.2         setosa    \n",
       "58  4.9          2.4         3.3          1.0         versicolor\n",
       "68  5.8          2.7         4.1          1.0         versicolor\n",
       "78  6.7          3.0         5.0          1.7         versicolor\n",
       "88  6.3          2.3         4.4          1.3         versicolor\n",
       "98  6.2          2.9         4.3          1.3         versicolor\n",
       "108 7.3          2.9         6.3          1.8         virginica \n",
       "118 7.7          3.8         6.7          2.2         virginica \n",
       "128 6.1          3.0         4.9          1.8         virginica \n",
       "138 6.4          3.1         5.5          1.8         virginica \n",
       "148 6.5          3.0         5.2          2.0         virginica "
      ]
     },
     "metadata": {},
     "output_type": "display_data"
    }
   ],
   "source": [
    "amostrairis = iris[asist,]\n",
    "amostrairis"
   ]
  },
  {
   "cell_type": "markdown",
   "metadata": {},
   "source": [
    "# Medidas de Centralidade e Variabilidade"
   ]
  },
  {
   "cell_type": "markdown",
   "metadata": {},
   "source": [
    "* µ = média da população = Σx/N -> trata-se de um parâmetro populacional\n",
    "* X = média da amostra   = Σx/n -> trata-se de uma estatística amostral\n",
    "* Moda = Valor mais frequente/comum\n",
    "* Mediana: Valor que separa a metade maior da metade menor de uma amostra ou população\n",
    "* Amplitude: Diferença entre o maior e o menor valor na amostra ou população.\n",
    "* σ^2 = Variância Populacional = Σ(xi-X)^2/N -> média dos quadrados das diferenças entre cada elemento e a média da população. Indica a dispersão dos dados em relação à média.\n",
    "* S^2 = Variância Amostral = Σ(xi-X)^2/(n-1) -> Estimativa não viciada: média dos quadrados das diferenças entre cada elemento e a média da da amóstra menos 1. O resultado é um número maior que o da Variância Populacional.\n",
    "* σ = Desvio Padrão \n",
    "* FIQ = Intervalo Interquartil = 3Q - 1Q\n",
    "\n",
    "\n",
    "<strong>Quartis:</strong>\n",
    "* Q1: 25% dos menores valores\n",
    "* Q2: 50% dos valores (mediana)\n",
    "* Q3: 75% dos maiores valores"
   ]
  },
  {
   "cell_type": "code",
   "execution_count": 17,
   "metadata": {},
   "outputs": [
    {
     "name": "stdout",
     "output_type": "stream",
     "text": [
      "A média dos salários é:  181111.1\n",
      "A mediana dos salários é:  40000\n",
      "O primeiro quartil é: 30000 \n",
      "O segundo quartil é: 40000 \n",
      "O terceiro quartil é: 250000\n",
      "O Desvio Padrão é: 255307.9"
     ]
    }
   ],
   "source": [
    "# Medidas de Centralidade e Variabilidade em Python\n",
    "salarios =c(40000, 18000, 12000, 250000, 30000, 140000, 300000, 40000, 800000)\n",
    "#Média\n",
    "x = mean(salarios)\n",
    "cat('A média dos salários é: ', x)\n",
    "#Mediana \n",
    "ma = median(salarios)\n",
    "cat('\\nA mediana dos salários é: ', ma)\n",
    "#quartis\n",
    "quartis = quantile(salarios)\n",
    "cat('\\nO primeiro quartil é:', quartis[2], '\\nO segundo quartil é:' , quartis[3], '\\nO terceiro quartil é:', quartis[4])\n",
    "#Desvio Padrão\n",
    "dp = sd(salarios)\n",
    "cat('\\nO Desvio Padrão é:', dp)\n"
   ]
  },
  {
   "cell_type": "code",
   "execution_count": 18,
   "metadata": {},
   "outputs": [
    {
     "data": {
      "text/plain": [
       "   Min. 1st Qu.  Median    Mean 3rd Qu.    Max. \n",
       "  12000   30000   40000  181111  250000  800000 "
      ]
     },
     "metadata": {},
     "output_type": "display_data"
    }
   ],
   "source": [
    "#Visualização com Summary\n",
    "summary(salarios)\n"
   ]
  },
  {
   "cell_type": "code",
   "execution_count": null,
   "metadata": {},
   "outputs": [],
   "source": []
  }
 ],
 "metadata": {
  "kernelspec": {
   "display_name": "R",
   "language": "R",
   "name": "ir"
  },
  "language_info": {
   "codemirror_mode": "r",
   "file_extension": ".r",
   "mimetype": "text/x-r-source",
   "name": "R",
   "pygments_lexer": "r",
   "version": "3.6.1"
  }
 },
 "nbformat": 4,
 "nbformat_minor": 4
}
