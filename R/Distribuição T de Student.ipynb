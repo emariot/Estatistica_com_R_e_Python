{
 "cells": [
  {
   "cell_type": "markdown",
   "metadata": {},
   "source": [
    "# Distribuição T de Student\n",
    "* Utilizada quando a amostra é pequena (menor que 30)\n",
    "* Não se conhece o desvio padrão da população\n",
    "* Maior variabilidade e caldas maiores\n",
    "* Se n >= 30 ela se assemelha a uma distribuição normal\n",
    "* Grau de liberdade = (n-1)"
   ]
  },
  {
   "cell_type": "markdown",
   "metadata": {},
   "source": [
    "## Exemplo 01\n",
    "### Uma pesquisa mostra que o salário em determindo setor industrial é de 75.00 por hora. Um amostra com 9 profissionais é selecionda e perguntado o salário. O desvio padrão da amostra é de 10. Qual a probabilidade do salário ser menor que 80.00 por hora?"
   ]
  },
  {
   "cell_type": "code",
   "execution_count": 13,
   "metadata": {},
   "outputs": [
    {
     "name": "stdout",
     "output_type": "stream",
     "text": [
      "A probbilidade de ser menor que 80.00 é de: 0.914"
     ]
    }
   ],
   "source": [
    "# media = 75\n",
    "# amostra = 9\n",
    "# dp = 10\n",
    "# < 80\n",
    "# t = 1.5\n",
    "prob1 = round(pt(1.5,8), 4)\n",
    "cat('A probbilidade de ser menor que 80.00 é de:', prob1)"
   ]
  },
  {
   "cell_type": "markdown",
   "metadata": {},
   "source": [
    "### Qual a probabilidade do salário ser maior que 80.00 a hora?"
   ]
  },
  {
   "cell_type": "code",
   "execution_count": 14,
   "metadata": {},
   "outputs": [
    {
     "name": "stdout",
     "output_type": "stream",
     "text": [
      "A probbilidade de ser maior que 80.00 é de: 0.086"
     ]
    }
   ],
   "source": [
    "# media = 75\n",
    "# amostra = 9\n",
    "# dp = 10\n",
    "# > 80\n",
    "# t = 1.5\n",
    "prob2 = round(pt(1.5,8, lower.tail=F),4) \n",
    "cat('A probbilidade de ser maior que 80.00 é de:', prob2)"
   ]
  },
  {
   "cell_type": "code",
   "execution_count": 12,
   "metadata": {},
   "outputs": [
    {
     "name": "stdout",
     "output_type": "stream",
     "text": [
      "probabilidade total = 1"
     ]
    }
   ],
   "source": [
    "cat('probabilidade total =',prob1 + prob2)"
   ]
  },
  {
   "cell_type": "code",
   "execution_count": null,
   "metadata": {},
   "outputs": [],
   "source": []
  }
 ],
 "metadata": {
  "kernelspec": {
   "display_name": "R",
   "language": "R",
   "name": "ir"
  },
  "language_info": {
   "codemirror_mode": "r",
   "file_extension": ".r",
   "mimetype": "text/x-r-source",
   "name": "R",
   "pygments_lexer": "r",
   "version": "3.6.1"
  }
 },
 "nbformat": 4,
 "nbformat_minor": 4
}
